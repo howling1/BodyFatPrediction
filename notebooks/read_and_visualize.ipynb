{
 "cells": [
  {
   "cell_type": "code",
   "execution_count": null,
   "id": "47e05a72",
   "metadata": {},
   "outputs": [],
   "source": [
    "#install dependencies \n",
    "#pip install torch==1.12.1+cu113 torchvision==0.13.1+cu113 torchaudio==0.12.1 --extra-index-url https://download.pytorch.org/whl/cu113\n",
    "#pip install torch-sparse -f https://data.pyg.org/whl/torch-1.12.1+cu113.html\n",
    "#pip install torch-scatter -f https://data.pyg.org/whl/torch-1.12.1+cu113.html\n",
    "#pip install torch-geometric\n",
    "#pip install open3d\n",
    "#pip install pandas\n",
    "#pip install nibabel\n",
    "#pip install pyvista\n",
    "#pip install scikit-image"
   ]
  },
  {
   "cell_type": "code",
   "execution_count": null,
   "id": "e1b4f895",
   "metadata": {},
   "outputs": [],
   "source": [
    "from pathlib import Path\n",
    "import glob\n",
    "import os\n",
    "import numpy as np\n",
    "import pandas as pd\n",
    "from tqdm import tqdm \n",
    "import torch\n",
    "import open3d as o3d\n",
    "\n",
    "print(torch.__version__)"
   ]
  },
  {
   "cell_type": "code",
   "execution_count": null,
   "id": "0caa0ad1",
   "metadata": {},
   "outputs": [],
   "source": [
    "path = \"C:/Users/aorhu/Masaüstü/ADLM/repo/BodyMeshGNN/1119738/body_surface_mesh.pt\""
   ]
  },
  {
   "cell_type": "code",
   "execution_count": null,
   "id": "9fa29d7c",
   "metadata": {},
   "outputs": [],
   "source": [
    "data_sample = torch.load(path)"
   ]
  },
  {
   "cell_type": "code",
   "execution_count": null,
   "id": "135a6900",
   "metadata": {},
   "outputs": [],
   "source": [
    "data_sample.edge_index"
   ]
  },
  {
   "cell_type": "code",
   "execution_count": null,
   "id": "b49b4eb9",
   "metadata": {},
   "outputs": [],
   "source": [
    "data_sample.eid"
   ]
  },
  {
   "cell_type": "code",
   "execution_count": null,
   "id": "94aa39b6",
   "metadata": {},
   "outputs": [],
   "source": [
    "# with open3d: point cloud\n",
    "pcd = o3d.geometry.PointCloud()\n",
    "pcd.points = o3d.utility.Vector3dVector(np.asarray(data_sample.x))\n",
    "\n",
    "o3d.visualization.draw_geometries([pcd])"
   ]
  },
  {
   "cell_type": "code",
   "execution_count": null,
   "id": "96bcb8d9",
   "metadata": {
    "scrolled": true
   },
   "outputs": [],
   "source": [
    "# with open3d: triangle mesh \n",
    "mesh = o3d.geometry.TriangleMesh(vertices=o3d.utility.Vector3dVector(np.asarray(verts)),\n",
    "                                 triangles=o3d.utility.Vector3iVector(np.asarray(faces)))\n",
    "\n",
    "mesh.compute_vertex_normals()\n",
    "mesh.compute_convex_hull()\n",
    "o3d.visualization.draw_geometries([mesh],mesh_show_back_face=True,mesh_show_wireframe=True)\n"
   ]
  },
  {
   "cell_type": "code",
   "execution_count": null,
   "id": "59a4d526",
   "metadata": {},
   "outputs": [],
   "source": [
    "# with open3d: graph\n",
    "lines = o3d.utility.Vector2iVector(np.asarray(data_sample.edge_index.T))\n",
    "line_set = o3d.geometry.LineSet(\n",
    "        points=o3d.utility.Vector3dVector(np.asarray(data_sample.x)),\n",
    "        lines=lines)\n",
    "\n",
    "line_set.colors = o3d.utility.Vector3dVector([[1, 0, 0] for i in range(len(lines))])\n",
    "\n",
    "o3d.visualization.draw_geometries([line_set])"
   ]
  },
  {
   "cell_type": "code",
   "execution_count": null,
   "id": "1a5e3dc9",
   "metadata": {},
   "outputs": [],
   "source": [
    "# reading ID mapping\n",
    "id_map_path = \"C:/Users/aorhu/Masaüstü/ADLM/Bridge_eids_60520_87802.csv\""
   ]
  },
  {
   "cell_type": "code",
   "execution_count": null,
   "id": "5348dad3",
   "metadata": {},
   "outputs": [],
   "source": [
    "id_map = pd.read_csv(id_map_path)"
   ]
  },
  {
   "cell_type": "code",
   "execution_count": null,
   "id": "a247f276",
   "metadata": {},
   "outputs": [],
   "source": [
    "id_map"
   ]
  },
  {
   "cell_type": "code",
   "execution_count": null,
   "id": "792ee3ba",
   "metadata": {},
   "outputs": [],
   "source": [
    "# reading basic_features"
   ]
  },
  {
   "cell_type": "code",
   "execution_count": null,
   "id": "9d73b8d1",
   "metadata": {},
   "outputs": [],
   "source": [
    "basic_features_path = \"C:/Users/aorhu/Masaüstü/ADLM/basic_features.csv\""
   ]
  },
  {
   "cell_type": "code",
   "execution_count": null,
   "id": "400f4d1f",
   "metadata": {},
   "outputs": [],
   "source": [
    "basic_features = pd.read_csv(basic_features_path)"
   ]
  },
  {
   "cell_type": "code",
   "execution_count": null,
   "id": "583b229d",
   "metadata": {},
   "outputs": [],
   "source": [
    "basic_features"
   ]
  },
  {
   "cell_type": "code",
   "execution_count": null,
   "id": "b4ed3e66",
   "metadata": {},
   "outputs": [],
   "source": [
    "#reading file directories for patients into dictionary"
   ]
  },
  {
   "cell_type": "code",
   "execution_count": null,
   "id": "c3ff9269",
   "metadata": {},
   "outputs": [],
   "source": [
    "DATA_ROOT = Path(\"D:/ADLM Data/body_meshes/\")\n",
    "\n",
    "map_dict = {}"
   ]
  },
  {
   "cell_type": "code",
   "execution_count": null,
   "id": "c839b0f1",
   "metadata": {},
   "outputs": [],
   "source": [
    "for file in os.listdir(str(DATA_ROOT)):\n",
    "    _path = os.path.join(str(DATA_ROOT), file).replace('\\\\', '/')\n",
    "\n",
    "    sex = \"female\" if int(basic_features[\"31-0.0\"][basic_features.index[basic_features['eid'] == int(file)]]) == 0 else \"male\"\n",
    "    \n",
    "    map_dict[file] = dict({'path': str(_path) +'/body_surface_mesh.pt',\n",
    "                           'old_id': int(id_map[\"eid_60520\"][id_map.index[id_map['eid_87802'] == int(file)]]),\n",
    "                           'sex': sex})"
   ]
  },
  {
   "cell_type": "code",
   "execution_count": null,
   "id": "4a230bcc",
   "metadata": {},
   "outputs": [],
   "source": [
    "for file in tqdm(os.listdir(str(DATA_ROOT))):\n",
    "    _path = os.path.join(str(DATA_ROOT), file).replace('\\\\', '/')\n"
   ]
  },
  {
   "cell_type": "code",
   "execution_count": null,
   "id": "a6170d81",
   "metadata": {},
   "outputs": [],
   "source": [
    "map_dict"
   ]
  },
  {
   "cell_type": "code",
   "execution_count": null,
   "id": "2cb2131f",
   "metadata": {},
   "outputs": [],
   "source": [
    "len(map_dict)"
   ]
  },
  {
   "cell_type": "code",
   "execution_count": null,
   "id": "09bfb62a",
   "metadata": {},
   "outputs": [],
   "source": [
    "def edge_visualize(_index, _dict):\n",
    "    \n",
    "    sample = torch.load(_dict[_index][\"path\"])\n",
    "    \n",
    "    lines = o3d.utility.Vector2iVector(np.asarray(sample.edge_index.T))\n",
    "    line_set = o3d.geometry.LineSet(\n",
    "        points=o3d.utility.Vector3dVector(np.asarray(sample.x)),\n",
    "        lines=lines)\n",
    "\n",
    "    line_set.colors = o3d.utility.Vector3dVector([[1, 0, 0] for i in range(len(lines))])\n",
    "\n",
    "    o3d.visualization.draw_geometries([line_set])\n",
    "    \n",
    "def point_cloud_visualize(_index, _dict):\n",
    "    \n",
    "    sample = torch.load(_dict[_index][\"path\"])\n",
    "    \n",
    "    pcd = o3d.geometry.PointCloud(points = o3d.utility.Vector3dVector(np.asarray(sample.x)))\n",
    "\n",
    "    o3d.visualization.draw_geometries([pcd])"
   ]
  },
  {
   "cell_type": "code",
   "execution_count": null,
   "id": "dfc2d5a5",
   "metadata": {},
   "outputs": [],
   "source": [
    "edge_visualize(\"1009499\", map_dict)"
   ]
  },
  {
   "cell_type": "code",
   "execution_count": null,
   "id": "398f65c8",
   "metadata": {},
   "outputs": [],
   "source": [
    "path = \"C:/Users/aorhu/Masaüstü/1000071/spleen_mesh.pt\"\n",
    "sample = torch.load(path)"
   ]
  },
  {
   "cell_type": "code",
   "execution_count": null,
   "id": "9571ef14",
   "metadata": {},
   "outputs": [],
   "source": [
    "pcd = o3d.geometry.PointCloud()\n",
    "pcd.points = o3d.utility.Vector3dVector(np.asarray(sample.x))\n",
    "\n",
    "o3d.visualization.draw_geometries([pcd])"
   ]
  },
  {
   "cell_type": "code",
   "execution_count": null,
   "id": "625520f1",
   "metadata": {},
   "outputs": [],
   "source": [
    "lines = o3d.utility.Vector2iVector(np.asarray(sample.edge_index.T))\n",
    "line_set = o3d.geometry.LineSet(\n",
    "        points=o3d.utility.Vector3dVector(np.asarray(sample.x)),\n",
    "        lines=lines)\n",
    "\n",
    "line_set.colors = o3d.utility.Vector3dVector([[1, 0, 0] for i in range(len(lines))])\n",
    "\n",
    "o3d.visualization.draw_geometries([line_set])"
   ]
  },
  {
   "cell_type": "markdown",
   "id": "896b503f",
   "metadata": {},
   "source": [
    "# Mesh Visualization from Segmentation Data"
   ]
  },
  {
   "cell_type": "code",
   "execution_count": null,
   "id": "fb8e0de9",
   "metadata": {},
   "outputs": [],
   "source": [
    "import matplotlib.pyplot as plt\n",
    "import nibabel as nib\n",
    "import os\n",
    "from mpl_toolkits.mplot3d.art3d import Poly3DCollection\n",
    "import pyvista\n",
    "from skimage.measure import marching_cubes\n",
    "import numpy as np"
   ]
  },
  {
   "cell_type": "code",
   "execution_count": null,
   "id": "da85d185",
   "metadata": {},
   "outputs": [],
   "source": [
    "def pad_edge_list(edges):\n",
    "    padding = np.ones(edges.shape[0], int)*3\n",
    "    edges_w_padding = np.vstack((padding, edges.T)).T\n",
    "    return edges_w_padding"
   ]
  },
  {
   "cell_type": "code",
   "execution_count": null,
   "id": "8e14bbc5",
   "metadata": {},
   "outputs": [],
   "source": [
    "path = \"C:/Users/aorhu/Masaüstü/body_mask.nii.gz\""
   ]
  },
  {
   "cell_type": "code",
   "execution_count": null,
   "id": "4316f2e4",
   "metadata": {},
   "outputs": [],
   "source": [
    "body_segment = nib.load(path)\n",
    "body_segment_data = body_segment.get_fdata()"
   ]
  },
  {
   "cell_type": "code",
   "execution_count": null,
   "id": "df2affa9",
   "metadata": {},
   "outputs": [],
   "source": [
    "verts, faces, norms, vals = marching_cubes(body_segment_data, level=0, step_size=1)"
   ]
  },
  {
   "cell_type": "code",
   "execution_count": null,
   "id": "fa177678",
   "metadata": {},
   "outputs": [],
   "source": [
    "verts = verts/np.array(body_segment_data.shape) "
   ]
  },
  {
   "cell_type": "code",
   "execution_count": null,
   "id": "8124467d",
   "metadata": {},
   "outputs": [],
   "source": [
    "verts"
   ]
  },
  {
   "cell_type": "code",
   "execution_count": null,
   "id": "62de0add",
   "metadata": {},
   "outputs": [],
   "source": [
    "edges = np.concatenate((faces[:,:2], faces[:,1:]), axis=0)"
   ]
  },
  {
   "cell_type": "code",
   "execution_count": null,
   "id": "053f7467",
   "metadata": {},
   "outputs": [],
   "source": [
    "len(faces)"
   ]
  },
  {
   "cell_type": "code",
   "execution_count": null,
   "id": "10b4fa0c",
   "metadata": {},
   "outputs": [],
   "source": [
    "pyvista.set_plot_theme(\"default\")\n",
    "plotter = pyvista.Plotter(shape=(1, 1), window_size=[1000, 500], border=False)\n",
    "#plotter = pyvista.Plotter(notebook=False)\n",
    "\n",
    "plotter.subplot(0, 0)\n",
    "lines = np.concatenate((np.int32(2*np.ones((edges.shape[0],1))), edges), 1)\n",
    "mesh = pyvista.PolyData(verts, pad_edge_list(faces))\n",
    "mesh.lines = lines.flatten()\n",
    "plotter.add_mesh(mesh, render_points_as_spheres=False, color=\"lightcoral\", show_edges=True, line_width=1, edge_color='mediumorchid', point_size=2, )\n",
    "plotter.show()"
   ]
  },
  {
   "cell_type": "code",
   "execution_count": null,
   "id": "b3e13dde",
   "metadata": {},
   "outputs": [],
   "source": [
    "mesh = o3d.geometry.TriangleMesh(vertices=o3d.utility.Vector3dVector(np.asarray(verts)),\n",
    "                                 triangles=o3d.utility.Vector3iVector(np.asarray(faces)))\n",
    "\n",
    "mesh.compute_vertex_normals()\n",
    "mesh.compute_convex_hull()\n",
    "o3d.visualization.draw_geometries([mesh],mesh_show_back_face=True,mesh_show_wireframe=False)\n"
   ]
  },
  {
   "cell_type": "code",
   "execution_count": null,
   "id": "70155ed8",
   "metadata": {},
   "outputs": [],
   "source": []
  }
 ],
 "metadata": {
  "kernelspec": {
   "display_name": "Python 3 (ipykernel)",
   "language": "python",
   "name": "python3"
  },
  "language_info": {
   "codemirror_mode": {
    "name": "ipython",
    "version": 3
   },
   "file_extension": ".py",
   "mimetype": "text/x-python",
   "name": "python",
   "nbconvert_exporter": "python",
   "pygments_lexer": "ipython3",
   "version": "3.11.0"
  },
  "vscode": {
   "interpreter": {
    "hash": "c1b4a9ce0126c7c6f1d5c93f5f744f89fa6f3ec67df4fb96740f02f79432b80e"
   }
  }
 },
 "nbformat": 4,
 "nbformat_minor": 5
}
