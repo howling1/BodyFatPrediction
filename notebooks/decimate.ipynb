{
 "cells": [
  {
   "cell_type": "code",
   "execution_count": 1,
   "metadata": {},
   "outputs": [
    {
     "name": "stdout",
     "output_type": "stream",
     "text": [
      "Jupyter environment detected. Enabling Open3D WebVisualizer.\n",
      "[Open3D INFO] WebRTC GUI backend enabled.\n",
      "[Open3D INFO] WebRTCWindowSystem: HTTP handshake server disabled.\n"
     ]
    }
   ],
   "source": [
    "from pathlib import Path\n",
    "import glob\n",
    "import os\n",
    "import numpy as np\n",
    "import pandas as pd\n",
    "from tqdm import tqdm\n",
    "\n",
    "import open3d as o3d\n",
    "import nibabel as nib\n",
    "from skimage.measure import marching_cubes\n"
   ]
  },
  {
   "cell_type": "code",
   "execution_count": 7,
   "metadata": {},
   "outputs": [],
   "source": [
    "DATA_ROOT = Path(\"D:/ADLM_Data/samples\")\n",
    "TARGET_ROOT = \"D:/ADLM_Data/decimated\"\n",
    "VERTICES = 25000\n",
    "EXTENSION = \".ply\"\n",
    "LIMIT = 2\n",
    "COUNT = 0"
   ]
  },
  {
   "cell_type": "code",
   "execution_count": 8,
   "metadata": {},
   "outputs": [
    {
     "name": "stderr",
     "output_type": "stream",
     "text": [
      " 25%|█████████████████████                                                               | 1/4 [00:07<00:22,  7.46s/it]"
     ]
    },
    {
     "name": "stdout",
     "output_type": "stream",
     "text": [
      "\r",
      "0written"
     ]
    },
    {
     "name": "stderr",
     "output_type": "stream",
     "text": [
      " 50%|██████████████████████████████████████████                                          | 2/4 [00:14<00:14,  7.07s/it]"
     ]
    },
    {
     "name": "stdout",
     "output_type": "stream",
     "text": [
      "\r",
      "1written"
     ]
    },
    {
     "name": "stderr",
     "output_type": "stream",
     "text": [
      "\n"
     ]
    }
   ],
   "source": [
    "for file in tqdm(os.listdir(str(DATA_ROOT))):\n",
    "    _path = str(os.path.join(str(DATA_ROOT), file).replace('\\\\', '/')) +'/body_mask.nii.gz'\n",
    "    \n",
    "    _id = _path[_path[:_path.rfind(\"/\")].rfind(\"/\")+1:_path.rfind(\"/\",0,)]\n",
    "    \n",
    "    if (LIMIT > COUNT) :\n",
    "        if(os.path.exists(_path)):\n",
    "        \n",
    "            body_segment = nib.load(_path)\n",
    "            body_segment_data = body_segment.get_fdata()\n",
    "\n",
    "            verts, faces, _, __ = marching_cubes(body_segment_data, level=0, step_size=1)\n",
    "            verts = verts/np.array(body_segment_data.shape) \n",
    "\n",
    "            mesh = o3d.geometry.TriangleMesh(vertices=o3d.utility.Vector3dVector(np.asarray(verts)),\n",
    "                                        triangles=o3d.utility.Vector3iVector(np.asarray(faces)))\n",
    "\n",
    "            decimated_mesh = o3d.geometry.TriangleMesh.simplify_quadric_decimation(mesh, VERTICES)\n",
    "\n",
    "            _target_path =  TARGET_ROOT + \"/\" + _id + EXTENSION\n",
    "            o3d.io.write_triangle_mesh( _target_path, decimated_mesh)\n",
    "            print('\\r' + str(COUNT) + \"written\", end='')\n",
    "            COUNT += 1\n",
    "        else:\n",
    "            continue\n",
    "    else:\n",
    "        break"
   ]
  },
  {
   "cell_type": "code",
   "execution_count": 33,
   "metadata": {},
   "outputs": [],
   "source": [
    "ex_path = \"/vol/chameleon/projects/mesh_gnn/body_meshes_decimated/4105794.off\""
   ]
  },
  {
   "cell_type": "code",
   "execution_count": 34,
   "metadata": {},
   "outputs": [],
   "source": [
    "decimated = o3d.io.read_triangle_mesh(ex_path)"
   ]
  },
  {
   "cell_type": "code",
   "execution_count": 35,
   "metadata": {},
   "outputs": [
    {
     "data": {
      "text/plain": [
       "TriangleMesh with 13458 points and 24999 triangles."
      ]
     },
     "execution_count": 35,
     "metadata": {},
     "output_type": "execute_result"
    }
   ],
   "source": [
    "decimated"
   ]
  },
  {
   "cell_type": "code",
   "execution_count": 2,
   "metadata": {},
   "outputs": [],
   "source": [
    "ex_path= \"C:/Users/aorhu/Masaüstü/body_mask.nii.gz\""
   ]
  },
  {
   "cell_type": "code",
   "execution_count": 3,
   "metadata": {},
   "outputs": [],
   "source": [
    "body_segment = nib.load(ex_path)\n",
    "body_segment_data = body_segment.get_fdata()"
   ]
  },
  {
   "cell_type": "code",
   "execution_count": 4,
   "metadata": {},
   "outputs": [],
   "source": [
    "verts, faces, norms, vals = marching_cubes(body_segment_data, level=0, step_size=1)"
   ]
  },
  {
   "cell_type": "code",
   "execution_count": 5,
   "metadata": {},
   "outputs": [],
   "source": [
    "verts = verts/np.array(body_segment_data.shape) "
   ]
  },
  {
   "cell_type": "code",
   "execution_count": 8,
   "metadata": {},
   "outputs": [],
   "source": [
    "mesh = o3d.geometry.TriangleMesh(vertices=o3d.utility.Vector3dVector(np.asarray(verts)),\n",
    "                                 triangles=o3d.utility.Vector3iVector(np.asarray(faces)))\n",
    "mesh.compute_vertex_normals()\n",
    "\n",
    "o3d.visualization.draw_geometries([mesh],mesh_show_back_face=True,mesh_show_wireframe=True)"
   ]
  },
  {
   "cell_type": "code",
   "execution_count": 12,
   "metadata": {},
   "outputs": [],
   "source": [
    "decimated_mesh = o3d.geometry.TriangleMesh.simplify_quadric_decimation(mesh, 5000)"
   ]
  },
  {
   "cell_type": "code",
   "execution_count": 13,
   "metadata": {},
   "outputs": [],
   "source": [
    "decimated_mesh.compute_vertex_normals()\n",
    "\n",
    "o3d.visualization.draw_geometries([decimated_mesh],mesh_show_back_face=True,mesh_show_wireframe=True)"
   ]
  },
  {
   "cell_type": "code",
   "execution_count": 14,
   "metadata": {},
   "outputs": [
    {
     "data": {
      "text/plain": [
       "True"
      ]
     },
     "execution_count": 14,
     "metadata": {},
     "output_type": "execute_result"
    }
   ],
   "source": [
    "o3d.io.write_triangle_mesh(\"4266049_5.ply\", decimated_mesh, print_progress=True )"
   ]
  },
  {
   "cell_type": "code",
   "execution_count": null,
   "metadata": {},
   "outputs": [],
   "source": [
    "----------------------------------------------------"
   ]
  },
  {
   "cell_type": "code",
   "execution_count": null,
   "metadata": {},
   "outputs": [],
   "source": [
    "1000071 = 545964  >>  25000, \n",
    "1000125 = 506972  >>  25000,\n",
    "1002371 = 515692  >>  25000,\n",
    "1787929 = 618378  >>  24999,"
   ]
  },
  {
   "cell_type": "code",
   "execution_count": 58,
   "metadata": {},
   "outputs": [],
   "source": [
    "_path = Path(\"C:/Users/aorhu/Masaüstü/Yeni klasör/1002371/body_mask.nii.gz\")"
   ]
  },
  {
   "cell_type": "code",
   "execution_count": 59,
   "metadata": {},
   "outputs": [],
   "source": [
    "body_segment = nib.load(_path)\n",
    "body_segment_data = body_segment.get_fdata()\n",
    "verts, faces, _, __ = marching_cubes(body_segment_data, level=0, step_size=1)\n",
    "verts = verts/np.array(body_segment_data.shape) \n",
    "\n",
    "mesh = o3d.geometry.TriangleMesh(vertices=o3d.utility.Vector3dVector(np.asarray(verts)),\n",
    "                             triangles=o3d.utility.Vector3iVector(np.asarray(faces)))\n",
    "\n",
    "decimated_mesh = o3d.geometry.TriangleMesh.simplify_quadric_decimation(mesh, 25000)"
   ]
  },
  {
   "cell_type": "code",
   "execution_count": 37,
   "metadata": {},
   "outputs": [
    {
     "data": {
      "text/plain": [
       "std::vector<Eigen::Vector3i> with 506972 elements.\n",
       "Use numpy.asarray() to access data."
      ]
     },
     "execution_count": 37,
     "metadata": {},
     "output_type": "execute_result"
    }
   ],
   "source": [
    "mesh.triangles"
   ]
  },
  {
   "cell_type": "code",
   "execution_count": 56,
   "metadata": {},
   "outputs": [
    {
     "data": {
      "text/plain": [
       "array([[0.01339286, 0.36309524, 0.85430464],\n",
       "       [0.01785714, 0.36309524, 0.85099338],\n",
       "       [0.01785714, 0.35714286, 0.85430464],\n",
       "       [0.01785714, 0.36309524, 0.85761589],\n",
       "       [0.01339286, 0.36904762, 0.85430464],\n",
       "       [0.01785714, 0.36904762, 0.85099338],\n",
       "       [0.01785714, 0.36904762, 0.85761589],\n",
       "       [0.01339286, 0.375     , 0.85430464],\n",
       "       [0.01785714, 0.375     , 0.85099338],\n",
       "       [0.01785714, 0.36904762, 0.85761589]])"
      ]
     },
     "execution_count": 56,
     "metadata": {},
     "output_type": "execute_result"
    }
   ],
   "source": [
    "np.asarray(mesh.vertices)[:10]"
   ]
  },
  {
   "cell_type": "code",
   "execution_count": 44,
   "metadata": {},
   "outputs": [
    {
     "data": {
      "text/plain": [
       "array([[     2,      1,      0],\n",
       "       [     0,      3,      2],\n",
       "       [     0,      1,      4],\n",
       "       ...,\n",
       "       [253463, 253480, 253479],\n",
       "       [253480, 253472, 253467],\n",
       "       [253472, 253480, 253469]], dtype=int32)"
      ]
     },
     "execution_count": 44,
     "metadata": {},
     "output_type": "execute_result"
    }
   ],
   "source": [
    "np.asarray(mesh.triangles)"
   ]
  },
  {
   "cell_type": "code",
   "execution_count": 53,
   "metadata": {},
   "outputs": [],
   "source": [
    "count = 0\n",
    "lst = []\n",
    "for elem in np.asarray(mesh.triangles):\n",
    "    if 0 in elem:\n",
    "        lst.append(elem)\n",
    "        count+=1"
   ]
  },
  {
   "cell_type": "code",
   "execution_count": 54,
   "metadata": {},
   "outputs": [
    {
     "data": {
      "text/plain": [
       "[array([2, 1, 0], dtype=int32),\n",
       " array([0, 3, 2], dtype=int32),\n",
       " array([0, 1, 4], dtype=int32),\n",
       " array([3, 0, 6], dtype=int32),\n",
       " array([6, 0, 4], dtype=int32)]"
      ]
     },
     "execution_count": 54,
     "metadata": {},
     "output_type": "execute_result"
    }
   ],
   "source": [
    "lst"
   ]
  },
  {
   "cell_type": "code",
   "execution_count": 55,
   "metadata": {},
   "outputs": [
    {
     "data": {
      "text/plain": [
       "5"
      ]
     },
     "execution_count": 55,
     "metadata": {},
     "output_type": "execute_result"
    }
   ],
   "source": [
    "count"
   ]
  },
  {
   "cell_type": "code",
   "execution_count": 43,
   "metadata": {},
   "outputs": [
    {
     "data": {
      "text/plain": [
       "array([0, 1, 4], dtype=int32)"
      ]
     },
     "execution_count": 43,
     "metadata": {},
     "output_type": "execute_result"
    }
   ],
   "source": [
    "np.asarray(mesh.triangles)[2]"
   ]
  },
  {
   "cell_type": "code",
   "execution_count": 38,
   "metadata": {},
   "outputs": [
    {
     "data": {
      "text/plain": [
       "std::vector<Eigen::Vector3d> with 253481 elements.\n",
       "Use numpy.asarray() to access data."
      ]
     },
     "execution_count": 38,
     "metadata": {},
     "output_type": "execute_result"
    }
   ],
   "source": [
    "mesh.vertices"
   ]
  },
  {
   "cell_type": "code",
   "execution_count": 39,
   "metadata": {},
   "outputs": [
    {
     "data": {
      "text/plain": [
       "std::vector<Eigen::Vector3i> with 25000 elements.\n",
       "Use numpy.asarray() to access data."
      ]
     },
     "execution_count": 39,
     "metadata": {},
     "output_type": "execute_result"
    }
   ],
   "source": [
    "decimated_mesh.triangles"
   ]
  },
  {
   "cell_type": "code",
   "execution_count": 61,
   "metadata": {},
   "outputs": [
    {
     "data": {
      "text/plain": [
       "std::vector<Eigen::Vector3d> with 13279 elements.\n",
       "Use numpy.asarray() to access data."
      ]
     },
     "execution_count": 61,
     "metadata": {},
     "output_type": "execute_result"
    }
   ],
   "source": [
    "decimated_mesh.vertices"
   ]
  },
  {
   "cell_type": "code",
   "execution_count": 60,
   "metadata": {},
   "outputs": [],
   "source": [
    "decimated_mesh_paint = np.asarray([230,200,110])/255.0\n",
    "decimated_mesh.paint_uniform_color(decimated_mesh_paint)\n",
    "decimated_mesh.compute_vertex_normals()\n",
    "\n",
    "o3d.visualization.draw_geometries([decimated_mesh],mesh_show_back_face=True,mesh_show_wireframe=True)"
   ]
  },
  {
   "cell_type": "code",
   "execution_count": null,
   "metadata": {},
   "outputs": [],
   "source": []
  }
 ],
 "metadata": {
  "kernelspec": {
   "display_name": "Python 3 (ipykernel)",
   "language": "python",
   "name": "python3"
  },
  "language_info": {
   "codemirror_mode": {
    "name": "ipython",
    "version": 3
   },
   "file_extension": ".py",
   "mimetype": "text/x-python",
   "name": "python",
   "nbconvert_exporter": "python",
   "pygments_lexer": "ipython3",
   "version": "3.9.12"
  },
  "vscode": {
   "interpreter": {
    "hash": "96aafb386a0a1c2673e4a527c02b2356795a56ecd8442bc8bfdbf63d0cec0c6a"
   }
  }
 },
 "nbformat": 4,
 "nbformat_minor": 2
}
