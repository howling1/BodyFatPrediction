{
 "cells": [
  {
   "cell_type": "code",
   "execution_count": 2,
   "metadata": {},
   "outputs": [],
   "source": [
    "from pathlib import Path\n",
    "import glob\n",
    "import os\n",
    "import numpy as np\n",
    "import pandas as pd\n",
    "from tqdm import tqdm\n",
    "\n",
    "import open3d as o3d\n",
    "import nibabel as nib\n",
    "from skimage.measure import marching_cubes\n"
   ]
  },
  {
   "cell_type": "code",
   "execution_count": 21,
   "metadata": {},
   "outputs": [],
   "source": [
    "DATA_ROOT = Path(\"/vol/chameleon/projects/mesh_gnn/body_segmentations\")\n",
    "TARGET_ROOT = \"/vol/chameleon/projects/mesh_gnn/body_meshes_decimated\"\n",
    "VERTICES = 25000"
   ]
  },
  {
   "cell_type": "code",
   "execution_count": 32,
   "metadata": {},
   "outputs": [
    {
     "name": "stderr",
     "output_type": "stream",
     "text": [
      "  0%|          | 0/44205 [00:00<?, ?it/s]"
     ]
    },
    {
     "name": "stdout",
     "output_type": "stream",
     "text": [
      "/vol/chameleon/projects/mesh_gnn/body_segmentations/4105794/body_mask.nii.gz\n",
      "4105794\n"
     ]
    },
    {
     "name": "stderr",
     "output_type": "stream",
     "text": [
      "  0%|          | 0/44205 [00:07<?, ?it/s]\n"
     ]
    }
   ],
   "source": [
    "for file in tqdm(os.listdir(str(DATA_ROOT))):\n",
    "    _path = str(os.path.join(str(DATA_ROOT), file).replace('\\\\', '/')) +'/body_mask.nii.gz'\n",
    "    \n",
    "    _id = _path[_path[:_path.rfind(\"/\")].rfind(\"/\")+1:_path.rfind(\"/\",0,)]\n",
    "    print(_path)\n",
    "    print(_id)\n",
    "    \n",
    "    body_segment = nib.load(_path)\n",
    "    body_segment_data = body_segment.get_fdata()\n",
    "    verts, faces, _, __ = marching_cubes(body_segment_data, level=0, step_size=1)\n",
    "    verts = verts/np.array(body_segment_data.shape) \n",
    "\n",
    "    mesh = o3d.geometry.TriangleMesh(vertices=o3d.utility.Vector3dVector(np.asarray(verts)),\n",
    "                                 triangles=o3d.utility.Vector3iVector(np.asarray(faces)))\n",
    "\n",
    "    decimated_mesh = o3d.geometry.TriangleMesh.simplify_quadric_decimation(mesh, VERTICES-1)\n",
    "\n",
    "    _target_path=  TARGET_ROOT+\"/\"+_id+\".off\"\n",
    "\n",
    "    o3d.io.write_triangle_mesh( _target_path, decimated_mesh)\n",
    "\n",
    "    break"
   ]
  },
  {
   "cell_type": "code",
   "execution_count": 33,
   "metadata": {},
   "outputs": [],
   "source": [
    "ex_path = \"/vol/chameleon/projects/mesh_gnn/body_meshes_decimated/4105794.off\""
   ]
  },
  {
   "cell_type": "code",
   "execution_count": 34,
   "metadata": {},
   "outputs": [],
   "source": [
    "decimated = o3d.io.read_triangle_mesh(ex_path)"
   ]
  },
  {
   "cell_type": "code",
   "execution_count": 35,
   "metadata": {},
   "outputs": [
    {
     "data": {
      "text/plain": [
       "TriangleMesh with 13458 points and 24999 triangles."
      ]
     },
     "execution_count": 35,
     "metadata": {},
     "output_type": "execute_result"
    }
   ],
   "source": [
    "decimated"
   ]
  },
  {
   "cell_type": "code",
   "execution_count": 5,
   "metadata": {},
   "outputs": [],
   "source": [
    "ex_path= \"/vol/chameleon/projects/mesh_gnn/body_segmentations/4105794/body_mask.nii.gz\""
   ]
  },
  {
   "cell_type": "code",
   "execution_count": 6,
   "metadata": {},
   "outputs": [],
   "source": [
    "body_segment = nib.load(ex_path)\n",
    "body_segment_data = body_segment.get_fdata()"
   ]
  },
  {
   "cell_type": "code",
   "execution_count": 7,
   "metadata": {},
   "outputs": [],
   "source": [
    "verts, faces, norms, vals = marching_cubes(body_segment_data, level=0, step_size=1)"
   ]
  },
  {
   "cell_type": "code",
   "execution_count": 8,
   "metadata": {},
   "outputs": [],
   "source": [
    "verts = verts/np.array(body_segment_data.shape) "
   ]
  },
  {
   "cell_type": "code",
   "execution_count": 9,
   "metadata": {},
   "outputs": [],
   "source": [
    "mesh = o3d.geometry.TriangleMesh(vertices=o3d.utility.Vector3dVector(np.asarray(verts)),\n",
    "                                 triangles=o3d.utility.Vector3iVector(np.asarray(faces)))\n"
   ]
  },
  {
   "cell_type": "code",
   "execution_count": 11,
   "metadata": {},
   "outputs": [],
   "source": [
    "decimated_mesh = o3d.geometry.TriangleMesh.simplify_quadric_decimation(mesh, VERTICES)"
   ]
  },
  {
   "cell_type": "code",
   "execution_count": 12,
   "metadata": {},
   "outputs": [
    {
     "name": "stdout",
     "output_type": "stream",
     "text": [
      "Writing OFF: [========================================] 100%\n"
     ]
    },
    {
     "data": {
      "text/plain": [
       "True"
      ]
     },
     "execution_count": 12,
     "metadata": {},
     "output_type": "execute_result"
    }
   ],
   "source": [
    "o3d.io.write_triangle_mesh(\"test.off\", decimated_mesh, print_progress=True )"
   ]
  }
 ],
 "metadata": {
  "kernelspec": {
   "display_name": "Python 3.10.6 ('meshgnn_aks')",
   "language": "python",
   "name": "python3"
  },
  "language_info": {
   "codemirror_mode": {
    "name": "ipython",
    "version": 3
   },
   "file_extension": ".py",
   "mimetype": "text/x-python",
   "name": "python",
   "nbconvert_exporter": "python",
   "pygments_lexer": "ipython3",
   "version": "3.10.6"
  },
  "orig_nbformat": 4,
  "vscode": {
   "interpreter": {
    "hash": "96aafb386a0a1c2673e4a527c02b2356795a56ecd8442bc8bfdbf63d0cec0c6a"
   }
  }
 },
 "nbformat": 4,
 "nbformat_minor": 2
}
