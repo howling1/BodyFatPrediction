{
 "cells": [
  {
   "cell_type": "code",
   "execution_count": null,
   "id": "903c775e",
   "metadata": {},
   "outputs": [],
   "source": [
    "from pathlib import Path\n",
    "import glob\n",
    "import os\n",
    "import numpy as np\n",
    "import pandas as pd\n",
    "from tqdm import tqdm \n",
    "import torch\n",
    "import open3d as o3d"
   ]
  },
  {
   "cell_type": "code",
   "execution_count": null,
   "id": "31a423c5",
   "metadata": {},
   "outputs": [],
   "source": [
    "id_map_path = \"C:/Users/aorhu/Masaüstü/ADLM/Bridge_eids_60520_87802.csv\""
   ]
  },
  {
   "cell_type": "code",
   "execution_count": null,
   "id": "0152bfa8",
   "metadata": {},
   "outputs": [],
   "source": [
    "id_map = pd.read_csv(id_map_path)"
   ]
  },
  {
   "cell_type": "code",
   "execution_count": null,
   "id": "bf77678d",
   "metadata": {},
   "outputs": [],
   "source": [
    "id_map"
   ]
  },
  {
   "cell_type": "code",
   "execution_count": null,
   "id": "0394c02c",
   "metadata": {},
   "outputs": [],
   "source": [
    "basic_features_path = \"C:/Users/aorhu/Masaüstü/ADLM/basic_features.csv\""
   ]
  },
  {
   "cell_type": "code",
   "execution_count": null,
   "id": "563d0d44",
   "metadata": {},
   "outputs": [],
   "source": [
    "basic_features = pd.read_csv(basic_features_path)"
   ]
  },
  {
   "cell_type": "code",
   "execution_count": null,
   "id": "b75ef316",
   "metadata": {},
   "outputs": [],
   "source": [
    "basic_features"
   ]
  },
  {
   "cell_type": "code",
   "execution_count": null,
   "id": "7ad8473f",
   "metadata": {},
   "outputs": [],
   "source": [
    "height = basic_features[\"50-2.0\"].mean()"
   ]
  },
  {
   "cell_type": "code",
   "execution_count": null,
   "id": "f870eaf1",
   "metadata": {},
   "outputs": [],
   "source": [
    "weight = basic_features[\"21002-2.0\"].mean()"
   ]
  },
  {
   "cell_type": "code",
   "execution_count": null,
   "id": "d0fa8e44",
   "metadata": {},
   "outputs": [],
   "source": [
    "bmi = basic_features[\"21001-2.0\"].mean()"
   ]
  },
  {
   "cell_type": "code",
   "execution_count": null,
   "id": "4fef7987",
   "metadata": {},
   "outputs": [],
   "source": [
    "basic_features = basic_features.dropna()\n",
    "basic_features = basic_features.reset_index(drop=True)"
   ]
  },
  {
   "cell_type": "code",
   "execution_count": null,
   "id": "9d4eb953",
   "metadata": {},
   "outputs": [],
   "source": [
    "basic_features"
   ]
  },
  {
   "cell_type": "code",
   "execution_count": null,
   "id": "36975011",
   "metadata": {},
   "outputs": [],
   "source": [
    "size = 488"
   ]
  },
  {
   "cell_type": "code",
   "execution_count": null,
   "id": "fc929edf",
   "metadata": {},
   "outputs": [],
   "source": [
    "heights = (basic_features['50-2.0'] - height).abs().argsort()[:size]"
   ]
  },
  {
   "cell_type": "code",
   "execution_count": null,
   "id": "276fcd7f",
   "metadata": {},
   "outputs": [],
   "source": [
    "bmis= (basic_features['21001-2.0'] - bmi).abs().argsort()[:size]"
   ]
  },
  {
   "cell_type": "code",
   "execution_count": null,
   "id": "817c67be",
   "metadata": {},
   "outputs": [],
   "source": [
    "weights = (basic_features['21002-2.0'] - weight).abs().argsort()[:size]"
   ]
  },
  {
   "cell_type": "code",
   "execution_count": null,
   "id": "533d8578",
   "metadata": {},
   "outputs": [],
   "source": [
    "common_elements = list(set(bmis).intersection(set(heights), set(weights)))"
   ]
  },
  {
   "cell_type": "code",
   "execution_count": null,
   "id": "e590da11",
   "metadata": {},
   "outputs": [],
   "source": [
    "common_elements # optimal patient target index, id is = \"4266049\""
   ]
  },
  {
   "cell_type": "code",
   "execution_count": null,
   "id": "07a32763",
   "metadata": {},
   "outputs": [],
   "source": [
    "basic_features['eid'][34087]"
   ]
  },
  {
   "cell_type": "code",
   "execution_count": null,
   "id": "171bb947",
   "metadata": {},
   "outputs": [],
   "source": [
    "basic_features['50-2.0'][34087]"
   ]
  },
  {
   "cell_type": "code",
   "execution_count": null,
   "id": "3a9fdd0c",
   "metadata": {},
   "outputs": [],
   "source": [
    "height"
   ]
  },
  {
   "cell_type": "code",
   "execution_count": null,
   "id": "091852d0",
   "metadata": {},
   "outputs": [],
   "source": [
    "basic_features['21001-2.0'][34087]"
   ]
  },
  {
   "cell_type": "code",
   "execution_count": null,
   "id": "4e1869ea",
   "metadata": {},
   "outputs": [],
   "source": [
    "bmi"
   ]
  },
  {
   "cell_type": "code",
   "execution_count": null,
   "id": "785cfa3c",
   "metadata": {},
   "outputs": [],
   "source": [
    "basic_features['21002-2.0'][34087]"
   ]
  },
  {
   "cell_type": "code",
   "execution_count": null,
   "id": "21bd1c31",
   "metadata": {},
   "outputs": [],
   "source": [
    "weight"
   ]
  },
  {
   "cell_type": "markdown",
   "id": "25227785",
   "metadata": {},
   "source": [
    "### female-male split"
   ]
  },
  {
   "cell_type": "code",
   "execution_count": null,
   "id": "bc65969d",
   "metadata": {},
   "outputs": [],
   "source": [
    "females = basic_features[basic_features[\"31-0.0\"] == 0 ]"
   ]
  },
  {
   "cell_type": "code",
   "execution_count": null,
   "id": "c8cbffe7",
   "metadata": {},
   "outputs": [],
   "source": [
    "males = basic_features[basic_features[\"31-0.0\"] == 1 ]"
   ]
  },
  {
   "cell_type": "code",
   "execution_count": null,
   "id": "49c165cd",
   "metadata": {},
   "outputs": [],
   "source": [
    "height_female = females[\"50-2.0\"].mean()\n",
    "height_male = males[\"50-2.0\"].mean()\n",
    "weight_female = females[\"21002-2.0\"].mean()\n",
    "weight_male = males[\"21002-2.0\"].mean()\n",
    "bmi_female = females[\"21001-2.0\"].mean()\n",
    "bmi_male = males[\"21001-2.0\"].mean()\n",
    "print(\"height_female=\" + str(height_female) + \"/height_male=\" + str(height_male))\n",
    "print(\"weight_female=\" + str(weight_female) + \"/weight_male=\" + str(weight_male))\n",
    "print(\"bmi_female=\" + str(bmi_female) + \"/bmi_male=\" + str(bmi_male))"
   ]
  },
  {
   "cell_type": "code",
   "execution_count": null,
   "id": "7877ef2d",
   "metadata": {},
   "outputs": [],
   "source": [
    "size = 300\n",
    "heights_female = (females['50-2.0'] - height_female).abs().argsort()[:size]\n",
    "bmis_female= (females['21001-2.0'] - bmi_female).abs().argsort()[:size]\n",
    "weights_female = (females['21002-2.0'] - weight_female).abs().argsort()[:size]\n",
    "\n",
    "heights_male = (males['50-2.0'] - height_male).abs().argsort()[:size]\n",
    "bmis_male= (males['21001-2.0'] - bmi_male).abs().argsort()[:size]\n",
    "weights_male = (males['21002-2.0'] - weight_male).abs().argsort()[:size]"
   ]
  },
  {
   "cell_type": "code",
   "execution_count": null,
   "id": "dd0011b2",
   "metadata": {},
   "outputs": [],
   "source": [
    "common_elements_male = list(set(bmis_male).intersection(set(heights_male), set(weights_male)))\n",
    "common_elements_female = list(set(bmis_female).intersection(set(heights_female), set(weights_female)))"
   ]
  },
  {
   "cell_type": "code",
   "execution_count": null,
   "id": "d58fd9a4",
   "metadata": {},
   "outputs": [],
   "source": [
    "common_elements_male #optimal male target index, id is = \"2526518\""
   ]
  },
  {
   "cell_type": "code",
   "execution_count": null,
   "id": "449cf765",
   "metadata": {},
   "outputs": [],
   "source": [
    "common_elements_female #optimal female target index, id is = \"3368474\""
   ]
  },
  {
   "cell_type": "code",
   "execution_count": null,
   "id": "427ecb80",
   "metadata": {},
   "outputs": [],
   "source": [
    "basic_features['eid'][15852]"
   ]
  },
  {
   "cell_type": "code",
   "execution_count": null,
   "id": "6ba10487",
   "metadata": {},
   "outputs": [],
   "source": [
    "basic_features['eid'][24667]"
   ]
  }
 ],
 "metadata": {
  "kernelspec": {
   "display_name": "Python 3 (ipykernel)",
   "language": "python",
   "name": "python3"
  },
  "language_info": {
   "codemirror_mode": {
    "name": "ipython",
    "version": 3
   },
   "file_extension": ".py",
   "mimetype": "text/x-python",
   "name": "python",
   "nbconvert_exporter": "python",
   "pygments_lexer": "ipython3",
   "version": "3.9.12"
  },
  "vscode": {
   "interpreter": {
    "hash": "2cd9f766dddf6af777865aeed029c7b81b01cd480dcec5e9fd0551e7303b3382"
   }
  }
 },
 "nbformat": 4,
 "nbformat_minor": 5
}
