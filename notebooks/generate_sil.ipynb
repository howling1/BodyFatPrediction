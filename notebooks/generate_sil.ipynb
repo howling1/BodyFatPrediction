{
 "cells": [
  {
   "cell_type": "code",
   "execution_count": 1,
   "metadata": {},
   "outputs": [],
   "source": [
    "import matplotlib\n",
    "from matplotlib import pylab as plt\n",
    "import numpy as np\n",
    "import pandas as pd\n",
    "import nibabel as nib\n",
    "from nibabel import nifti1\n",
    "from nibabel.viewers import OrthoSlicer3D\n",
    "from tqdm import tqdm\n",
    "import os\n",
    "from PIL import Image as im\n",
    "from pathlib import Path\n"
   ]
  },
  {
   "cell_type": "code",
   "execution_count": 2,
   "metadata": {},
   "outputs": [
    {
     "data": {
      "text/plain": [
       "array([[1, 2]])"
      ]
     },
     "execution_count": 2,
     "metadata": {},
     "output_type": "execute_result"
    }
   ],
   "source": [
    "np.expand_dims(np.asarray([1,2]), axis=0)"
   ]
  },
  {
   "cell_type": "code",
   "execution_count": 2,
   "metadata": {},
   "outputs": [],
   "source": [
    "data = np.load('/vol/space/projects/ukbb/projects/silhouette/eids_filtered.npy')\n"
   ]
  },
  {
   "cell_type": "code",
   "execution_count": 3,
   "metadata": {},
   "outputs": [
    {
     "data": {
      "text/plain": [
       "(25298,)"
      ]
     },
     "execution_count": 3,
     "metadata": {},
     "output_type": "execute_result"
    }
   ],
   "source": [
    "data.shape"
   ]
  },
  {
   "cell_type": "code",
   "execution_count": 4,
   "metadata": {},
   "outputs": [],
   "source": [
    "DATA_ROOT = \"/vol/space/projects/ukbb/projects/silhouette/silhouettes/vat_sat_subjects\"\n",
    "TARGET_ROOT = \"/vol/space/projects/ukbb/projects/silhouette/silhouettes/v1\"\n",
    "FEATURES_ROOT = \"/vol/space/projects/ukbb/projects/silhouette/ukb668815_imaging.csv\"\n",
    "EXTENSION = \".jpg\"\n",
    "SIZE = (392, 363)\n",
    "LIMIT = 3000"
   ]
  },
  {
   "cell_type": "code",
   "execution_count": 5,
   "metadata": {},
   "outputs": [],
   "source": [
    "features = pd.read_csv(FEATURES_ROOT, usecols =[\"eid\", \"31-0.0\"]).set_index('eid')"
   ]
  },
  {
   "cell_type": "code",
   "execution_count": 6,
   "metadata": {},
   "outputs": [],
   "source": [
    "arr = np.array([1])"
   ]
  },
  {
   "cell_type": "code",
   "execution_count": 7,
   "metadata": {},
   "outputs": [
    {
     "data": {
      "text/plain": [
       "True"
      ]
     },
     "execution_count": 7,
     "metadata": {},
     "output_type": "execute_result"
    }
   ],
   "source": [
    "arr[0] == 1 \n"
   ]
  },
  {
   "cell_type": "code",
   "execution_count": 8,
   "metadata": {},
   "outputs": [
    {
     "data": {
      "text/html": [
       "<div>\n",
       "<style scoped>\n",
       "    .dataframe tbody tr th:only-of-type {\n",
       "        vertical-align: middle;\n",
       "    }\n",
       "\n",
       "    .dataframe tbody tr th {\n",
       "        vertical-align: top;\n",
       "    }\n",
       "\n",
       "    .dataframe thead th {\n",
       "        text-align: right;\n",
       "    }\n",
       "</style>\n",
       "<table border=\"1\" class=\"dataframe\">\n",
       "  <thead>\n",
       "    <tr style=\"text-align: right;\">\n",
       "      <th></th>\n",
       "      <th>31-0.0</th>\n",
       "    </tr>\n",
       "    <tr>\n",
       "      <th>eid</th>\n",
       "      <th></th>\n",
       "    </tr>\n",
       "  </thead>\n",
       "  <tbody>\n",
       "    <tr>\n",
       "      <th>1000071</th>\n",
       "      <td>0</td>\n",
       "    </tr>\n",
       "    <tr>\n",
       "      <th>1000109</th>\n",
       "      <td>0</td>\n",
       "    </tr>\n",
       "    <tr>\n",
       "      <th>1000125</th>\n",
       "      <td>1</td>\n",
       "    </tr>\n",
       "    <tr>\n",
       "      <th>1000180</th>\n",
       "      <td>1</td>\n",
       "    </tr>\n",
       "    <tr>\n",
       "      <th>1000191</th>\n",
       "      <td>1</td>\n",
       "    </tr>\n",
       "    <tr>\n",
       "      <th>...</th>\n",
       "      <td>...</td>\n",
       "    </tr>\n",
       "    <tr>\n",
       "      <th>6023367</th>\n",
       "      <td>1</td>\n",
       "    </tr>\n",
       "    <tr>\n",
       "      <th>6023419</th>\n",
       "      <td>1</td>\n",
       "    </tr>\n",
       "    <tr>\n",
       "      <th>6023708</th>\n",
       "      <td>0</td>\n",
       "    </tr>\n",
       "    <tr>\n",
       "      <th>6023786</th>\n",
       "      <td>0</td>\n",
       "    </tr>\n",
       "    <tr>\n",
       "      <th>6023955</th>\n",
       "      <td>1</td>\n",
       "    </tr>\n",
       "  </tbody>\n",
       "</table>\n",
       "<p>54243 rows × 1 columns</p>\n",
       "</div>"
      ],
      "text/plain": [
       "         31-0.0\n",
       "eid            \n",
       "1000071       0\n",
       "1000109       0\n",
       "1000125       1\n",
       "1000180       1\n",
       "1000191       1\n",
       "...         ...\n",
       "6023367       1\n",
       "6023419       1\n",
       "6023708       0\n",
       "6023786       0\n",
       "6023955       1\n",
       "\n",
       "[54243 rows x 1 columns]"
      ]
     },
     "execution_count": 8,
     "metadata": {},
     "output_type": "execute_result"
    }
   ],
   "source": [
    "features"
   ]
  },
  {
   "cell_type": "code",
   "execution_count": 9,
   "metadata": {},
   "outputs": [
    {
     "data": {
      "text/html": [
       "<div>\n",
       "<style scoped>\n",
       "    .dataframe tbody tr th:only-of-type {\n",
       "        vertical-align: middle;\n",
       "    }\n",
       "\n",
       "    .dataframe tbody tr th {\n",
       "        vertical-align: top;\n",
       "    }\n",
       "\n",
       "    .dataframe thead th {\n",
       "        text-align: right;\n",
       "    }\n",
       "</style>\n",
       "<table border=\"1\" class=\"dataframe\">\n",
       "  <thead>\n",
       "    <tr style=\"text-align: right;\">\n",
       "      <th></th>\n",
       "      <th>31-0.0</th>\n",
       "    </tr>\n",
       "    <tr>\n",
       "      <th>eid</th>\n",
       "      <th></th>\n",
       "    </tr>\n",
       "  </thead>\n",
       "  <tbody>\n",
       "    <tr>\n",
       "      <th>1000071</th>\n",
       "      <td>0</td>\n",
       "    </tr>\n",
       "    <tr>\n",
       "      <th>6023419</th>\n",
       "      <td>1</td>\n",
       "    </tr>\n",
       "    <tr>\n",
       "      <th>6023708</th>\n",
       "      <td>0</td>\n",
       "    </tr>\n",
       "  </tbody>\n",
       "</table>\n",
       "</div>"
      ],
      "text/plain": [
       "         31-0.0\n",
       "eid            \n",
       "1000071       0\n",
       "6023419       1\n",
       "6023708       0"
      ]
     },
     "execution_count": 9,
     "metadata": {},
     "output_type": "execute_result"
    }
   ],
   "source": [
    "features[features.index.isin(np.array([1000071,6023708,6023419]))]"
   ]
  },
  {
   "cell_type": "code",
   "execution_count": 4,
   "metadata": {},
   "outputs": [],
   "source": [
    "def process(DATA_ROOT, LIMIT , TARGET_ROOT, SIZE, EXTENSION):\n",
    "    COUNT = 0\n",
    "\n",
    "    for file in tqdm(os.listdir(DATA_ROOT)):\n",
    "        _path = str(os.path.join(str(DATA_ROOT), file).replace('\\\\', '/')) +'/body_mask.nii.gz'\n",
    "        _id = _path[_path[:_path.rfind(\"/\")].rfind(\"/\")+1:_path.rfind(\"/\",0,)]\n",
    "        \n",
    "        if (LIMIT > COUNT) :\n",
    "            if(os.path.exists(_path)):\n",
    "            \n",
    "                body_segment = nib.load(_path)\n",
    "                body_segment_data = body_segment.get_fdata()\n",
    "\n",
    "                slh_coronal = create_silhouette(body_segment_data, 1)\n",
    "                slh_sagittal = create_silhouette(body_segment_data, 0)\n",
    "                concatenated_sil = cat_silhouette(slh_coronal, slh_sagittal, SIZE)\n",
    "\n",
    "                _target_path =  TARGET_ROOT + \"/\" + _id + EXTENSION\n",
    "\n",
    "                concatenated_sil.save(_target_path)\n",
    "\n",
    "                COUNT += 1\n",
    "            else:\n",
    "                continue\n",
    "        else:\n",
    "            break\n",
    "\n",
    "def create_silhouette(body_segment_data: np.ndarray, direction: int) -> np.ndarray:\n",
    "    tmp = body_segment_data.mean(axis=direction)\n",
    "    shape = tmp.shape\n",
    "    oneD_data = np.ravel(tmp)\n",
    "    slh = []\n",
    "\n",
    "    for i in range(oneD_data.shape[0]):\n",
    "        if oneD_data[i] != 0.:\n",
    "            slh.append(255.)\n",
    "        else:\n",
    "            slh.append(0.)   \n",
    "            \n",
    "    slh = np.array(slh).reshape(shape)\n",
    "\n",
    "    if direction == 0: # transpose sagittal slh\n",
    "        slh = np.asarray(im.fromarray(slh).transpose(im.FLIP_TOP_BOTTOM))\n",
    "\n",
    "    return slh\n",
    "\n",
    "def cat_silhouette(slh_coronal: np.ndarray, slh_sagittal: np.ndarray, size: tuple) -> im.Image:\n",
    "    concatenated_slh = np.concatenate((slh_coronal, slh_sagittal), 0)\n",
    "    slh_image = im.fromarray(concatenated_slh)\n",
    "\n",
    "    return slh_image.resize((max(size),max(size))).rotate(90).resize(size).convert('L') \n",
    "\n",
    "def read_jpgs(root_path: str):\n",
    "    ids = []\n",
    "    imgs = []\n",
    "\n",
    "    for file in tqdm(os.listdir(root_path)):\n",
    "        _path = str(os.path.join(str(root_path), file).replace('\\\\', '/'))\n",
    "        _id = int(file.replace('.jpg',\"\"))\n",
    "\n",
    "        img = im.open(_path)\n",
    "\n",
    "        ids.append(_id)\n",
    "        imgs.append(np.asarray(img))\n",
    "\n",
    "    return ids, np.asarray(imgs)"
   ]
  },
  {
   "cell_type": "code",
   "execution_count": 20,
   "metadata": {},
   "outputs": [
    {
     "name": "stderr",
     "output_type": "stream",
     "text": [
      "  0%|          | 0/25299 [00:00<?, ?it/s]/tmp/ipykernel_2176184/4077995118.py:43: DeprecationWarning: FLIP_TOP_BOTTOM is deprecated and will be removed in Pillow 10 (2023-07-01). Use Transpose.FLIP_TOP_BOTTOM instead.\n",
      "  slh = np.asarray(im.fromarray(slh).transpose(im.FLIP_TOP_BOTTOM))\n",
      " 12%|█▏        | 3000/25299 [03:43<27:39, 13.44it/s]  \n"
     ]
    }
   ],
   "source": [
    "process(DATA_ROOT, LIMIT ,TARGET_ROOT, SIZE)"
   ]
  },
  {
   "cell_type": "code",
   "execution_count": 5,
   "metadata": {},
   "outputs": [
    {
     "name": "stderr",
     "output_type": "stream",
     "text": [
      "100%|██████████| 26341/26341 [00:30<00:00, 877.18it/s] \n"
     ]
    }
   ],
   "source": [
    "ids, imgs = read_jpgs(TARGET_ROOT)"
   ]
  },
  {
   "cell_type": "code",
   "execution_count": 6,
   "metadata": {},
   "outputs": [
    {
     "data": {
      "image/png": "[encoded data removed]",
      "text/plain": [
       "<PIL.Image.Image image mode=L size=392x363>"
      ]
     },
     "metadata": {},
     "output_type": "display_data"
    }
   ],
   "source": [
    "im.fromarray(imgs[0]).show()"
   ]
  },
  {
   "cell_type": "code",
   "execution_count": 7,
   "metadata": {},
   "outputs": [
    {
     "data": {
      "text/plain": [
       "(26341, 363, 392)"
      ]
     },
     "execution_count": 7,
     "metadata": {},
     "output_type": "execute_result"
    }
   ],
   "source": [
    "imgs.shape"
   ]
  }
 ],
 "metadata": {
  "kernelspec": {
   "display_name": "BodyMeshGNN",
   "language": "python",
   "name": "python3"
  },
  "language_info": {
   "codemirror_mode": {
    "name": "ipython",
    "version": 3
   },
   "file_extension": ".py",
   "mimetype": "text/x-python",
   "name": "python",
   "nbconvert_exporter": "python",
   "pygments_lexer": "ipython3",
   "version": "3.8.15"
  },
  "orig_nbformat": 4
 },
 "nbformat": 4,
 "nbformat_minor": 2
}
