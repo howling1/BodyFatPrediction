{
 "cells": [
  {
   "cell_type": "code",
   "execution_count": 1,
   "metadata": {},
   "outputs": [
    {
     "name": "stderr",
     "output_type": "stream",
     "text": [
      "2023-06-19 14:49:38.138068: I tensorflow/stream_executor/platform/default/dso_loader.cc:49] Successfully opened dynamic library libcudart.so.10.1\n",
      "<frozen importlib._bootstrap>:219: RuntimeWarning: numpy.ndarray size changed, may indicate binary incompatibility. Expected 96, got 80\n",
      "<frozen importlib._bootstrap>:219: RuntimeWarning: numpy.ufunc size changed, may indicate binary incompatibility. Expected 232, got 216\n",
      "<frozen importlib._bootstrap>:219: RuntimeWarning: numpy.ndarray size changed, may indicate binary incompatibility. Expected 80 from C header, got 96 from PyObject\n"
     ]
    }
   ],
   "source": [
    "import matplotlib\n",
    "from matplotlib import pylab as plt\n",
    "import numpy as np\n",
    "import pandas as pd\n",
    "import nibabel as nib\n",
    "from nibabel import nifti1\n",
    "from nibabel.viewers import OrthoSlicer3D\n",
    "from tqdm import tqdm\n",
    "import os\n",
    "from PIL import Image as im\n",
    "from pathlib import Path\n",
    "import torch\n",
    "import math\n",
    "from sklearn.model_selection import train_test_split\n",
    "from torch.utils.data import TensorDataset, DataLoader\n",
    "from sklearn.metrics import r2_score\n",
    "import torch.nn as nn\n",
    "from torch.utils.tensorboard import SummaryWriter\n",
    "\n",
    "writer = SummaryWriter('../tensorboard_logs')"
   ]
  },
  {
   "cell_type": "code",
   "execution_count": 2,
   "metadata": {},
   "outputs": [
    {
     "data": {
      "text/plain": [
       "array([[1, 2]])"
      ]
     },
     "execution_count": 2,
     "metadata": {},
     "output_type": "execute_result"
    }
   ],
   "source": [
    "np.expand_dims(np.asarray([1,2]), axis=0)"
   ]
  },
  {
   "cell_type": "code",
   "execution_count": 2,
   "metadata": {},
   "outputs": [],
   "source": [
    "data = np.load('/vol/space/projects/ukbb/projects/silhouette/eids_filtered.npy')\n"
   ]
  },
  {
   "cell_type": "code",
   "execution_count": 3,
   "metadata": {},
   "outputs": [
    {
     "data": {
      "text/plain": [
       "(25298,)"
      ]
     },
     "execution_count": 3,
     "metadata": {},
     "output_type": "execute_result"
    }
   ],
   "source": [
    "data.shape"
   ]
  },
  {
   "cell_type": "code",
   "execution_count": 4,
   "metadata": {},
   "outputs": [],
   "source": [
    "DATA_ROOT = \"/vol/space/projects/ukbb/projects/silhouette/silhouettes/vat_sat_subjects\"\n",
    "TARGET_ROOT = \"/vol/space/projects/ukbb/projects/silhouette/silhouettes/v1\"\n",
    "FEATURES_ROOT = \"/vol/space/projects/ukbb/projects/silhouette/ukb668815_imaging.csv\"\n",
    "EXTENSION = \".jpg\"\n",
    "SIZE = (392, 363)\n",
    "LIMIT = 3000"
   ]
  },
  {
   "cell_type": "code",
   "execution_count": 5,
   "metadata": {},
   "outputs": [],
   "source": [
    "features = pd.read_csv(FEATURES_ROOT, usecols =[\"eid\", \"31-0.0\"]).set_index('eid')"
   ]
  },
  {
   "cell_type": "code",
   "execution_count": 6,
   "metadata": {},
   "outputs": [],
   "source": [
    "arr = np.array([1])"
   ]
  },
  {
   "cell_type": "code",
   "execution_count": 7,
   "metadata": {},
   "outputs": [
    {
     "data": {
      "text/plain": [
       "True"
      ]
     },
     "execution_count": 7,
     "metadata": {},
     "output_type": "execute_result"
    }
   ],
   "source": [
    "arr[0] == 1 \n"
   ]
  },
  {
   "cell_type": "code",
   "execution_count": 8,
   "metadata": {},
   "outputs": [
    {
     "data": {
      "text/html": [
       "<div>\n",
       "<style scoped>\n",
       "    .dataframe tbody tr th:only-of-type {\n",
       "        vertical-align: middle;\n",
       "    }\n",
       "\n",
       "    .dataframe tbody tr th {\n",
       "        vertical-align: top;\n",
       "    }\n",
       "\n",
       "    .dataframe thead th {\n",
       "        text-align: right;\n",
       "    }\n",
       "</style>\n",
       "<table border=\"1\" class=\"dataframe\">\n",
       "  <thead>\n",
       "    <tr style=\"text-align: right;\">\n",
       "      <th></th>\n",
       "      <th>31-0.0</th>\n",
       "    </tr>\n",
       "    <tr>\n",
       "      <th>eid</th>\n",
       "      <th></th>\n",
       "    </tr>\n",
       "  </thead>\n",
       "  <tbody>\n",
       "    <tr>\n",
       "      <th>1000071</th>\n",
       "      <td>0</td>\n",
       "    </tr>\n",
       "    <tr>\n",
       "      <th>1000109</th>\n",
       "      <td>0</td>\n",
       "    </tr>\n",
       "    <tr>\n",
       "      <th>1000125</th>\n",
       "      <td>1</td>\n",
       "    </tr>\n",
       "    <tr>\n",
       "      <th>1000180</th>\n",
       "      <td>1</td>\n",
       "    </tr>\n",
       "    <tr>\n",
       "      <th>1000191</th>\n",
       "      <td>1</td>\n",
       "    </tr>\n",
       "    <tr>\n",
       "      <th>...</th>\n",
       "      <td>...</td>\n",
       "    </tr>\n",
       "    <tr>\n",
       "      <th>6023367</th>\n",
       "      <td>1</td>\n",
       "    </tr>\n",
       "    <tr>\n",
       "      <th>6023419</th>\n",
       "      <td>1</td>\n",
       "    </tr>\n",
       "    <tr>\n",
       "      <th>6023708</th>\n",
       "      <td>0</td>\n",
       "    </tr>\n",
       "    <tr>\n",
       "      <th>6023786</th>\n",
       "      <td>0</td>\n",
       "    </tr>\n",
       "    <tr>\n",
       "      <th>6023955</th>\n",
       "      <td>1</td>\n",
       "    </tr>\n",
       "  </tbody>\n",
       "</table>\n",
       "<p>54243 rows × 1 columns</p>\n",
       "</div>"
      ],
      "text/plain": [
       "         31-0.0\n",
       "eid            \n",
       "1000071       0\n",
       "1000109       0\n",
       "1000125       1\n",
       "1000180       1\n",
       "1000191       1\n",
       "...         ...\n",
       "6023367       1\n",
       "6023419       1\n",
       "6023708       0\n",
       "6023786       0\n",
       "6023955       1\n",
       "\n",
       "[54243 rows x 1 columns]"
      ]
     },
     "execution_count": 8,
     "metadata": {},
     "output_type": "execute_result"
    }
   ],
   "source": [
    "features"
   ]
  },
  {
   "cell_type": "code",
   "execution_count": 9,
   "metadata": {},
   "outputs": [
    {
     "data": {
      "text/html": [
       "<div>\n",
       "<style scoped>\n",
       "    .dataframe tbody tr th:only-of-type {\n",
       "        vertical-align: middle;\n",
       "    }\n",
       "\n",
       "    .dataframe tbody tr th {\n",
       "        vertical-align: top;\n",
       "    }\n",
       "\n",
       "    .dataframe thead th {\n",
       "        text-align: right;\n",
       "    }\n",
       "</style>\n",
       "<table border=\"1\" class=\"dataframe\">\n",
       "  <thead>\n",
       "    <tr style=\"text-align: right;\">\n",
       "      <th></th>\n",
       "      <th>31-0.0</th>\n",
       "    </tr>\n",
       "    <tr>\n",
       "      <th>eid</th>\n",
       "      <th></th>\n",
       "    </tr>\n",
       "  </thead>\n",
       "  <tbody>\n",
       "    <tr>\n",
       "      <th>1000071</th>\n",
       "      <td>0</td>\n",
       "    </tr>\n",
       "    <tr>\n",
       "      <th>6023419</th>\n",
       "      <td>1</td>\n",
       "    </tr>\n",
       "    <tr>\n",
       "      <th>6023708</th>\n",
       "      <td>0</td>\n",
       "    </tr>\n",
       "  </tbody>\n",
       "</table>\n",
       "</div>"
      ],
      "text/plain": [
       "         31-0.0\n",
       "eid            \n",
       "1000071       0\n",
       "6023419       1\n",
       "6023708       0"
      ]
     },
     "execution_count": 9,
     "metadata": {},
     "output_type": "execute_result"
    }
   ],
   "source": [
    "features[features.index.isin(np.array([1000071,6023708,6023419]))]"
   ]
  },
  {
   "cell_type": "code",
   "execution_count": 4,
   "metadata": {},
   "outputs": [],
   "source": [
    "def process(DATA_ROOT, LIMIT , TARGET_ROOT, SIZE, EXTENSION):\n",
    "    COUNT = 0\n",
    "\n",
    "    for file in tqdm(os.listdir(DATA_ROOT)):\n",
    "        _path = str(os.path.join(str(DATA_ROOT), file).replace('\\\\', '/')) +'/body_mask.nii.gz'\n",
    "        _id = _path[_path[:_path.rfind(\"/\")].rfind(\"/\")+1:_path.rfind(\"/\",0,)]\n",
    "        \n",
    "        if (LIMIT > COUNT) :\n",
    "            if(os.path.exists(_path)):\n",
    "            \n",
    "                body_segment = nib.load(_path)\n",
    "                body_segment_data = body_segment.get_fdata()\n",
    "\n",
    "                slh_coronal = create_silhouette(body_segment_data, 1)\n",
    "                slh_sagittal = create_silhouette(body_segment_data, 0)\n",
    "                concatenated_sil = cat_silhouette(slh_coronal, slh_sagittal, SIZE)\n",
    "\n",
    "                _target_path =  TARGET_ROOT + \"/\" + _id + EXTENSION\n",
    "\n",
    "                concatenated_sil.save(_target_path)\n",
    "\n",
    "                COUNT += 1\n",
    "            else:\n",
    "                continue\n",
    "        else:\n",
    "            break\n",
    "\n",
    "def create_silhouette(body_segment_data: np.ndarray, direction: int) -> np.ndarray:\n",
    "    tmp = body_segment_data.mean(axis=direction)\n",
    "    shape = tmp.shape\n",
    "    oneD_data = np.ravel(tmp)\n",
    "    slh = []\n",
    "\n",
    "    for i in range(oneD_data.shape[0]):\n",
    "        if oneD_data[i] != 0.:\n",
    "            slh.append(255.)\n",
    "        else:\n",
    "            slh.append(0.)   \n",
    "            \n",
    "    slh = np.array(slh).reshape(shape)\n",
    "\n",
    "    if direction == 0: # transpose sagittal slh\n",
    "        slh = np.asarray(im.fromarray(slh).transpose(im.FLIP_TOP_BOTTOM))\n",
    "\n",
    "    return slh\n",
    "\n",
    "def cat_silhouette(slh_coronal: np.ndarray, slh_sagittal: np.ndarray, size: tuple) -> im.Image:\n",
    "    concatenated_slh = np.concatenate((slh_coronal, slh_sagittal), 0)\n",
    "    slh_image = im.fromarray(concatenated_slh)\n",
    "\n",
    "    return slh_image.resize((max(size),max(size))).rotate(90).resize(size).convert('L') \n",
    "\n",
    "def read_jpgs(root_path: str):\n",
    "    ids = []\n",
    "    imgs = []\n",
    "\n",
    "    for file in tqdm(os.listdir(root_path)):\n",
    "        _path = str(os.path.join(str(root_path), file).replace('\\\\', '/'))\n",
    "        _id = int(file.replace('.jpg',\"\"))\n",
    "\n",
    "        img = im.open(_path)\n",
    "\n",
    "        ids.append(_id)\n",
    "        imgs.append(np.asarray(img))\n",
    "\n",
    "    return ids, np.asarray(imgs)"
   ]
  },
  {
   "cell_type": "code",
   "execution_count": 20,
   "metadata": {},
   "outputs": [
    {
     "name": "stderr",
     "output_type": "stream",
     "text": [
      "  0%|          | 0/25299 [00:00<?, ?it/s]/tmp/ipykernel_2176184/4077995118.py:43: DeprecationWarning: FLIP_TOP_BOTTOM is deprecated and will be removed in Pillow 10 (2023-07-01). Use Transpose.FLIP_TOP_BOTTOM instead.\n",
      "  slh = np.asarray(im.fromarray(slh).transpose(im.FLIP_TOP_BOTTOM))\n",
      " 12%|█▏        | 3000/25299 [03:43<27:39, 13.44it/s]  \n"
     ]
    }
   ],
   "source": [
    "process(DATA_ROOT, LIMIT ,TARGET_ROOT, SIZE)"
   ]
  },
  {
   "cell_type": "code",
   "execution_count": 5,
   "metadata": {},
   "outputs": [
    {
     "name": "stderr",
     "output_type": "stream",
     "text": [
      "100%|██████████| 26341/26341 [00:30<00:00, 877.18it/s] \n"
     ]
    }
   ],
   "source": [
    "ids, imgs = read_jpgs(TARGET_ROOT)"
   ]
  },
  {
   "cell_type": "code",
   "execution_count": 6,
   "metadata": {},
   "outputs": [
    {
     "data": {
      "image/png": "[encoded data removed]",
      "text/plain": [
       "<PIL.Image.Image image mode=L size=392x363>"
      ]
     },
     "metadata": {},
     "output_type": "display_data"
    }
   ],
   "source": [
    "im.fromarray(imgs[0]).show()"
   ]
  },
  {
   "cell_type": "code",
   "execution_count": 7,
   "metadata": {},
   "outputs": [
    {
     "data": {
      "text/plain": [
       "(26341, 363, 392)"
      ]
     },
     "execution_count": 7,
     "metadata": {},
     "output_type": "execute_result"
    }
   ],
   "source": [
    "imgs.shape"
   ]
  },
  {
   "cell_type": "code",
   "execution_count": 13,
   "metadata": {},
   "outputs": [],
   "source": [
    "FEATURES_ROOT = \"/vol/space/projects/ukbb/projects/silhouette/ukb668815_imaging.csv\"\n",
    "BRIDGES_ROOT = \"/vol/space/projects/ukbb/projects/silhouette/Bridge_eids_60520_87802.csv\"\n",
    "features = pd.read_csv(FEATURES_ROOT, usecols =[\"eid\", \"22407-2.0\", \"22408-2.0\"]).set_index('eid')"
   ]
  },
  {
   "cell_type": "code",
   "execution_count": 14,
   "metadata": {},
   "outputs": [],
   "source": [
    "features.columns = [\"VAT\", \"ASAT\"]"
   ]
  },
  {
   "cell_type": "code",
   "execution_count": 15,
   "metadata": {},
   "outputs": [
    {
     "data": {
      "text/plain": [
       "25581"
      ]
     },
     "execution_count": 15,
     "metadata": {},
     "output_type": "execute_result"
    }
   ],
   "source": [
    "features['VAT'].count()"
   ]
  },
  {
   "cell_type": "code",
   "execution_count": 16,
   "metadata": {},
   "outputs": [
    {
     "data": {
      "text/plain": [
       "25570"
      ]
     },
     "execution_count": 16,
     "metadata": {},
     "output_type": "execute_result"
    }
   ],
   "source": [
    "features['ASAT'].count()"
   ]
  },
  {
   "cell_type": "code",
   "execution_count": 17,
   "metadata": {},
   "outputs": [],
   "source": [
    "features = features[features.index.isin(ids)]\n",
    "features.insert(features.shape[1], 'VAT/ASAT', features['VAT']/features['ASAT'])"
   ]
  },
  {
   "cell_type": "code",
   "execution_count": 18,
   "metadata": {},
   "outputs": [
    {
     "data": {
      "text/plain": [
       "25299"
      ]
     },
     "execution_count": 18,
     "metadata": {},
     "output_type": "execute_result"
    }
   ],
   "source": [
    "features['VAT/ASAT'].count()"
   ]
  },
  {
   "cell_type": "code",
   "execution_count": 90,
   "metadata": {},
   "outputs": [],
   "source": [
    "targets = features['VAT'].dropna()\n",
    "valid_ids = targets.index.tolist()\n",
    "\n",
    "d = dict(zip(ids, imgs))\n",
    "data = [d[id] for id in valid_ids]"
   ]
  },
  {
   "cell_type": "code",
   "execution_count": 92,
   "metadata": {},
   "outputs": [
    {
     "data": {
      "text/plain": [
       "52"
      ]
     },
     "execution_count": 92,
     "metadata": {},
     "output_type": "execute_result"
    }
   ],
   "source": [
    "len(data)"
   ]
  },
  {
   "cell_type": "code",
   "execution_count": 72,
   "metadata": {},
   "outputs": [
    {
     "data": {
      "text/plain": [
       "[1566,\n",
       " 1729,\n",
       " 2140,\n",
       " 2312,\n",
       " 6685,\n",
       " 6915,\n",
       " 7495,\n",
       " 8881,\n",
       " 12861,\n",
       " 12975,\n",
       " 13419,\n",
       " 15667,\n",
       " 15834,\n",
       " 16557,\n",
       " 17553,\n",
       " 18652,\n",
       " 19552,\n",
       " 21556,\n",
       " 21590,\n",
       " 22884,\n",
       " 23203,\n",
       " 26398,\n",
       " 26417,\n",
       " 27111,\n",
       " 27640,\n",
       " 28769,\n",
       " 30542,\n",
       " 30681,\n",
       " 31525,\n",
       " 31876,\n",
       " 32422,\n",
       " 32663,\n",
       " 33224,\n",
       " 33941,\n",
       " 39186,\n",
       " 39526,\n",
       " 40144,\n",
       " 40748,\n",
       " 41536,\n",
       " 41830,\n",
       " 42779,\n",
       " 42982,\n",
       " 43760,\n",
       " 43987,\n",
       " 45603,\n",
       " 46106,\n",
       " 46194,\n",
       " 48687,\n",
       " 49574,\n",
       " 52171,\n",
       " 52476,\n",
       " 53390]"
      ]
     },
     "execution_count": 72,
     "metadata": {},
     "output_type": "execute_result"
    }
   ],
   "source": [
    "vats.index.tolist()"
   ]
  },
  {
   "cell_type": "code",
   "execution_count": 55,
   "metadata": {},
   "outputs": [
    {
     "ename": "IndexError",
     "evalue": "tuple index out of range",
     "output_type": "error",
     "traceback": [
      "\u001b[0;31m---------------------------------------------------------------------------\u001b[0m",
      "\u001b[0;31mIndexError\u001b[0m                                Traceback (most recent call last)",
      "Cell \u001b[0;32mIn[55], line 13\u001b[0m\n\u001b[1;32m     11\u001b[0m data \u001b[39m=\u001b[39m torch\u001b[39m.\u001b[39mtensor(np\u001b[39m.\u001b[39marray(data))\u001b[39m.\u001b[39mdouble()\n\u001b[1;32m     12\u001b[0m data_shape \u001b[39m=\u001b[39m data\u001b[39m.\u001b[39mshape\n\u001b[0;32m---> 13\u001b[0m data \u001b[39m=\u001b[39m data\u001b[39m.\u001b[39mreshape((data_shape[\u001b[39m0\u001b[39m], data_shape[\u001b[39m3\u001b[39;49m], data_shape[\u001b[39m1\u001b[39m], data_shape[\u001b[39m2\u001b[39m]))\n",
      "\u001b[0;31mIndexError\u001b[0m: tuple index out of range"
     ]
    }
   ],
   "source": [
    "vats = [float(features[\"VAT\"][features['eid'] == id]) for id in ids]\n",
    "targets = []\n",
    "data = []\n",
    "\n",
    "for i in range(len(vats)):\n",
    "    if math.isnan(vats[i]) == False:\n",
    "        targets.append(vats[i])\n",
    "        data.append(imgs[i])\n",
    "\n",
    "targets = torch.tensor(np.array(targets)).double().reshape((-1,1))\n",
    "data = torch.tensor(np.array(data)).double()\n",
    "# data_shape = data.shape\n",
    "# data = data.reshape((data_shape[0], data_shape[3], data_shape[1], data_shape[2]))"
   ]
  },
  {
   "cell_type": "code",
   "execution_count": 58,
   "metadata": {},
   "outputs": [
    {
     "data": {
      "text/plain": [
       "list"
      ]
     },
     "execution_count": 58,
     "metadata": {},
     "output_type": "execute_result"
    }
   ],
   "source": [
    "type(vats)"
   ]
  },
  {
   "cell_type": "code",
   "execution_count": 53,
   "metadata": {},
   "outputs": [],
   "source": [
    "class Model(nn.Module):\n",
    "    def __init__(self):\n",
    "        super(Model, self).__init__()\n",
    "\n",
    "        self.conv1 = nn.Conv2d(in_channels=3, out_channels=8, kernel_size=3, padding=1, stride=1)\n",
    "        self.relu1 = nn.ReLU()\n",
    "        self.pool1 = nn.MaxPool2d(3)\n",
    "\n",
    "        self.conv2 = nn.Conv2d(in_channels=8, out_channels=16, kernel_size=3, padding=1, stride=1)\n",
    "        self.relu2 = nn.ReLU()\n",
    "        self.pool2 = nn.MaxPool2d(3)\n",
    "\n",
    "        self.conv3 = nn.Conv2d(in_channels=16, out_channels=1, kernel_size=3, padding=1, stride=1)\n",
    "        self.relu3 = nn.ReLU()\n",
    "        self.pool3 = nn.MaxPool2d(3)\n",
    "\n",
    "        self.fc = nn.Linear(182, 256)\n",
    "        self.relu3 = nn.ReLU()\n",
    "        self.dropout = nn.Dropout(0.2)\n",
    "\n",
    "        self.outlayer = nn.Linear(256, 1)\n",
    "        self.softmax = nn.Softmax()\n",
    "\n",
    "    def forward(self, x):\n",
    "        x = self.conv1(x)\n",
    "        x = self.pool1(self.relu1(x))\n",
    "        x = self.conv2(x)\n",
    "        x = self.pool2(self.relu2(x))\n",
    "        x = self.conv3(x)\n",
    "        x = self.pool3(self.relu3(x))\n",
    "        \n",
    "        # print(x.shape)\n",
    "        s = x.shape\n",
    "\n",
    "        x = x.view(-1, s[2] * s[3])\n",
    "\n",
    "        x = self.relu3(self.fc(x))\n",
    "        x = self.dropout(x)\n",
    "\n",
    "        x = self.outlayer(x)\n",
    "        return x"
   ]
  },
  {
   "cell_type": "code",
   "execution_count": 12,
   "metadata": {},
   "outputs": [
    {
     "name": "stderr",
     "output_type": "stream",
     "text": [
      "5it [00:01,  3.49it/s]\n",
      "5it [00:00, 13.38it/s]\n"
     ]
    },
    {
     "name": "stdout",
     "output_type": "stream",
     "text": [
      "[001/00004] train_loss: 37.511\n",
      "[001/00004] val_loss: 8.639, val_accuracy: 0.195\n"
     ]
    },
    {
     "name": "stderr",
     "output_type": "stream",
     "text": [
      "5it [00:00, 14.30it/s]\n",
      "5it [00:00, 13.89it/s]\n"
     ]
    },
    {
     "name": "stdout",
     "output_type": "stream",
     "text": [
      "[003/00004] train_loss: 11.022\n",
      "[003/00004] val_loss: 8.763, val_accuracy: 0.183\n"
     ]
    },
    {
     "name": "stderr",
     "output_type": "stream",
     "text": [
      "5it [00:00, 14.38it/s]\n",
      "5it [00:00, 13.76it/s]\n"
     ]
    },
    {
     "name": "stdout",
     "output_type": "stream",
     "text": [
      "[005/00004] train_loss: 8.802\n",
      "[005/00004] val_loss: 6.347, val_accuracy: 0.409\n"
     ]
    },
    {
     "name": "stderr",
     "output_type": "stream",
     "text": [
      "5it [00:00, 14.25it/s]\n",
      "5it [00:00, 13.81it/s]\n"
     ]
    },
    {
     "name": "stdout",
     "output_type": "stream",
     "text": [
      "[007/00004] train_loss: 5.298\n",
      "[007/00004] val_loss: 4.497, val_accuracy: 0.581\n"
     ]
    },
    {
     "name": "stderr",
     "output_type": "stream",
     "text": [
      "5it [00:00, 14.36it/s]\n",
      "5it [00:00, 13.83it/s]\n"
     ]
    },
    {
     "name": "stdout",
     "output_type": "stream",
     "text": [
      "[009/00004] train_loss: 4.177\n",
      "[009/00004] val_loss: 6.439, val_accuracy: 0.400\n"
     ]
    },
    {
     "name": "stderr",
     "output_type": "stream",
     "text": [
      "5it [00:00, 14.29it/s]\n",
      "5it [00:00, 13.73it/s]\n"
     ]
    },
    {
     "name": "stdout",
     "output_type": "stream",
     "text": [
      "[011/00004] train_loss: 4.642\n",
      "[011/00004] val_loss: 3.963, val_accuracy: 0.631\n"
     ]
    },
    {
     "name": "stderr",
     "output_type": "stream",
     "text": [
      "5it [00:00, 14.39it/s]\n",
      "5it [00:00, 13.88it/s]\n"
     ]
    },
    {
     "name": "stdout",
     "output_type": "stream",
     "text": [
      "[013/00004] train_loss: 2.598\n",
      "[013/00004] val_loss: 2.648, val_accuracy: 0.753\n"
     ]
    },
    {
     "name": "stderr",
     "output_type": "stream",
     "text": [
      "5it [00:00, 14.40it/s]\n",
      "5it [00:00, 13.78it/s]\n"
     ]
    },
    {
     "name": "stdout",
     "output_type": "stream",
     "text": [
      "[015/00004] train_loss: 1.836\n",
      "[015/00004] val_loss: 3.232, val_accuracy: 0.699\n"
     ]
    },
    {
     "name": "stderr",
     "output_type": "stream",
     "text": [
      "5it [00:00, 14.31it/s]\n",
      "5it [00:00, 13.84it/s]\n"
     ]
    },
    {
     "name": "stdout",
     "output_type": "stream",
     "text": [
      "[017/00004] train_loss: 2.658\n",
      "[017/00004] val_loss: 3.427, val_accuracy: 0.681\n"
     ]
    },
    {
     "name": "stderr",
     "output_type": "stream",
     "text": [
      "5it [00:00, 14.20it/s]\n",
      "5it [00:00, 13.80it/s]\n"
     ]
    },
    {
     "name": "stdout",
     "output_type": "stream",
     "text": [
      "[019/00004] train_loss: 2.231\n",
      "[019/00004] val_loss: 2.563, val_accuracy: 0.761\n"
     ]
    },
    {
     "name": "stderr",
     "output_type": "stream",
     "text": [
      "5it [00:00, 14.15it/s]\n",
      "5it [00:00, 13.90it/s]\n"
     ]
    },
    {
     "name": "stdout",
     "output_type": "stream",
     "text": [
      "[021/00004] train_loss: 1.657\n",
      "[021/00004] val_loss: 3.039, val_accuracy: 0.717\n"
     ]
    },
    {
     "name": "stderr",
     "output_type": "stream",
     "text": [
      "5it [00:00, 14.27it/s]\n",
      "5it [00:00, 13.80it/s]\n"
     ]
    },
    {
     "name": "stdout",
     "output_type": "stream",
     "text": [
      "[023/00004] train_loss: 1.790\n",
      "[023/00004] val_loss: 2.508, val_accuracy: 0.766\n"
     ]
    },
    {
     "name": "stderr",
     "output_type": "stream",
     "text": [
      "5it [00:00, 14.43it/s]\n",
      "5it [00:00, 13.69it/s]\n"
     ]
    },
    {
     "name": "stdout",
     "output_type": "stream",
     "text": [
      "[025/00004] train_loss: 0.797\n",
      "[025/00004] val_loss: 2.490, val_accuracy: 0.768\n"
     ]
    },
    {
     "name": "stderr",
     "output_type": "stream",
     "text": [
      "5it [00:00, 14.28it/s]\n",
      "5it [00:00, 13.76it/s]\n"
     ]
    },
    {
     "name": "stdout",
     "output_type": "stream",
     "text": [
      "[027/00004] train_loss: 1.275\n",
      "[027/00004] val_loss: 3.358, val_accuracy: 0.687\n"
     ]
    },
    {
     "name": "stderr",
     "output_type": "stream",
     "text": [
      "5it [00:00, 14.34it/s]\n",
      "5it [00:00, 13.97it/s]\n"
     ]
    },
    {
     "name": "stdout",
     "output_type": "stream",
     "text": [
      "[029/00004] train_loss: 1.682\n",
      "[029/00004] val_loss: 3.340, val_accuracy: 0.689\n"
     ]
    },
    {
     "name": "stderr",
     "output_type": "stream",
     "text": [
      "5it [00:00, 14.42it/s]\n",
      "5it [00:00, 13.73it/s]\n"
     ]
    },
    {
     "name": "stdout",
     "output_type": "stream",
     "text": [
      "[031/00004] train_loss: 1.956\n",
      "[031/00004] val_loss: 2.254, val_accuracy: 0.790\n"
     ]
    },
    {
     "name": "stderr",
     "output_type": "stream",
     "text": [
      "5it [00:00, 14.24it/s]\n",
      "5it [00:00, 13.86it/s]\n"
     ]
    },
    {
     "name": "stdout",
     "output_type": "stream",
     "text": [
      "[033/00004] train_loss: 1.285\n",
      "[033/00004] val_loss: 2.280, val_accuracy: 0.788\n"
     ]
    },
    {
     "name": "stderr",
     "output_type": "stream",
     "text": [
      "5it [00:00, 14.45it/s]\n",
      "5it [00:00, 13.92it/s]\n"
     ]
    },
    {
     "name": "stdout",
     "output_type": "stream",
     "text": [
      "[035/00004] train_loss: 1.038\n",
      "[035/00004] val_loss: 2.932, val_accuracy: 0.727\n"
     ]
    },
    {
     "name": "stderr",
     "output_type": "stream",
     "text": [
      "5it [00:00, 14.28it/s]\n",
      "5it [00:00, 13.80it/s]\n"
     ]
    },
    {
     "name": "stdout",
     "output_type": "stream",
     "text": [
      "[037/00004] train_loss: 0.899\n",
      "[037/00004] val_loss: 3.721, val_accuracy: 0.653\n"
     ]
    },
    {
     "name": "stderr",
     "output_type": "stream",
     "text": [
      "5it [00:00, 14.34it/s]\n",
      "5it [00:00, 13.97it/s]\n"
     ]
    },
    {
     "name": "stdout",
     "output_type": "stream",
     "text": [
      "[039/00004] train_loss: 1.364\n",
      "[039/00004] val_loss: 3.063, val_accuracy: 0.715\n"
     ]
    },
    {
     "name": "stderr",
     "output_type": "stream",
     "text": [
      "5it [00:00, 14.39it/s]\n",
      "5it [00:00, 13.87it/s]\n"
     ]
    },
    {
     "name": "stdout",
     "output_type": "stream",
     "text": [
      "[041/00004] train_loss: 0.552\n",
      "[041/00004] val_loss: 2.379, val_accuracy: 0.778\n"
     ]
    },
    {
     "name": "stderr",
     "output_type": "stream",
     "text": [
      "5it [00:00, 14.33it/s]\n",
      "5it [00:00, 13.92it/s]\n"
     ]
    },
    {
     "name": "stdout",
     "output_type": "stream",
     "text": [
      "[043/00004] train_loss: 1.034\n",
      "[043/00004] val_loss: 2.557, val_accuracy: 0.762\n"
     ]
    },
    {
     "name": "stderr",
     "output_type": "stream",
     "text": [
      "5it [00:00, 14.30it/s]\n",
      "5it [00:00, 13.77it/s]\n"
     ]
    },
    {
     "name": "stdout",
     "output_type": "stream",
     "text": [
      "[045/00004] train_loss: 1.071\n",
      "[045/00004] val_loss: 3.704, val_accuracy: 0.655\n"
     ]
    },
    {
     "name": "stderr",
     "output_type": "stream",
     "text": [
      "5it [00:00, 14.41it/s]\n",
      "5it [00:00, 13.88it/s]\n"
     ]
    },
    {
     "name": "stdout",
     "output_type": "stream",
     "text": [
      "[047/00004] train_loss: 1.060\n",
      "[047/00004] val_loss: 3.141, val_accuracy: 0.707\n"
     ]
    },
    {
     "name": "stderr",
     "output_type": "stream",
     "text": [
      "5it [00:00, 14.16it/s]\n",
      "5it [00:00, 13.79it/s]\n"
     ]
    },
    {
     "name": "stdout",
     "output_type": "stream",
     "text": [
      "[049/00004] train_loss: 0.880\n",
      "[049/00004] val_loss: 2.431, val_accuracy: 0.773\n"
     ]
    },
    {
     "name": "stderr",
     "output_type": "stream",
     "text": [
      "5it [00:00, 14.35it/s]\n",
      "5it [00:00, 13.80it/s]\n"
     ]
    },
    {
     "name": "stdout",
     "output_type": "stream",
     "text": [
      "[051/00004] train_loss: 1.072\n",
      "[051/00004] val_loss: 2.492, val_accuracy: 0.768\n"
     ]
    },
    {
     "name": "stderr",
     "output_type": "stream",
     "text": [
      "5it [00:00, 14.25it/s]\n",
      "5it [00:00, 13.75it/s]\n"
     ]
    },
    {
     "name": "stdout",
     "output_type": "stream",
     "text": [
      "[053/00004] train_loss: 0.823\n",
      "[053/00004] val_loss: 2.872, val_accuracy: 0.732\n"
     ]
    },
    {
     "name": "stderr",
     "output_type": "stream",
     "text": [
      "5it [00:00, 14.45it/s]\n",
      "5it [00:00, 13.87it/s]\n"
     ]
    },
    {
     "name": "stdout",
     "output_type": "stream",
     "text": [
      "[055/00004] train_loss: 1.325\n",
      "[055/00004] val_loss: 2.248, val_accuracy: 0.790\n"
     ]
    },
    {
     "name": "stderr",
     "output_type": "stream",
     "text": [
      "5it [00:00, 14.16it/s]\n",
      "5it [00:00, 13.91it/s]\n"
     ]
    },
    {
     "name": "stdout",
     "output_type": "stream",
     "text": [
      "[057/00004] train_loss: 0.753\n",
      "[057/00004] val_loss: 2.274, val_accuracy: 0.788\n"
     ]
    },
    {
     "name": "stderr",
     "output_type": "stream",
     "text": [
      "5it [00:00, 14.18it/s]\n",
      "5it [00:00, 13.75it/s]\n"
     ]
    },
    {
     "name": "stdout",
     "output_type": "stream",
     "text": [
      "[059/00004] train_loss: 0.841\n",
      "[059/00004] val_loss: 2.472, val_accuracy: 0.770\n"
     ]
    },
    {
     "name": "stderr",
     "output_type": "stream",
     "text": [
      "5it [00:00, 14.22it/s]\n",
      "5it [00:00, 13.86it/s]\n"
     ]
    },
    {
     "name": "stdout",
     "output_type": "stream",
     "text": [
      "[061/00004] train_loss: 0.569\n",
      "[061/00004] val_loss: 2.314, val_accuracy: 0.784\n"
     ]
    },
    {
     "name": "stderr",
     "output_type": "stream",
     "text": [
      "5it [00:00, 14.21it/s]\n",
      "5it [00:00, 13.74it/s]\n"
     ]
    },
    {
     "name": "stdout",
     "output_type": "stream",
     "text": [
      "[063/00004] train_loss: 0.646\n",
      "[063/00004] val_loss: 2.213, val_accuracy: 0.794\n"
     ]
    },
    {
     "name": "stderr",
     "output_type": "stream",
     "text": [
      "5it [00:00, 14.43it/s]\n",
      "5it [00:00, 13.88it/s]\n"
     ]
    },
    {
     "name": "stdout",
     "output_type": "stream",
     "text": [
      "[065/00004] train_loss: 0.812\n",
      "[065/00004] val_loss: 1.968, val_accuracy: 0.817\n"
     ]
    },
    {
     "name": "stderr",
     "output_type": "stream",
     "text": [
      "5it [00:00, 14.34it/s]\n",
      "5it [00:00, 13.78it/s]\n"
     ]
    },
    {
     "name": "stdout",
     "output_type": "stream",
     "text": [
      "[067/00004] train_loss: 0.606\n",
      "[067/00004] val_loss: 2.258, val_accuracy: 0.790\n"
     ]
    },
    {
     "name": "stderr",
     "output_type": "stream",
     "text": [
      "5it [00:00, 14.34it/s]\n",
      "5it [00:00, 13.77it/s]\n"
     ]
    },
    {
     "name": "stdout",
     "output_type": "stream",
     "text": [
      "[069/00004] train_loss: 0.789\n",
      "[069/00004] val_loss: 2.098, val_accuracy: 0.805\n"
     ]
    },
    {
     "name": "stderr",
     "output_type": "stream",
     "text": [
      "5it [00:00, 14.27it/s]\n",
      "5it [00:00, 13.80it/s]\n"
     ]
    },
    {
     "name": "stdout",
     "output_type": "stream",
     "text": [
      "[071/00004] train_loss: 1.198\n",
      "[071/00004] val_loss: 2.461, val_accuracy: 0.771\n"
     ]
    },
    {
     "name": "stderr",
     "output_type": "stream",
     "text": [
      "5it [00:00, 14.44it/s]\n",
      "5it [00:00, 14.02it/s]\n"
     ]
    },
    {
     "name": "stdout",
     "output_type": "stream",
     "text": [
      "[073/00004] train_loss: 0.532\n",
      "[073/00004] val_loss: 2.318, val_accuracy: 0.784\n"
     ]
    },
    {
     "name": "stderr",
     "output_type": "stream",
     "text": [
      "5it [00:00, 14.40it/s]\n",
      "5it [00:00, 13.81it/s]\n"
     ]
    },
    {
     "name": "stdout",
     "output_type": "stream",
     "text": [
      "[075/00004] train_loss: 0.577\n",
      "[075/00004] val_loss: 2.773, val_accuracy: 0.742\n"
     ]
    },
    {
     "name": "stderr",
     "output_type": "stream",
     "text": [
      "5it [00:00, 14.41it/s]\n",
      "5it [00:00, 13.91it/s]\n"
     ]
    },
    {
     "name": "stdout",
     "output_type": "stream",
     "text": [
      "[077/00004] train_loss: 0.740\n",
      "[077/00004] val_loss: 2.250, val_accuracy: 0.790\n"
     ]
    },
    {
     "name": "stderr",
     "output_type": "stream",
     "text": [
      "5it [00:00, 14.41it/s]\n",
      "5it [00:00, 13.92it/s]\n"
     ]
    },
    {
     "name": "stdout",
     "output_type": "stream",
     "text": [
      "[079/00004] train_loss: 0.715\n",
      "[079/00004] val_loss: 4.193, val_accuracy: 0.609\n"
     ]
    },
    {
     "name": "stderr",
     "output_type": "stream",
     "text": [
      "5it [00:00, 14.52it/s]\n",
      "5it [00:00, 13.94it/s]\n"
     ]
    },
    {
     "name": "stdout",
     "output_type": "stream",
     "text": [
      "[081/00004] train_loss: 1.365\n",
      "[081/00004] val_loss: 2.466, val_accuracy: 0.770\n"
     ]
    },
    {
     "name": "stderr",
     "output_type": "stream",
     "text": [
      "5it [00:00, 14.44it/s]\n",
      "5it [00:00, 13.73it/s]\n"
     ]
    },
    {
     "name": "stdout",
     "output_type": "stream",
     "text": [
      "[083/00004] train_loss: 1.557\n",
      "[083/00004] val_loss: 2.761, val_accuracy: 0.743\n"
     ]
    },
    {
     "name": "stderr",
     "output_type": "stream",
     "text": [
      "5it [00:00, 14.43it/s]\n",
      "5it [00:00, 13.89it/s]\n"
     ]
    },
    {
     "name": "stdout",
     "output_type": "stream",
     "text": [
      "[085/00004] train_loss: 0.649\n",
      "[085/00004] val_loss: 2.609, val_accuracy: 0.757\n"
     ]
    },
    {
     "name": "stderr",
     "output_type": "stream",
     "text": [
      "5it [00:00, 14.36it/s]\n",
      "5it [00:00, 13.90it/s]\n"
     ]
    },
    {
     "name": "stdout",
     "output_type": "stream",
     "text": [
      "[087/00004] train_loss: 0.370\n",
      "[087/00004] val_loss: 2.258, val_accuracy: 0.790\n"
     ]
    },
    {
     "name": "stderr",
     "output_type": "stream",
     "text": [
      "5it [00:00, 14.38it/s]\n",
      "5it [00:00, 13.87it/s]\n"
     ]
    },
    {
     "name": "stdout",
     "output_type": "stream",
     "text": [
      "[089/00004] train_loss: 0.609\n",
      "[089/00004] val_loss: 2.626, val_accuracy: 0.755\n"
     ]
    },
    {
     "name": "stderr",
     "output_type": "stream",
     "text": [
      "5it [00:00, 14.45it/s]\n",
      "5it [00:00, 13.92it/s]\n"
     ]
    },
    {
     "name": "stdout",
     "output_type": "stream",
     "text": [
      "[091/00004] train_loss: 0.420\n",
      "[091/00004] val_loss: 3.030, val_accuracy: 0.718\n"
     ]
    },
    {
     "name": "stderr",
     "output_type": "stream",
     "text": [
      "5it [00:00, 14.44it/s]\n",
      "5it [00:00, 13.92it/s]\n"
     ]
    },
    {
     "name": "stdout",
     "output_type": "stream",
     "text": [
      "[093/00004] train_loss: 0.781\n",
      "[093/00004] val_loss: 2.212, val_accuracy: 0.794\n"
     ]
    },
    {
     "name": "stderr",
     "output_type": "stream",
     "text": [
      "5it [00:00, 14.41it/s]\n",
      "5it [00:00, 13.67it/s]\n"
     ]
    },
    {
     "name": "stdout",
     "output_type": "stream",
     "text": [
      "[095/00004] train_loss: 0.336\n",
      "[095/00004] val_loss: 2.158, val_accuracy: 0.799\n"
     ]
    },
    {
     "name": "stderr",
     "output_type": "stream",
     "text": [
      "5it [00:00, 14.45it/s]\n",
      "5it [00:00, 13.85it/s]\n"
     ]
    },
    {
     "name": "stdout",
     "output_type": "stream",
     "text": [
      "[097/00004] train_loss: 0.927\n",
      "[097/00004] val_loss: 2.460, val_accuracy: 0.771\n"
     ]
    },
    {
     "name": "stderr",
     "output_type": "stream",
     "text": [
      "5it [00:00, 14.37it/s]\n",
      "5it [00:00, 13.97it/s]\n"
     ]
    },
    {
     "name": "stdout",
     "output_type": "stream",
     "text": [
      "[099/00004] train_loss: 0.416\n",
      "[099/00004] val_loss: 3.460, val_accuracy: 0.678\n"
     ]
    },
    {
     "name": "stderr",
     "output_type": "stream",
     "text": [
      "5it [00:00, 14.26it/s]\n",
      "5it [00:00, 13.83it/s]\n"
     ]
    },
    {
     "name": "stdout",
     "output_type": "stream",
     "text": [
      "[101/00004] train_loss: 0.883\n",
      "[101/00004] val_loss: 3.664, val_accuracy: 0.659\n"
     ]
    },
    {
     "name": "stderr",
     "output_type": "stream",
     "text": [
      "5it [00:00, 14.39it/s]\n",
      "5it [00:00, 13.91it/s]\n"
     ]
    },
    {
     "name": "stdout",
     "output_type": "stream",
     "text": [
      "[103/00004] train_loss: 2.461\n",
      "[103/00004] val_loss: 2.296, val_accuracy: 0.786\n"
     ]
    },
    {
     "name": "stderr",
     "output_type": "stream",
     "text": [
      "5it [00:00, 14.30it/s]\n",
      "5it [00:00, 13.74it/s]\n"
     ]
    },
    {
     "name": "stdout",
     "output_type": "stream",
     "text": [
      "[105/00004] train_loss: 1.413\n",
      "[105/00004] val_loss: 2.431, val_accuracy: 0.773\n"
     ]
    },
    {
     "name": "stderr",
     "output_type": "stream",
     "text": [
      "5it [00:00, 14.45it/s]\n",
      "5it [00:00, 13.88it/s]\n"
     ]
    },
    {
     "name": "stdout",
     "output_type": "stream",
     "text": [
      "[107/00004] train_loss: 1.162\n",
      "[107/00004] val_loss: 2.396, val_accuracy: 0.777\n"
     ]
    },
    {
     "name": "stderr",
     "output_type": "stream",
     "text": [
      "5it [00:00, 14.31it/s]\n",
      "5it [00:00, 13.87it/s]\n"
     ]
    },
    {
     "name": "stdout",
     "output_type": "stream",
     "text": [
      "[109/00004] train_loss: 1.152\n",
      "[109/00004] val_loss: 4.032, val_accuracy: 0.624\n"
     ]
    },
    {
     "name": "stderr",
     "output_type": "stream",
     "text": [
      "5it [00:00, 14.43it/s]\n",
      "5it [00:00, 13.82it/s]\n"
     ]
    },
    {
     "name": "stdout",
     "output_type": "stream",
     "text": [
      "[111/00004] train_loss: 1.117\n",
      "[111/00004] val_loss: 2.702, val_accuracy: 0.748\n"
     ]
    },
    {
     "name": "stderr",
     "output_type": "stream",
     "text": [
      "5it [00:00, 14.44it/s]\n",
      "5it [00:00, 13.81it/s]\n"
     ]
    },
    {
     "name": "stdout",
     "output_type": "stream",
     "text": [
      "[113/00004] train_loss: 0.853\n",
      "[113/00004] val_loss: 2.340, val_accuracy: 0.782\n"
     ]
    },
    {
     "name": "stderr",
     "output_type": "stream",
     "text": [
      "5it [00:00, 14.36it/s]\n",
      "5it [00:00, 13.80it/s]\n"
     ]
    },
    {
     "name": "stdout",
     "output_type": "stream",
     "text": [
      "[115/00004] train_loss: 0.732\n",
      "[115/00004] val_loss: 2.112, val_accuracy: 0.803\n"
     ]
    },
    {
     "name": "stderr",
     "output_type": "stream",
     "text": [
      "5it [00:00, 14.38it/s]\n",
      "5it [00:00, 13.84it/s]\n"
     ]
    },
    {
     "name": "stdout",
     "output_type": "stream",
     "text": [
      "[117/00004] train_loss: 1.335\n",
      "[117/00004] val_loss: 1.827, val_accuracy: 0.830\n"
     ]
    },
    {
     "name": "stderr",
     "output_type": "stream",
     "text": [
      "5it [00:00, 14.43it/s]\n",
      "5it [00:00, 13.87it/s]\n"
     ]
    },
    {
     "name": "stdout",
     "output_type": "stream",
     "text": [
      "[119/00004] train_loss: 3.424\n",
      "[119/00004] val_loss: 3.480, val_accuracy: 0.676\n"
     ]
    },
    {
     "name": "stderr",
     "output_type": "stream",
     "text": [
      "5it [00:00, 14.46it/s]\n",
      "5it [00:00, 13.85it/s]\n"
     ]
    },
    {
     "name": "stdout",
     "output_type": "stream",
     "text": [
      "[121/00004] train_loss: 2.004\n",
      "[121/00004] val_loss: 3.236, val_accuracy: 0.698\n"
     ]
    },
    {
     "name": "stderr",
     "output_type": "stream",
     "text": [
      "5it [00:00, 14.38it/s]\n",
      "5it [00:00, 13.85it/s]\n"
     ]
    },
    {
     "name": "stdout",
     "output_type": "stream",
     "text": [
      "[123/00004] train_loss: 1.220\n",
      "[123/00004] val_loss: 2.247, val_accuracy: 0.791\n"
     ]
    },
    {
     "name": "stderr",
     "output_type": "stream",
     "text": [
      "5it [00:00, 14.38it/s]\n",
      "5it [00:00, 14.01it/s]\n"
     ]
    },
    {
     "name": "stdout",
     "output_type": "stream",
     "text": [
      "[125/00004] train_loss: 0.551\n",
      "[125/00004] val_loss: 2.174, val_accuracy: 0.797\n"
     ]
    },
    {
     "name": "stderr",
     "output_type": "stream",
     "text": [
      "5it [00:00, 14.36it/s]\n",
      "5it [00:00, 13.82it/s]\n"
     ]
    },
    {
     "name": "stdout",
     "output_type": "stream",
     "text": [
      "[127/00004] train_loss: 0.570\n",
      "[127/00004] val_loss: 2.223, val_accuracy: 0.793\n"
     ]
    },
    {
     "name": "stderr",
     "output_type": "stream",
     "text": [
      "5it [00:00, 14.47it/s]\n",
      "5it [00:00, 13.93it/s]\n"
     ]
    },
    {
     "name": "stdout",
     "output_type": "stream",
     "text": [
      "[129/00004] train_loss: 0.494\n",
      "[129/00004] val_loss: 2.789, val_accuracy: 0.740\n"
     ]
    },
    {
     "name": "stderr",
     "output_type": "stream",
     "text": [
      "5it [00:00, 14.33it/s]\n",
      "5it [00:00, 13.87it/s]\n"
     ]
    },
    {
     "name": "stdout",
     "output_type": "stream",
     "text": [
      "[131/00004] train_loss: 0.547\n",
      "[131/00004] val_loss: 2.555, val_accuracy: 0.762\n"
     ]
    },
    {
     "name": "stderr",
     "output_type": "stream",
     "text": [
      "5it [00:00, 14.46it/s]\n",
      "5it [00:00, 13.72it/s]\n"
     ]
    },
    {
     "name": "stdout",
     "output_type": "stream",
     "text": [
      "[133/00004] train_loss: 0.599\n",
      "[133/00004] val_loss: 2.626, val_accuracy: 0.755\n"
     ]
    },
    {
     "name": "stderr",
     "output_type": "stream",
     "text": [
      "5it [00:00, 14.46it/s]\n",
      "5it [00:00, 13.77it/s]\n"
     ]
    },
    {
     "name": "stdout",
     "output_type": "stream",
     "text": [
      "[135/00004] train_loss: 0.728\n",
      "[135/00004] val_loss: 2.697, val_accuracy: 0.749\n"
     ]
    },
    {
     "name": "stderr",
     "output_type": "stream",
     "text": [
      "5it [00:00, 14.38it/s]\n",
      "5it [00:00, 13.62it/s]\n"
     ]
    },
    {
     "name": "stdout",
     "output_type": "stream",
     "text": [
      "[137/00004] train_loss: 1.159\n",
      "[137/00004] val_loss: 2.359, val_accuracy: 0.780\n"
     ]
    },
    {
     "name": "stderr",
     "output_type": "stream",
     "text": [
      "5it [00:00, 14.13it/s]\n",
      "5it [00:00, 13.77it/s]\n"
     ]
    },
    {
     "name": "stdout",
     "output_type": "stream",
     "text": [
      "[139/00004] train_loss: 0.823\n",
      "[139/00004] val_loss: 2.649, val_accuracy: 0.753\n"
     ]
    },
    {
     "name": "stderr",
     "output_type": "stream",
     "text": [
      "5it [00:00, 14.38it/s]\n",
      "5it [00:00, 13.76it/s]\n"
     ]
    },
    {
     "name": "stdout",
     "output_type": "stream",
     "text": [
      "[141/00004] train_loss: 1.512\n",
      "[141/00004] val_loss: 2.646, val_accuracy: 0.753\n"
     ]
    },
    {
     "name": "stderr",
     "output_type": "stream",
     "text": [
      "5it [00:00, 14.29it/s]\n",
      "5it [00:00, 13.67it/s]\n"
     ]
    },
    {
     "name": "stdout",
     "output_type": "stream",
     "text": [
      "[143/00004] train_loss: 1.165\n",
      "[143/00004] val_loss: 3.832, val_accuracy: 0.643\n"
     ]
    },
    {
     "name": "stderr",
     "output_type": "stream",
     "text": [
      "5it [00:00, 14.34it/s]\n",
      "5it [00:00, 13.77it/s]\n"
     ]
    },
    {
     "name": "stdout",
     "output_type": "stream",
     "text": [
      "[145/00004] train_loss: 1.501\n",
      "[145/00004] val_loss: 5.094, val_accuracy: 0.525\n"
     ]
    },
    {
     "name": "stderr",
     "output_type": "stream",
     "text": [
      "5it [00:00, 14.20it/s]\n",
      "5it [00:00, 13.74it/s]\n"
     ]
    },
    {
     "name": "stdout",
     "output_type": "stream",
     "text": [
      "[147/00004] train_loss: 1.528\n",
      "[147/00004] val_loss: 3.476, val_accuracy: 0.676\n"
     ]
    },
    {
     "name": "stderr",
     "output_type": "stream",
     "text": [
      "5it [00:00, 14.46it/s]\n",
      "5it [00:00, 13.91it/s]\n"
     ]
    },
    {
     "name": "stdout",
     "output_type": "stream",
     "text": [
      "[149/00004] train_loss: 1.188\n",
      "[149/00004] val_loss: 3.337, val_accuracy: 0.689\n"
     ]
    },
    {
     "name": "stderr",
     "output_type": "stream",
     "text": [
      "5it [00:00, 14.36it/s]\n",
      "5it [00:00, 13.77it/s]\n"
     ]
    },
    {
     "name": "stdout",
     "output_type": "stream",
     "text": [
      "[151/00004] train_loss: 1.551\n",
      "[151/00004] val_loss: 2.657, val_accuracy: 0.752\n"
     ]
    },
    {
     "name": "stderr",
     "output_type": "stream",
     "text": [
      "5it [00:00, 14.44it/s]\n",
      "5it [00:00, 13.64it/s]\n"
     ]
    },
    {
     "name": "stdout",
     "output_type": "stream",
     "text": [
      "[153/00004] train_loss: 0.910\n",
      "[153/00004] val_loss: 2.277, val_accuracy: 0.788\n"
     ]
    },
    {
     "name": "stderr",
     "output_type": "stream",
     "text": [
      "5it [00:00, 14.29it/s]\n",
      "5it [00:00, 13.68it/s]\n"
     ]
    },
    {
     "name": "stdout",
     "output_type": "stream",
     "text": [
      "[155/00004] train_loss: 1.129\n",
      "[155/00004] val_loss: 2.389, val_accuracy: 0.777\n"
     ]
    },
    {
     "name": "stderr",
     "output_type": "stream",
     "text": [
      "5it [00:00, 14.24it/s]\n",
      "5it [00:00, 13.66it/s]\n"
     ]
    },
    {
     "name": "stdout",
     "output_type": "stream",
     "text": [
      "[157/00004] train_loss: 0.616\n",
      "[157/00004] val_loss: 2.416, val_accuracy: 0.775\n"
     ]
    },
    {
     "name": "stderr",
     "output_type": "stream",
     "text": [
      "5it [00:00, 14.39it/s]\n",
      "5it [00:00, 13.61it/s]\n"
     ]
    },
    {
     "name": "stdout",
     "output_type": "stream",
     "text": [
      "[159/00004] train_loss: 0.584\n",
      "[159/00004] val_loss: 2.332, val_accuracy: 0.783\n"
     ]
    },
    {
     "name": "stderr",
     "output_type": "stream",
     "text": [
      "5it [00:00, 14.10it/s]\n",
      "5it [00:00, 13.76it/s]\n"
     ]
    },
    {
     "name": "stdout",
     "output_type": "stream",
     "text": [
      "[161/00004] train_loss: 0.769\n",
      "[161/00004] val_loss: 2.306, val_accuracy: 0.785\n"
     ]
    },
    {
     "name": "stderr",
     "output_type": "stream",
     "text": [
      "5it [00:00, 14.46it/s]\n",
      "5it [00:00, 13.84it/s]\n"
     ]
    },
    {
     "name": "stdout",
     "output_type": "stream",
     "text": [
      "[163/00004] train_loss: 0.696\n",
      "[163/00004] val_loss: 2.141, val_accuracy: 0.800\n"
     ]
    },
    {
     "name": "stderr",
     "output_type": "stream",
     "text": [
      "5it [00:00, 14.38it/s]\n",
      "5it [00:00, 13.67it/s]\n"
     ]
    },
    {
     "name": "stdout",
     "output_type": "stream",
     "text": [
      "[165/00004] train_loss: 0.756\n",
      "[165/00004] val_loss: 1.981, val_accuracy: 0.815\n"
     ]
    },
    {
     "name": "stderr",
     "output_type": "stream",
     "text": [
      "5it [00:00, 14.44it/s]\n",
      "5it [00:00, 13.86it/s]\n"
     ]
    },
    {
     "name": "stdout",
     "output_type": "stream",
     "text": [
      "[167/00004] train_loss: 0.456\n",
      "[167/00004] val_loss: 2.174, val_accuracy: 0.797\n"
     ]
    },
    {
     "name": "stderr",
     "output_type": "stream",
     "text": [
      "5it [00:00, 14.35it/s]\n",
      "5it [00:00, 13.82it/s]\n"
     ]
    },
    {
     "name": "stdout",
     "output_type": "stream",
     "text": [
      "[169/00004] train_loss: 0.628\n",
      "[169/00004] val_loss: 2.292, val_accuracy: 0.786\n"
     ]
    },
    {
     "name": "stderr",
     "output_type": "stream",
     "text": [
      "5it [00:00, 14.36it/s]\n",
      "5it [00:00, 13.94it/s]\n"
     ]
    },
    {
     "name": "stdout",
     "output_type": "stream",
     "text": [
      "[171/00004] train_loss: 0.873\n",
      "[171/00004] val_loss: 2.428, val_accuracy: 0.774\n"
     ]
    },
    {
     "name": "stderr",
     "output_type": "stream",
     "text": [
      "5it [00:00, 14.17it/s]\n",
      "5it [00:00, 13.79it/s]\n"
     ]
    },
    {
     "name": "stdout",
     "output_type": "stream",
     "text": [
      "[173/00004] train_loss: 0.445\n",
      "[173/00004] val_loss: 2.283, val_accuracy: 0.787\n"
     ]
    },
    {
     "name": "stderr",
     "output_type": "stream",
     "text": [
      "5it [00:00, 14.40it/s]\n",
      "5it [00:00, 13.51it/s]\n"
     ]
    },
    {
     "name": "stdout",
     "output_type": "stream",
     "text": [
      "[175/00004] train_loss: 0.432\n",
      "[175/00004] val_loss: 1.996, val_accuracy: 0.814\n"
     ]
    },
    {
     "name": "stderr",
     "output_type": "stream",
     "text": [
      "5it [00:00, 14.25it/s]\n",
      "5it [00:00, 13.80it/s]\n"
     ]
    },
    {
     "name": "stdout",
     "output_type": "stream",
     "text": [
      "[177/00004] train_loss: 0.623\n",
      "[177/00004] val_loss: 2.301, val_accuracy: 0.786\n"
     ]
    },
    {
     "name": "stderr",
     "output_type": "stream",
     "text": [
      "5it [00:00, 14.37it/s]\n",
      "5it [00:00, 13.82it/s]\n"
     ]
    },
    {
     "name": "stdout",
     "output_type": "stream",
     "text": [
      "[179/00004] train_loss: 0.334\n",
      "[179/00004] val_loss: 2.819, val_accuracy: 0.737\n"
     ]
    },
    {
     "name": "stderr",
     "output_type": "stream",
     "text": [
      "5it [00:00, 14.33it/s]\n",
      "5it [00:00, 13.76it/s]\n"
     ]
    },
    {
     "name": "stdout",
     "output_type": "stream",
     "text": [
      "[181/00004] train_loss: 0.544\n",
      "[181/00004] val_loss: 2.546, val_accuracy: 0.763\n"
     ]
    },
    {
     "name": "stderr",
     "output_type": "stream",
     "text": [
      "5it [00:00, 14.38it/s]\n",
      "5it [00:00, 13.86it/s]\n"
     ]
    },
    {
     "name": "stdout",
     "output_type": "stream",
     "text": [
      "[183/00004] train_loss: 0.342\n",
      "[183/00004] val_loss: 2.809, val_accuracy: 0.738\n"
     ]
    },
    {
     "name": "stderr",
     "output_type": "stream",
     "text": [
      "5it [00:00, 14.39it/s]\n",
      "5it [00:00, 13.76it/s]\n"
     ]
    },
    {
     "name": "stdout",
     "output_type": "stream",
     "text": [
      "[185/00004] train_loss: 0.478\n",
      "[185/00004] val_loss: 2.796, val_accuracy: 0.739\n"
     ]
    },
    {
     "name": "stderr",
     "output_type": "stream",
     "text": [
      "5it [00:00, 14.35it/s]\n",
      "5it [00:00, 13.92it/s]\n"
     ]
    },
    {
     "name": "stdout",
     "output_type": "stream",
     "text": [
      "[187/00004] train_loss: 0.298\n",
      "[187/00004] val_loss: 2.481, val_accuracy: 0.769\n"
     ]
    },
    {
     "name": "stderr",
     "output_type": "stream",
     "text": [
      "5it [00:00, 14.22it/s]\n",
      "5it [00:00, 13.78it/s]\n"
     ]
    },
    {
     "name": "stdout",
     "output_type": "stream",
     "text": [
      "[189/00004] train_loss: 0.334\n",
      "[189/00004] val_loss: 2.745, val_accuracy: 0.744\n"
     ]
    },
    {
     "name": "stderr",
     "output_type": "stream",
     "text": [
      "5it [00:00, 14.46it/s]\n",
      "5it [00:00, 13.87it/s]\n"
     ]
    },
    {
     "name": "stdout",
     "output_type": "stream",
     "text": [
      "[191/00004] train_loss: 0.409\n",
      "[191/00004] val_loss: 2.550, val_accuracy: 0.762\n"
     ]
    },
    {
     "name": "stderr",
     "output_type": "stream",
     "text": [
      "5it [00:00, 14.38it/s]\n",
      "5it [00:00, 13.65it/s]\n"
     ]
    },
    {
     "name": "stdout",
     "output_type": "stream",
     "text": [
      "[193/00004] train_loss: 0.351\n",
      "[193/00004] val_loss: 2.538, val_accuracy: 0.763\n"
     ]
    },
    {
     "name": "stderr",
     "output_type": "stream",
     "text": [
      "5it [00:00, 14.44it/s]\n",
      "5it [00:00, 13.93it/s]\n"
     ]
    },
    {
     "name": "stdout",
     "output_type": "stream",
     "text": [
      "[195/00004] train_loss: 0.410\n",
      "[195/00004] val_loss: 2.552, val_accuracy: 0.762\n"
     ]
    },
    {
     "name": "stderr",
     "output_type": "stream",
     "text": [
      "5it [00:00, 14.45it/s]\n",
      "5it [00:00, 13.97it/s]\n"
     ]
    },
    {
     "name": "stdout",
     "output_type": "stream",
     "text": [
      "[197/00004] train_loss: 0.348\n",
      "[197/00004] val_loss: 2.911, val_accuracy: 0.729\n"
     ]
    },
    {
     "name": "stderr",
     "output_type": "stream",
     "text": [
      "5it [00:00, 14.20it/s]\n",
      "5it [00:00, 13.76it/s]\n"
     ]
    },
    {
     "name": "stdout",
     "output_type": "stream",
     "text": [
      "[199/00004] train_loss: 0.330\n",
      "[199/00004] val_loss: 2.564, val_accuracy: 0.761\n"
     ]
    },
    {
     "name": "stderr",
     "output_type": "stream",
     "text": [
      "5it [00:00, 15.00it/s]\n",
      "5it [00:00, 14.97it/s]\n"
     ]
    },
    {
     "name": "stdout",
     "output_type": "stream",
     "text": [
      "[201/00004] train_loss: 0.434\n",
      "[201/00004] val_loss: 2.414, val_accuracy: 0.775\n"
     ]
    },
    {
     "name": "stderr",
     "output_type": "stream",
     "text": [
      "5it [00:00, 15.55it/s]\n",
      "5it [00:00, 15.03it/s]\n"
     ]
    },
    {
     "name": "stdout",
     "output_type": "stream",
     "text": [
      "[203/00004] train_loss: 0.575\n",
      "[203/00004] val_loss: 3.551, val_accuracy: 0.669\n"
     ]
    },
    {
     "name": "stderr",
     "output_type": "stream",
     "text": [
      "5it [00:00, 15.60it/s]\n",
      "5it [00:00, 14.94it/s]\n"
     ]
    },
    {
     "name": "stdout",
     "output_type": "stream",
     "text": [
      "[205/00004] train_loss: 0.760\n",
      "[205/00004] val_loss: 4.947, val_accuracy: 0.539\n"
     ]
    },
    {
     "name": "stderr",
     "output_type": "stream",
     "text": [
      "5it [00:00, 15.47it/s]\n",
      "5it [00:00, 14.96it/s]\n"
     ]
    },
    {
     "name": "stdout",
     "output_type": "stream",
     "text": [
      "[207/00004] train_loss: 1.030\n",
      "[207/00004] val_loss: 5.576, val_accuracy: 0.480\n"
     ]
    },
    {
     "name": "stderr",
     "output_type": "stream",
     "text": [
      "5it [00:00, 15.56it/s]\n",
      "5it [00:00, 15.04it/s]\n"
     ]
    },
    {
     "name": "stdout",
     "output_type": "stream",
     "text": [
      "[209/00004] train_loss: 1.879\n",
      "[209/00004] val_loss: 4.676, val_accuracy: 0.564\n"
     ]
    },
    {
     "name": "stderr",
     "output_type": "stream",
     "text": [
      "5it [00:00, 15.34it/s]\n",
      "5it [00:00, 14.87it/s]\n"
     ]
    },
    {
     "name": "stdout",
     "output_type": "stream",
     "text": [
      "[211/00004] train_loss: 1.575\n",
      "[211/00004] val_loss: 4.180, val_accuracy: 0.610\n"
     ]
    },
    {
     "name": "stderr",
     "output_type": "stream",
     "text": [
      "5it [00:00, 15.60it/s]\n",
      "5it [00:00, 15.04it/s]\n"
     ]
    },
    {
     "name": "stdout",
     "output_type": "stream",
     "text": [
      "[213/00004] train_loss: 0.794\n",
      "[213/00004] val_loss: 3.383, val_accuracy: 0.685\n"
     ]
    },
    {
     "name": "stderr",
     "output_type": "stream",
     "text": [
      "5it [00:00, 15.55it/s]\n",
      "5it [00:00, 14.94it/s]\n"
     ]
    },
    {
     "name": "stdout",
     "output_type": "stream",
     "text": [
      "[215/00004] train_loss: 0.550\n",
      "[215/00004] val_loss: 2.957, val_accuracy: 0.724\n"
     ]
    },
    {
     "name": "stderr",
     "output_type": "stream",
     "text": [
      "5it [00:00, 15.37it/s]\n",
      "5it [00:00, 14.90it/s]\n"
     ]
    },
    {
     "name": "stdout",
     "output_type": "stream",
     "text": [
      "[217/00004] train_loss: 0.915\n",
      "[217/00004] val_loss: 2.867, val_accuracy: 0.733\n"
     ]
    },
    {
     "name": "stderr",
     "output_type": "stream",
     "text": [
      "5it [00:00, 14.40it/s]\n",
      "5it [00:00, 13.84it/s]\n"
     ]
    },
    {
     "name": "stdout",
     "output_type": "stream",
     "text": [
      "[219/00004] train_loss: 0.721\n",
      "[219/00004] val_loss: 2.670, val_accuracy: 0.751\n"
     ]
    },
    {
     "name": "stderr",
     "output_type": "stream",
     "text": [
      "5it [00:00, 14.32it/s]\n",
      "5it [00:00, 13.83it/s]\n"
     ]
    },
    {
     "name": "stdout",
     "output_type": "stream",
     "text": [
      "[221/00004] train_loss: 0.521\n",
      "[221/00004] val_loss: 2.697, val_accuracy: 0.749\n"
     ]
    },
    {
     "name": "stderr",
     "output_type": "stream",
     "text": [
      "5it [00:00, 14.44it/s]\n",
      "5it [00:00, 13.78it/s]\n"
     ]
    },
    {
     "name": "stdout",
     "output_type": "stream",
     "text": [
      "[223/00004] train_loss: 0.407\n",
      "[223/00004] val_loss: 2.690, val_accuracy: 0.749\n"
     ]
    },
    {
     "name": "stderr",
     "output_type": "stream",
     "text": [
      "5it [00:00, 14.40it/s]\n",
      "5it [00:00, 13.89it/s]\n"
     ]
    },
    {
     "name": "stdout",
     "output_type": "stream",
     "text": [
      "[225/00004] train_loss: 0.439\n",
      "[225/00004] val_loss: 2.868, val_accuracy: 0.733\n"
     ]
    },
    {
     "name": "stderr",
     "output_type": "stream",
     "text": [
      "5it [00:00, 14.49it/s]\n",
      "5it [00:00, 13.92it/s]\n"
     ]
    },
    {
     "name": "stdout",
     "output_type": "stream",
     "text": [
      "[227/00004] train_loss: 0.381\n",
      "[227/00004] val_loss: 3.397, val_accuracy: 0.683\n"
     ]
    },
    {
     "name": "stderr",
     "output_type": "stream",
     "text": [
      "5it [00:00, 14.42it/s]\n",
      "5it [00:00, 13.75it/s]\n"
     ]
    },
    {
     "name": "stdout",
     "output_type": "stream",
     "text": [
      "[229/00004] train_loss: 0.269\n",
      "[229/00004] val_loss: 2.706, val_accuracy: 0.748\n"
     ]
    },
    {
     "name": "stderr",
     "output_type": "stream",
     "text": [
      "5it [00:00, 14.43it/s]\n",
      "5it [00:00, 14.01it/s]\n"
     ]
    },
    {
     "name": "stdout",
     "output_type": "stream",
     "text": [
      "[231/00004] train_loss: 0.519\n",
      "[231/00004] val_loss: 2.536, val_accuracy: 0.764\n"
     ]
    },
    {
     "name": "stderr",
     "output_type": "stream",
     "text": [
      "5it [00:00, 14.33it/s]\n",
      "5it [00:00, 13.81it/s]\n"
     ]
    },
    {
     "name": "stdout",
     "output_type": "stream",
     "text": [
      "[233/00004] train_loss: 0.656\n",
      "[233/00004] val_loss: 2.605, val_accuracy: 0.757\n"
     ]
    },
    {
     "name": "stderr",
     "output_type": "stream",
     "text": [
      "5it [00:00, 14.45it/s]\n",
      "5it [00:00, 13.80it/s]\n"
     ]
    },
    {
     "name": "stdout",
     "output_type": "stream",
     "text": [
      "[235/00004] train_loss: 0.891\n",
      "[235/00004] val_loss: 2.687, val_accuracy: 0.750\n"
     ]
    },
    {
     "name": "stderr",
     "output_type": "stream",
     "text": [
      "5it [00:00, 14.30it/s]\n",
      "5it [00:00, 13.83it/s]\n"
     ]
    },
    {
     "name": "stdout",
     "output_type": "stream",
     "text": [
      "[237/00004] train_loss: 0.825\n",
      "[237/00004] val_loss: 2.564, val_accuracy: 0.761\n"
     ]
    },
    {
     "name": "stderr",
     "output_type": "stream",
     "text": [
      "5it [00:00, 14.46it/s]\n",
      "5it [00:00, 13.90it/s]\n"
     ]
    },
    {
     "name": "stdout",
     "output_type": "stream",
     "text": [
      "[239/00004] train_loss: 0.787\n",
      "[239/00004] val_loss: 2.304, val_accuracy: 0.785\n"
     ]
    },
    {
     "name": "stderr",
     "output_type": "stream",
     "text": [
      "5it [00:00, 14.46it/s]\n",
      "5it [00:00, 13.96it/s]\n"
     ]
    },
    {
     "name": "stdout",
     "output_type": "stream",
     "text": [
      "[241/00004] train_loss: 0.406\n",
      "[241/00004] val_loss: 2.564, val_accuracy: 0.761\n"
     ]
    },
    {
     "name": "stderr",
     "output_type": "stream",
     "text": [
      "5it [00:00, 14.45it/s]\n",
      "5it [00:00, 14.05it/s]\n"
     ]
    },
    {
     "name": "stdout",
     "output_type": "stream",
     "text": [
      "[243/00004] train_loss: 0.489\n",
      "[243/00004] val_loss: 2.614, val_accuracy: 0.756\n"
     ]
    },
    {
     "name": "stderr",
     "output_type": "stream",
     "text": [
      "5it [00:00, 14.32it/s]\n",
      "5it [00:00, 13.81it/s]\n"
     ]
    },
    {
     "name": "stdout",
     "output_type": "stream",
     "text": [
      "[245/00004] train_loss: 0.543\n",
      "[245/00004] val_loss: 2.578, val_accuracy: 0.760\n"
     ]
    },
    {
     "name": "stderr",
     "output_type": "stream",
     "text": [
      "5it [00:00, 14.37it/s]\n",
      "5it [00:00, 13.90it/s]\n"
     ]
    },
    {
     "name": "stdout",
     "output_type": "stream",
     "text": [
      "[247/00004] train_loss: 0.281\n",
      "[247/00004] val_loss: 2.875, val_accuracy: 0.732\n"
     ]
    },
    {
     "name": "stderr",
     "output_type": "stream",
     "text": [
      "5it [00:00, 14.48it/s]\n",
      "5it [00:00, 14.03it/s]\n"
     ]
    },
    {
     "name": "stdout",
     "output_type": "stream",
     "text": [
      "[249/00004] train_loss: 0.537\n",
      "[249/00004] val_loss: 3.109, val_accuracy: 0.710\n"
     ]
    },
    {
     "name": "stderr",
     "output_type": "stream",
     "text": [
      "5it [00:00, 14.44it/s]\n",
      "5it [00:00, 13.85it/s]\n"
     ]
    },
    {
     "name": "stdout",
     "output_type": "stream",
     "text": [
      "[251/00004] train_loss: 0.493\n",
      "[251/00004] val_loss: 3.065, val_accuracy: 0.714\n"
     ]
    },
    {
     "name": "stderr",
     "output_type": "stream",
     "text": [
      "5it [00:00, 14.33it/s]\n",
      "5it [00:00, 13.85it/s]\n"
     ]
    },
    {
     "name": "stdout",
     "output_type": "stream",
     "text": [
      "[253/00004] train_loss: 0.294\n",
      "[253/00004] val_loss: 2.845, val_accuracy: 0.735\n"
     ]
    },
    {
     "name": "stderr",
     "output_type": "stream",
     "text": [
      "5it [00:00, 14.30it/s]\n",
      "5it [00:00, 14.00it/s]\n"
     ]
    },
    {
     "name": "stdout",
     "output_type": "stream",
     "text": [
      "[255/00004] train_loss: 0.293\n",
      "[255/00004] val_loss: 3.014, val_accuracy: 0.719\n"
     ]
    },
    {
     "name": "stderr",
     "output_type": "stream",
     "text": [
      "5it [00:00, 14.40it/s]\n",
      "5it [00:00, 13.89it/s]\n"
     ]
    },
    {
     "name": "stdout",
     "output_type": "stream",
     "text": [
      "[257/00004] train_loss: 0.304\n",
      "[257/00004] val_loss: 3.123, val_accuracy: 0.709\n"
     ]
    },
    {
     "name": "stderr",
     "output_type": "stream",
     "text": [
      "5it [00:00, 14.46it/s]\n",
      "5it [00:00, 13.84it/s]\n"
     ]
    },
    {
     "name": "stdout",
     "output_type": "stream",
     "text": [
      "[259/00004] train_loss: 0.459\n",
      "[259/00004] val_loss: 2.842, val_accuracy: 0.735\n"
     ]
    },
    {
     "name": "stderr",
     "output_type": "stream",
     "text": [
      "5it [00:00, 14.38it/s]\n",
      "5it [00:00, 13.81it/s]\n"
     ]
    },
    {
     "name": "stdout",
     "output_type": "stream",
     "text": [
      "[261/00004] train_loss: 0.274\n",
      "[261/00004] val_loss: 2.781, val_accuracy: 0.741\n"
     ]
    },
    {
     "name": "stderr",
     "output_type": "stream",
     "text": [
      "5it [00:00, 14.43it/s]\n",
      "5it [00:00, 13.97it/s]\n"
     ]
    },
    {
     "name": "stdout",
     "output_type": "stream",
     "text": [
      "[263/00004] train_loss: 0.306\n",
      "[263/00004] val_loss: 2.411, val_accuracy: 0.775\n"
     ]
    },
    {
     "name": "stderr",
     "output_type": "stream",
     "text": [
      "5it [00:00, 14.42it/s]\n",
      "5it [00:00, 13.93it/s]\n"
     ]
    },
    {
     "name": "stdout",
     "output_type": "stream",
     "text": [
      "[265/00004] train_loss: 0.411\n",
      "[265/00004] val_loss: 2.272, val_accuracy: 0.788\n"
     ]
    },
    {
     "name": "stderr",
     "output_type": "stream",
     "text": [
      "5it [00:00, 14.30it/s]\n",
      "5it [00:00, 13.88it/s]\n"
     ]
    },
    {
     "name": "stdout",
     "output_type": "stream",
     "text": [
      "[267/00004] train_loss: 0.604\n",
      "[267/00004] val_loss: 2.181, val_accuracy: 0.797\n"
     ]
    },
    {
     "name": "stderr",
     "output_type": "stream",
     "text": [
      "5it [00:00, 14.46it/s]\n",
      "5it [00:00, 14.03it/s]\n"
     ]
    },
    {
     "name": "stdout",
     "output_type": "stream",
     "text": [
      "[269/00004] train_loss: 0.471\n",
      "[269/00004] val_loss: 2.622, val_accuracy: 0.756\n"
     ]
    },
    {
     "name": "stderr",
     "output_type": "stream",
     "text": [
      "5it [00:00, 14.49it/s]\n",
      "5it [00:00, 13.73it/s]\n"
     ]
    },
    {
     "name": "stdout",
     "output_type": "stream",
     "text": [
      "[271/00004] train_loss: 0.346\n",
      "[271/00004] val_loss: 2.984, val_accuracy: 0.722\n"
     ]
    },
    {
     "name": "stderr",
     "output_type": "stream",
     "text": [
      "5it [00:00, 14.50it/s]\n",
      "5it [00:00, 13.87it/s]\n"
     ]
    },
    {
     "name": "stdout",
     "output_type": "stream",
     "text": [
      "[273/00004] train_loss: 0.609\n",
      "[273/00004] val_loss: 3.061, val_accuracy: 0.715\n"
     ]
    },
    {
     "name": "stderr",
     "output_type": "stream",
     "text": [
      "5it [00:00, 14.39it/s]\n",
      "5it [00:00, 13.81it/s]\n"
     ]
    },
    {
     "name": "stdout",
     "output_type": "stream",
     "text": [
      "[275/00004] train_loss: 0.365\n",
      "[275/00004] val_loss: 2.582, val_accuracy: 0.759\n"
     ]
    },
    {
     "name": "stderr",
     "output_type": "stream",
     "text": [
      "5it [00:00, 14.41it/s]\n",
      "5it [00:00, 13.92it/s]\n"
     ]
    },
    {
     "name": "stdout",
     "output_type": "stream",
     "text": [
      "[277/00004] train_loss: 0.223\n",
      "[277/00004] val_loss: 2.450, val_accuracy: 0.772\n"
     ]
    },
    {
     "name": "stderr",
     "output_type": "stream",
     "text": [
      "5it [00:00, 14.38it/s]\n",
      "5it [00:00, 13.77it/s]\n"
     ]
    },
    {
     "name": "stdout",
     "output_type": "stream",
     "text": [
      "[279/00004] train_loss: 0.269\n",
      "[279/00004] val_loss: 2.032, val_accuracy: 0.811\n"
     ]
    },
    {
     "name": "stderr",
     "output_type": "stream",
     "text": [
      "5it [00:00, 14.45it/s]\n",
      "5it [00:00, 13.97it/s]\n"
     ]
    },
    {
     "name": "stdout",
     "output_type": "stream",
     "text": [
      "[281/00004] train_loss: 0.375\n",
      "[281/00004] val_loss: 2.299, val_accuracy: 0.786\n"
     ]
    },
    {
     "name": "stderr",
     "output_type": "stream",
     "text": [
      "5it [00:00, 14.43it/s]\n",
      "5it [00:00, 13.97it/s]\n"
     ]
    },
    {
     "name": "stdout",
     "output_type": "stream",
     "text": [
      "[283/00004] train_loss: 0.361\n",
      "[283/00004] val_loss: 2.684, val_accuracy: 0.750\n"
     ]
    },
    {
     "name": "stderr",
     "output_type": "stream",
     "text": [
      "5it [00:00, 14.45it/s]\n",
      "5it [00:00, 13.97it/s]\n"
     ]
    },
    {
     "name": "stdout",
     "output_type": "stream",
     "text": [
      "[285/00004] train_loss: 0.344\n",
      "[285/00004] val_loss: 3.615, val_accuracy: 0.663\n"
     ]
    },
    {
     "name": "stderr",
     "output_type": "stream",
     "text": [
      "5it [00:00, 14.44it/s]\n",
      "5it [00:00, 13.89it/s]\n"
     ]
    },
    {
     "name": "stdout",
     "output_type": "stream",
     "text": [
      "[287/00004] train_loss: 0.479\n",
      "[287/00004] val_loss: 3.029, val_accuracy: 0.718\n"
     ]
    },
    {
     "name": "stderr",
     "output_type": "stream",
     "text": [
      "5it [00:00, 14.41it/s]\n",
      "5it [00:00, 13.97it/s]\n"
     ]
    },
    {
     "name": "stdout",
     "output_type": "stream",
     "text": [
      "[289/00004] train_loss: 0.444\n",
      "[289/00004] val_loss: 2.698, val_accuracy: 0.749\n"
     ]
    },
    {
     "name": "stderr",
     "output_type": "stream",
     "text": [
      "5it [00:00, 14.45it/s]\n",
      "5it [00:00, 13.90it/s]\n"
     ]
    },
    {
     "name": "stdout",
     "output_type": "stream",
     "text": [
      "[291/00004] train_loss: 0.313\n",
      "[291/00004] val_loss: 3.222, val_accuracy: 0.700\n"
     ]
    },
    {
     "name": "stderr",
     "output_type": "stream",
     "text": [
      "5it [00:00, 14.44it/s]\n",
      "5it [00:00, 13.90it/s]\n"
     ]
    },
    {
     "name": "stdout",
     "output_type": "stream",
     "text": [
      "[293/00004] train_loss: 0.466\n",
      "[293/00004] val_loss: 4.344, val_accuracy: 0.595\n"
     ]
    },
    {
     "name": "stderr",
     "output_type": "stream",
     "text": [
      "2it [00:00,  9.18it/s]\n"
     ]
    },
    {
     "ename": "KeyboardInterrupt",
     "evalue": "",
     "output_type": "error",
     "traceback": [
      "\u001b[0;31m---------------------------------------------------------------------------\u001b[0m",
      "\u001b[0;31mKeyboardInterrupt\u001b[0m                         Traceback (most recent call last)",
      "Cell \u001b[0;32mIn[12], line 40\u001b[0m\n\u001b[1;32m     37\u001b[0m optimizer\u001b[39m.\u001b[39mstep()\n\u001b[1;32m     39\u001b[0m \u001b[39m# loss logging\u001b[39;00m\n\u001b[0;32m---> 40\u001b[0m train_loss_running \u001b[39m+\u001b[39m\u001b[39m=\u001b[39m loss\u001b[39m.\u001b[39;49mitem()\n\u001b[1;32m     41\u001b[0m iteration \u001b[39m=\u001b[39m epoch \u001b[39m*\u001b[39m \u001b[39mlen\u001b[39m(train_loader) \u001b[39m+\u001b[39m i\n\u001b[1;32m     43\u001b[0m \u001b[39mif\u001b[39;00m iteration \u001b[39m%\u001b[39m \u001b[39m10\u001b[39m \u001b[39m==\u001b[39m (\u001b[39m10\u001b[39m \u001b[39m-\u001b[39m \u001b[39m1\u001b[39m):\n",
      "\u001b[0;31mKeyboardInterrupt\u001b[0m: "
     ]
    }
   ],
   "source": [
    "batch_size = 8\n",
    "device = torch.device('cuda' if torch.cuda.is_available() else 'cpu')\n",
    "model = Model().to(device) \n",
    "model = model.double()\n",
    "\n",
    "x_train, x_val, y_train, y_val = train_test_split(data, targets, test_size=0.3, random_state=42, shuffle=True)\n",
    "x_val, x_test, y_val, y_test = train_test_split(x_val, y_val, test_size=0.5, random_state=42, shuffle=True)\n",
    "\n",
    "train_dataset = TensorDataset(x_train, y_train)\n",
    "test_dataset = TensorDataset(x_test, y_test)\n",
    "val_dataset = TensorDataset(x_val, y_val)\n",
    "\n",
    "train_loader = DataLoader(dataset=train_dataset, batch_size=batch_size, shuffle=True)\n",
    "test_loader = DataLoader(dataset=test_dataset, batch_size=batch_size)\n",
    "val_loader = DataLoader(dataset=val_dataset, batch_size=batch_size, shuffle=True)\n",
    "\n",
    "loss_criterion = torch.nn.MSELoss()\n",
    "loss_criterion.to(device)\n",
    "\n",
    "optimizer = torch.optim.Adam(model.parameters(), lr=0.001)\n",
    "\n",
    "model.train()\n",
    "\n",
    "# best_accuracy = float(\"-inf\")\n",
    "train_loss_running = 0.\n",
    "\n",
    "for epoch in range(300):\n",
    "    for i, train_data in tqdm(enumerate(train_loader)): \n",
    "        x_train, y_train = train_data[0], train_data[1]\n",
    "        x_train = x_train.to(device)\n",
    "        optimizer.zero_grad()\n",
    "        prediction = model(x_train)\n",
    "        y_train = y_train.to(device)\n",
    "        loss = loss_criterion(prediction, y_train)  \n",
    "        loss.to(device)\n",
    "        loss.backward()\n",
    "        optimizer.step()\n",
    "        \n",
    "        # loss logging\n",
    "        train_loss_running += loss.item()\n",
    "        iteration = epoch * len(train_loader) + i\n",
    "\n",
    "        if iteration % 10 == (10 - 1):\n",
    "            print(f'[{epoch:03d}/{i:05d}] train_loss: {train_loss_running / 10:.3f}')\n",
    "            writer.add_scalars('dummy_VAT_mse', {'train_mse':train_loss_running / 10}, iteration)\n",
    "            train_loss_running = 0.\n",
    "            \n",
    "        # validation evaluation and logging\n",
    "        if iteration % 10 == (10 - 1):\n",
    "            loss_total_val = 0\n",
    "            _predictions = torch.tensor([])\n",
    "            _labels = torch.tensor([])\n",
    "\n",
    "            model.eval()\n",
    "                \n",
    "            # forward pass and evaluation for entire validation set\n",
    "            for val_data in val_loader:\n",
    "                x_val, y_val = val_data[0], val_data[1]\n",
    "                x_val = x_val.to(device)\n",
    "                \n",
    "                with torch.no_grad():\n",
    "                    prediction = model(x_val).detach().cpu()\n",
    "                                \n",
    "                y_val = y_val.detach().cpu()\n",
    "                #keep track of loss_total_val                                  \n",
    "                loss_total_val += loss_criterion(prediction,y_val).item()\n",
    "                _predictions = torch.cat((_predictions.double(), prediction.double()))\n",
    "                _labels = torch.cat((_labels.double(), y_val.double()))\n",
    "\n",
    "            accuracy = r2_score(_labels, _predictions)\n",
    "            print(f'[{epoch:03d}/{i:05d}] val_loss: {loss_total_val / len(val_loader):.3f}, val_accuracy: {accuracy:.3f}')\n",
    "            writer.add_scalars('dummy_VAT_mse', {'val_mse':loss_total_val / len(val_loader)}, iteration)\n",
    "\n",
    "            model.train()"
   ]
  },
  {
   "cell_type": "code",
   "execution_count": null,
   "metadata": {},
   "outputs": [
    {
     "data": {
      "text/plain": [
       "torch.Size([52, 363, 392, 3])"
      ]
     },
     "execution_count": 49,
     "metadata": {},
     "output_type": "execute_result"
    }
   ],
   "source": [
    "data.shape"
   ]
  },
  {
   "cell_type": "code",
   "execution_count": null,
   "metadata": {},
   "outputs": [],
   "source": []
  },
  {
   "cell_type": "code",
   "execution_count": null,
   "metadata": {},
   "outputs": [],
   "source": []
  }
 ],
 "metadata": {
  "kernelspec": {
   "display_name": "BodyMeshGNN",
   "language": "python",
   "name": "python3"
  },
  "language_info": {
   "codemirror_mode": {
    "name": "ipython",
    "version": 3
   },
   "file_extension": ".py",
   "mimetype": "text/x-python",
   "name": "python",
   "nbconvert_exporter": "python",
   "pygments_lexer": "ipython3",
   "version": "3.8.15"
  },
  "orig_nbformat": 4
 },
 "nbformat": 4,
 "nbformat_minor": 2
}
