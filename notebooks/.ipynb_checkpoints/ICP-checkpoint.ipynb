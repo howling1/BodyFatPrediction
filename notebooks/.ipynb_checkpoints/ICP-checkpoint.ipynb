{
 "cells": [
  {
   "cell_type": "code",
   "execution_count": 34,
   "id": "e8dadc8c",
   "metadata": {},
   "outputs": [],
   "source": [
    "from pathlib import Path\n",
    "import glob\n",
    "import os\n",
    "import numpy as np\n",
    "import pandas as pd\n",
    "from tqdm import tqdm\n",
    "import copy\n",
    "\n",
    "import open3d as o3d\n",
    "import nibabel as nib\n",
    "from skimage.measure import marching_cubes\n"
   ]
  },
  {
   "cell_type": "code",
   "execution_count": 23,
   "id": "aefa21f4",
   "metadata": {},
   "outputs": [],
   "source": [
    "DATA_ROOT = Path(\"C:/Users/aorhu/Masaüstü/samples\")\n",
    "TARGET_ROOT = \"D:/decimated\"\n",
    "VERTICES = 25000\n",
    "EXTENSION = \".ply\"\n",
    "LIMIT = 10000\n",
    "COUNT = 0"
   ]
  },
  {
   "cell_type": "code",
   "execution_count": 24,
   "id": "b18c11a1",
   "metadata": {},
   "outputs": [],
   "source": [
    "def process(DATA_ROOT, TARGET_ROOT, VERTICES, EXTENSION, LIMIT, COUNT):\n",
    "\n",
    "    for file in tqdm(os.listdir(str(DATA_ROOT))):\n",
    "        _path = str(os.path.join(str(DATA_ROOT), file).replace('\\\\', '/')) +'/body_mask.nii.gz'\n",
    "    \n",
    "        _id = _path[_path[:_path.rfind(\"/\")].rfind(\"/\")+1:_path.rfind(\"/\",0,)]\n",
    "        \n",
    "        if(os.path.exists(_path) and (LIMIT > COUNT) ):\n",
    "            \n",
    "            body_segment = nib.load(_path)\n",
    "            body_segment_data = body_segment.get_fdata()\n",
    "\n",
    "            verts, faces, _, __ = marching_cubes(body_segment_data, level=0, step_size=1)\n",
    "            verts = verts/np.array(body_segment_data.shape) \n",
    "\n",
    "            mesh = o3d.geometry.TriangleMesh(vertices=o3d.utility.Vector3dVector(np.asarray(verts)),\n",
    "                                        triangles=o3d.utility.Vector3iVector(np.asarray(faces)))\n",
    "\n",
    "            decimated_mesh = o3d.geometry.TriangleMesh.simplify_quadric_decimation(mesh, VERTICES)\n",
    "            \n",
    "            if (len(decimated_mesh.triangles) == VERTICES):\n",
    "                _target_path =  TARGET_ROOT + \"/\" + _id + EXTENSION\n",
    "                print( _target_path)\n",
    "                o3d.io.write_triangle_mesh( _target_path, decimated_mesh)\n",
    "                print('\\r' + str(COUNT) + \"written\", end='')\n",
    "                COUNT += 1\n",
    "        else:\n",
    "            continue"
   ]
  },
  {
   "cell_type": "code",
   "execution_count": 25,
   "id": "d9349555",
   "metadata": {},
   "outputs": [
    {
     "name": "stderr",
     "output_type": "stream",
     "text": [
      " 25%|█████████████████████                                                               | 1/4 [00:07<00:21,  7.18s/it]"
     ]
    },
    {
     "name": "stdout",
     "output_type": "stream",
     "text": [
      "D:/decimated/1000071.ply\n",
      "\r",
      "0written"
     ]
    },
    {
     "name": "stderr",
     "output_type": "stream",
     "text": [
      "\r",
      " 50%|██████████████████████████████████████████                                          | 2/4 [00:13<00:13,  6.78s/it]"
     ]
    },
    {
     "name": "stdout",
     "output_type": "stream",
     "text": [
      "D:/decimated/1000125.ply\n",
      "\r",
      "1written"
     ]
    },
    {
     "name": "stderr",
     "output_type": "stream",
     "text": [
      "\r",
      " 75%|███████████████████████████████████████████████████████████████                     | 3/4 [00:20<00:06,  6.77s/it]"
     ]
    },
    {
     "name": "stdout",
     "output_type": "stream",
     "text": [
      "D:/decimated/1002371.ply\n",
      "\r",
      "2written"
     ]
    },
    {
     "name": "stderr",
     "output_type": "stream",
     "text": [
      "100%|████████████████████████████████████████████████████████████████████████████████████| 4/4 [00:29<00:00,  7.36s/it]\n"
     ]
    }
   ],
   "source": [
    "process(DATA_ROOT, TARGET_ROOT, VERTICES, EXTENSION, LIMIT, COUNT)"
   ]
  },
  {
   "cell_type": "code",
   "execution_count": 26,
   "id": "4d9b2264",
   "metadata": {},
   "outputs": [
    {
     "name": "stderr",
     "output_type": "stream",
     "text": [
      "100%|████████████████████████████████████████████████████████████████████████████████████████████| 6/6 [00:00<?, ?it/s]"
     ]
    },
    {
     "name": "stdout",
     "output_type": "stream",
     "text": [
      "D:/decimated/1000071.off.ply\n",
      "D:/decimated/1000071.ply.ply\n",
      "D:/decimated/1000125.off.ply\n",
      "D:/decimated/1000125.ply.ply\n",
      "D:/decimated/1002371.off.ply\n",
      "D:/decimated/1002371.ply.ply\n"
     ]
    },
    {
     "name": "stderr",
     "output_type": "stream",
     "text": [
      "\n"
     ]
    }
   ],
   "source": [
    "for file in tqdm(os.listdir(str(TARGET_ROOT))):\n",
    "        _path = str(os.path.join(str(TARGET_ROOT), file).replace('\\\\', '/')) +'.ply'\n",
    "        print(_path)"
   ]
  },
  {
   "cell_type": "code",
   "execution_count": 28,
   "id": "ce13cc6e",
   "metadata": {},
   "outputs": [],
   "source": [
    "TARGET_ROOT = Path(\"D:/decimated\")"
   ]
  },
  {
   "cell_type": "code",
   "execution_count": 30,
   "id": "3aa542ee",
   "metadata": {},
   "outputs": [
    {
     "name": "stdout",
     "output_type": "stream",
     "text": [
      "D:/decimated/1000071.ply\n",
      "D:/decimated/1000125.ply\n",
      "D:/decimated/1002371.ply\n"
     ]
    }
   ],
   "source": [
    "for file in glob.glob(str(TARGET_ROOT / \"*.ply\")):\n",
    "    _path = file.replace('\\\\', '/')\n",
    "    print(_path)"
   ]
  },
  {
   "cell_type": "code",
   "execution_count": 39,
   "id": "a6e874fc",
   "metadata": {},
   "outputs": [],
   "source": [
    "def draw_registration_result(source, target):\n",
    "    source_temp = copy.deepcopy(source)\n",
    "    target_temp = copy.deepcopy(target)\n",
    "    source_temp.paint_uniform_color([1, 0.706, 0])\n",
    "    target_temp.paint_uniform_color([0, 0.651, 0.929])\n",
    "    o3d.visualization.draw_geometries([source_temp, target_temp])"
   ]
  },
  {
   "cell_type": "code",
   "execution_count": 46,
   "id": "d96efc84",
   "metadata": {},
   "outputs": [],
   "source": [
    "source = o3d.io.read_point_cloud(\"D:/decimated/1000071.ply\")\n",
    "target = o3d.io.read_point_cloud(\"D:/decimated/1000125.ply\")\n",
    "threshold = 0.02\n",
    "\n",
    "draw_registration_result(source, target)"
   ]
  },
  {
   "cell_type": "code",
   "execution_count": 47,
   "id": "8011e757",
   "metadata": {},
   "outputs": [],
   "source": [
    "source = o3d.io.read_point_cloud(\"D:/decimated/1000071.ply\")\n",
    "target = o3d.io.read_point_cloud(\"D:/decimated/1000125.ply\")"
   ]
  },
  {
   "cell_type": "code",
   "execution_count": 48,
   "id": "4d79e528",
   "metadata": {},
   "outputs": [],
   "source": [
    "source.estimate_normals()\n",
    "target.estimate_normals()"
   ]
  },
  {
   "cell_type": "code",
   "execution_count": null,
   "id": "7a7a589b",
   "metadata": {},
   "outputs": [],
   "source": []
  }
 ],
 "metadata": {
  "kernelspec": {
   "display_name": "Python 3 (ipykernel)",
   "language": "python",
   "name": "python3"
  },
  "language_info": {
   "codemirror_mode": {
    "name": "ipython",
    "version": 3
   },
   "file_extension": ".py",
   "mimetype": "text/x-python",
   "name": "python",
   "nbconvert_exporter": "python",
   "pygments_lexer": "ipython3",
   "version": "3.9.12"
  }
 },
 "nbformat": 4,
 "nbformat_minor": 5
}
