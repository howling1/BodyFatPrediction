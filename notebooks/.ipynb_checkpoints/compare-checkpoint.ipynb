{
 "cells": [
  {
   "cell_type": "code",
   "execution_count": 1,
   "id": "e15c3eb2",
   "metadata": {},
   "outputs": [
    {
     "name": "stdout",
     "output_type": "stream",
     "text": [
      "Jupyter environment detected. Enabling Open3D WebVisualizer.\n",
      "[Open3D INFO] WebRTC GUI backend enabled.\n",
      "[Open3D INFO] WebRTCWindowSystem: HTTP handshake server disabled.\n"
     ]
    }
   ],
   "source": [
    "import numpy as np\n",
    "import open3d as o3d"
   ]
  },
  {
   "cell_type": "code",
   "execution_count": 2,
   "id": "bd6c2245",
   "metadata": {},
   "outputs": [],
   "source": [
    "before = o3d.io.read_triangle_mesh(\"D:/ADLM_Data/decimated/1787929.ply\")\n",
    "after = o3d.io.read_triangle_mesh(\"D:/ADLM_Data/registered/1787929.ply\")\n"
   ]
  },
  {
   "cell_type": "code",
   "execution_count": 5,
   "id": "8f5d4ad4",
   "metadata": {},
   "outputs": [
    {
     "data": {
      "text/plain": [
       "TriangleMesh with 13387 points and 24999 triangles."
      ]
     },
     "execution_count": 5,
     "metadata": {},
     "output_type": "execute_result"
    }
   ],
   "source": [
    "before_paint = np.asarray([100,100,220])/255.0\n",
    "after_paint = np.asarray([230,200,110])/255.0 # yellowish\n",
    "before.paint_uniform_color(before_paint)\n",
    "after.paint_uniform_color(after_paint)"
   ]
  },
  {
   "cell_type": "code",
   "execution_count": 6,
   "id": "3b0b0c1e",
   "metadata": {},
   "outputs": [],
   "source": [
    "before.compute_vertex_normals()\n",
    "after.compute_vertex_normals()\n",
    "\n",
    "o3d.visualization.draw_geometries([before,after],mesh_show_back_face=True,mesh_show_wireframe=True)"
   ]
  },
  {
   "cell_type": "code",
   "execution_count": 8,
   "id": "77abfd7b",
   "metadata": {},
   "outputs": [],
   "source": [
    "average = o3d.io.read_triangle_mesh(\"D:/ADLM_Data/icp_target/4266049_25.ply\")\n"
   ]
  },
  {
   "cell_type": "code",
   "execution_count": 11,
   "id": "71057d2b",
   "metadata": {},
   "outputs": [
    {
     "data": {
      "text/plain": [
       "TriangleMesh with 13311 points and 24999 triangles."
      ]
     },
     "execution_count": 11,
     "metadata": {},
     "output_type": "execute_result"
    }
   ],
   "source": [
    "average_paint = np.asarray([100,100,220])/255.0\n",
    "average.paint_uniform_color(average_paint)"
   ]
  },
  {
   "cell_type": "code",
   "execution_count": null,
   "id": "942d7acd",
   "metadata": {},
   "outputs": [],
   "source": [
    "o3d.visualization.draw_geometries([average],mesh_show_back_face=True,mesh_show_wireframe=True)"
   ]
  },
  {
   "cell_type": "code",
   "execution_count": null,
   "id": "9a02f7cd",
   "metadata": {},
   "outputs": [],
   "source": [
    "o3d.visualization.draw_geometries([before,average],mesh_show_back_face=True,mesh_show_wireframe=True)"
   ]
  },
  {
   "cell_type": "code",
   "execution_count": null,
   "id": "3d5b46ad",
   "metadata": {},
   "outputs": [],
   "source": [
    "o3d.visualization.draw_geometries([after,average],mesh_show_back_face=True,mesh_show_wireframe=True)"
   ]
  }
 ],
 "metadata": {
  "kernelspec": {
   "display_name": "Python 3 (ipykernel)",
   "language": "python",
   "name": "python3"
  },
  "language_info": {
   "codemirror_mode": {
    "name": "ipython",
    "version": 3
   },
   "file_extension": ".py",
   "mimetype": "text/x-python",
   "name": "python",
   "nbconvert_exporter": "python",
   "pygments_lexer": "ipython3",
   "version": "3.9.12"
  }
 },
 "nbformat": 4,
 "nbformat_minor": 5
}
