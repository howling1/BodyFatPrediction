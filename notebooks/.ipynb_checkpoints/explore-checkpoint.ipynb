{
 "cells": [
  {
   "cell_type": "code",
   "execution_count": 1,
   "id": "903c775e",
   "metadata": {},
   "outputs": [
    {
     "name": "stdout",
     "output_type": "stream",
     "text": [
      "Jupyter environment detected. Enabling Open3D WebVisualizer.\n",
      "[Open3D INFO] WebRTC GUI backend enabled.\n",
      "[Open3D INFO] WebRTCWindowSystem: HTTP handshake server disabled.\n"
     ]
    }
   ],
   "source": [
    "from pathlib import Path\n",
    "import glob\n",
    "import os\n",
    "import numpy as np\n",
    "import pandas as pd\n",
    "from tqdm import tqdm \n",
    "import torch\n",
    "import open3d as o3d"
   ]
  },
  {
   "cell_type": "code",
   "execution_count": 2,
   "id": "31a423c5",
   "metadata": {},
   "outputs": [],
   "source": [
    "id_map_path = \"C:/Users/aorhu/Masaüstü/ADLM/Bridge_eids_60520_87802.csv\""
   ]
  },
  {
   "cell_type": "code",
   "execution_count": 3,
   "id": "0152bfa8",
   "metadata": {},
   "outputs": [],
   "source": [
    "id_map = pd.read_csv(id_map_path)"
   ]
  },
  {
   "cell_type": "code",
   "execution_count": 4,
   "id": "bf77678d",
   "metadata": {},
   "outputs": [
    {
     "data": {
      "text/html": [
       "<div>\n",
       "<style scoped>\n",
       "    .dataframe tbody tr th:only-of-type {\n",
       "        vertical-align: middle;\n",
       "    }\n",
       "\n",
       "    .dataframe tbody tr th {\n",
       "        vertical-align: top;\n",
       "    }\n",
       "\n",
       "    .dataframe thead th {\n",
       "        text-align: right;\n",
       "    }\n",
       "</style>\n",
       "<table border=\"1\" class=\"dataframe\">\n",
       "  <thead>\n",
       "    <tr style=\"text-align: right;\">\n",
       "      <th></th>\n",
       "      <th>eid_60520</th>\n",
       "      <th>eid_87802</th>\n",
       "    </tr>\n",
       "  </thead>\n",
       "  <tbody>\n",
       "    <tr>\n",
       "      <th>0</th>\n",
       "      <td>1000160</td>\n",
       "      <td>4160881</td>\n",
       "    </tr>\n",
       "    <tr>\n",
       "      <th>1</th>\n",
       "      <td>1000313</td>\n",
       "      <td>2111078</td>\n",
       "    </tr>\n",
       "    <tr>\n",
       "      <th>2</th>\n",
       "      <td>1000369</td>\n",
       "      <td>2967107</td>\n",
       "    </tr>\n",
       "    <tr>\n",
       "      <th>3</th>\n",
       "      <td>1000476</td>\n",
       "      <td>3272217</td>\n",
       "    </tr>\n",
       "    <tr>\n",
       "      <th>4</th>\n",
       "      <td>1000526</td>\n",
       "      <td>4189785</td>\n",
       "    </tr>\n",
       "    <tr>\n",
       "      <th>...</th>\n",
       "      <td>...</td>\n",
       "      <td>...</td>\n",
       "    </tr>\n",
       "    <tr>\n",
       "      <th>502406</th>\n",
       "      <td>6015720</td>\n",
       "      <td>3578675</td>\n",
       "    </tr>\n",
       "    <tr>\n",
       "      <th>502407</th>\n",
       "      <td>6017783</td>\n",
       "      <td>4177794</td>\n",
       "    </tr>\n",
       "    <tr>\n",
       "      <th>502408</th>\n",
       "      <td>6021070</td>\n",
       "      <td>1262361</td>\n",
       "    </tr>\n",
       "    <tr>\n",
       "      <th>502409</th>\n",
       "      <td>4240959</td>\n",
       "      <td>1002121</td>\n",
       "    </tr>\n",
       "    <tr>\n",
       "      <th>502410</th>\n",
       "      <td>4408246</td>\n",
       "      <td>4667021</td>\n",
       "    </tr>\n",
       "  </tbody>\n",
       "</table>\n",
       "<p>502411 rows × 2 columns</p>\n",
       "</div>"
      ],
      "text/plain": [
       "        eid_60520  eid_87802\n",
       "0         1000160    4160881\n",
       "1         1000313    2111078\n",
       "2         1000369    2967107\n",
       "3         1000476    3272217\n",
       "4         1000526    4189785\n",
       "...           ...        ...\n",
       "502406    6015720    3578675\n",
       "502407    6017783    4177794\n",
       "502408    6021070    1262361\n",
       "502409    4240959    1002121\n",
       "502410    4408246    4667021\n",
       "\n",
       "[502411 rows x 2 columns]"
      ]
     },
     "execution_count": 4,
     "metadata": {},
     "output_type": "execute_result"
    }
   ],
   "source": [
    "id_map"
   ]
  },
  {
   "cell_type": "code",
   "execution_count": 5,
   "id": "0394c02c",
   "metadata": {},
   "outputs": [],
   "source": [
    "basic_features_path = \"C:/Users/aorhu/Masaüstü/ADLM/basic_features.csv\""
   ]
  },
  {
   "cell_type": "code",
   "execution_count": 6,
   "id": "563d0d44",
   "metadata": {},
   "outputs": [],
   "source": [
    "basic_features = pd.read_csv(basic_features_path)"
   ]
  },
  {
   "cell_type": "code",
   "execution_count": 7,
   "id": "b75ef316",
   "metadata": {},
   "outputs": [
    {
     "data": {
      "text/html": [
       "<div>\n",
       "<style scoped>\n",
       "    .dataframe tbody tr th:only-of-type {\n",
       "        vertical-align: middle;\n",
       "    }\n",
       "\n",
       "    .dataframe tbody tr th {\n",
       "        vertical-align: top;\n",
       "    }\n",
       "\n",
       "    .dataframe thead th {\n",
       "        text-align: right;\n",
       "    }\n",
       "</style>\n",
       "<table border=\"1\" class=\"dataframe\">\n",
       "  <thead>\n",
       "    <tr style=\"text-align: right;\">\n",
       "      <th></th>\n",
       "      <th>eid</th>\n",
       "      <th>21003-2.0</th>\n",
       "      <th>31-0.0</th>\n",
       "      <th>21001-2.0</th>\n",
       "      <th>21002-2.0</th>\n",
       "      <th>50-2.0</th>\n",
       "    </tr>\n",
       "  </thead>\n",
       "  <tbody>\n",
       "    <tr>\n",
       "      <th>0</th>\n",
       "      <td>1000015</td>\n",
       "      <td>NaN</td>\n",
       "      <td>1</td>\n",
       "      <td>NaN</td>\n",
       "      <td>NaN</td>\n",
       "      <td>NaN</td>\n",
       "    </tr>\n",
       "    <tr>\n",
       "      <th>1</th>\n",
       "      <td>1000027</td>\n",
       "      <td>NaN</td>\n",
       "      <td>1</td>\n",
       "      <td>NaN</td>\n",
       "      <td>NaN</td>\n",
       "      <td>NaN</td>\n",
       "    </tr>\n",
       "    <tr>\n",
       "      <th>2</th>\n",
       "      <td>1000039</td>\n",
       "      <td>NaN</td>\n",
       "      <td>1</td>\n",
       "      <td>NaN</td>\n",
       "      <td>NaN</td>\n",
       "      <td>NaN</td>\n",
       "    </tr>\n",
       "    <tr>\n",
       "      <th>3</th>\n",
       "      <td>1000040</td>\n",
       "      <td>NaN</td>\n",
       "      <td>1</td>\n",
       "      <td>NaN</td>\n",
       "      <td>NaN</td>\n",
       "      <td>NaN</td>\n",
       "    </tr>\n",
       "    <tr>\n",
       "      <th>4</th>\n",
       "      <td>1000053</td>\n",
       "      <td>NaN</td>\n",
       "      <td>0</td>\n",
       "      <td>NaN</td>\n",
       "      <td>NaN</td>\n",
       "      <td>NaN</td>\n",
       "    </tr>\n",
       "    <tr>\n",
       "      <th>...</th>\n",
       "      <td>...</td>\n",
       "      <td>...</td>\n",
       "      <td>...</td>\n",
       "      <td>...</td>\n",
       "      <td>...</td>\n",
       "      <td>...</td>\n",
       "    </tr>\n",
       "    <tr>\n",
       "      <th>502406</th>\n",
       "      <td>6024083</td>\n",
       "      <td>NaN</td>\n",
       "      <td>0</td>\n",
       "      <td>NaN</td>\n",
       "      <td>NaN</td>\n",
       "      <td>NaN</td>\n",
       "    </tr>\n",
       "    <tr>\n",
       "      <th>502407</th>\n",
       "      <td>6024099</td>\n",
       "      <td>NaN</td>\n",
       "      <td>0</td>\n",
       "      <td>NaN</td>\n",
       "      <td>NaN</td>\n",
       "      <td>NaN</td>\n",
       "    </tr>\n",
       "    <tr>\n",
       "      <th>502408</th>\n",
       "      <td>6024106</td>\n",
       "      <td>NaN</td>\n",
       "      <td>0</td>\n",
       "      <td>NaN</td>\n",
       "      <td>NaN</td>\n",
       "      <td>NaN</td>\n",
       "    </tr>\n",
       "    <tr>\n",
       "      <th>502409</th>\n",
       "      <td>6024112</td>\n",
       "      <td>NaN</td>\n",
       "      <td>0</td>\n",
       "      <td>NaN</td>\n",
       "      <td>NaN</td>\n",
       "      <td>NaN</td>\n",
       "    </tr>\n",
       "    <tr>\n",
       "      <th>502410</th>\n",
       "      <td>6024120</td>\n",
       "      <td>NaN</td>\n",
       "      <td>1</td>\n",
       "      <td>NaN</td>\n",
       "      <td>NaN</td>\n",
       "      <td>NaN</td>\n",
       "    </tr>\n",
       "  </tbody>\n",
       "</table>\n",
       "<p>502411 rows × 6 columns</p>\n",
       "</div>"
      ],
      "text/plain": [
       "            eid  21003-2.0  31-0.0  21001-2.0  21002-2.0  50-2.0\n",
       "0       1000015        NaN       1        NaN        NaN     NaN\n",
       "1       1000027        NaN       1        NaN        NaN     NaN\n",
       "2       1000039        NaN       1        NaN        NaN     NaN\n",
       "3       1000040        NaN       1        NaN        NaN     NaN\n",
       "4       1000053        NaN       0        NaN        NaN     NaN\n",
       "...         ...        ...     ...        ...        ...     ...\n",
       "502406  6024083        NaN       0        NaN        NaN     NaN\n",
       "502407  6024099        NaN       0        NaN        NaN     NaN\n",
       "502408  6024106        NaN       0        NaN        NaN     NaN\n",
       "502409  6024112        NaN       0        NaN        NaN     NaN\n",
       "502410  6024120        NaN       1        NaN        NaN     NaN\n",
       "\n",
       "[502411 rows x 6 columns]"
      ]
     },
     "execution_count": 7,
     "metadata": {},
     "output_type": "execute_result"
    }
   ],
   "source": [
    "basic_features"
   ]
  },
  {
   "cell_type": "code",
   "execution_count": 9,
   "id": "7ad8473f",
   "metadata": {},
   "outputs": [],
   "source": [
    "height = basic_features[\"50-2.0\"].mean()"
   ]
  },
  {
   "cell_type": "code",
   "execution_count": 10,
   "id": "f870eaf1",
   "metadata": {},
   "outputs": [],
   "source": [
    "weight = basic_features[\"21002-2.0\"].mean()"
   ]
  },
  {
   "cell_type": "code",
   "execution_count": 12,
   "id": "d0fa8e44",
   "metadata": {},
   "outputs": [],
   "source": [
    "bmi = basic_features[\"21001-2.0\"].mean()"
   ]
  },
  {
   "cell_type": "code",
   "execution_count": 19,
   "id": "4fef7987",
   "metadata": {},
   "outputs": [],
   "source": [
    "basic_features = basic_features.dropna()\n",
    "basic_features = basic_features.reset_index(drop=True)"
   ]
  },
  {
   "cell_type": "code",
   "execution_count": 20,
   "id": "9d4eb953",
   "metadata": {},
   "outputs": [
    {
     "data": {
      "text/html": [
       "<div>\n",
       "<style scoped>\n",
       "    .dataframe tbody tr th:only-of-type {\n",
       "        vertical-align: middle;\n",
       "    }\n",
       "\n",
       "    .dataframe tbody tr th {\n",
       "        vertical-align: top;\n",
       "    }\n",
       "\n",
       "    .dataframe thead th {\n",
       "        text-align: right;\n",
       "    }\n",
       "</style>\n",
       "<table border=\"1\" class=\"dataframe\">\n",
       "  <thead>\n",
       "    <tr style=\"text-align: right;\">\n",
       "      <th></th>\n",
       "      <th>eid</th>\n",
       "      <th>21003-2.0</th>\n",
       "      <th>31-0.0</th>\n",
       "      <th>21001-2.0</th>\n",
       "      <th>21002-2.0</th>\n",
       "      <th>50-2.0</th>\n",
       "    </tr>\n",
       "  </thead>\n",
       "  <tbody>\n",
       "    <tr>\n",
       "      <th>0</th>\n",
       "      <td>1000071</td>\n",
       "      <td>69.0</td>\n",
       "      <td>0</td>\n",
       "      <td>30.8012</td>\n",
       "      <td>74.0</td>\n",
       "      <td>155.0</td>\n",
       "    </tr>\n",
       "    <tr>\n",
       "      <th>1</th>\n",
       "      <td>1000109</td>\n",
       "      <td>75.0</td>\n",
       "      <td>0</td>\n",
       "      <td>26.5036</td>\n",
       "      <td>68.7</td>\n",
       "      <td>161.0</td>\n",
       "    </tr>\n",
       "    <tr>\n",
       "      <th>2</th>\n",
       "      <td>1000125</td>\n",
       "      <td>65.0</td>\n",
       "      <td>1</td>\n",
       "      <td>23.6488</td>\n",
       "      <td>61.3</td>\n",
       "      <td>161.0</td>\n",
       "    </tr>\n",
       "    <tr>\n",
       "      <th>3</th>\n",
       "      <td>1000180</td>\n",
       "      <td>58.0</td>\n",
       "      <td>1</td>\n",
       "      <td>32.6204</td>\n",
       "      <td>99.9</td>\n",
       "      <td>175.0</td>\n",
       "    </tr>\n",
       "    <tr>\n",
       "      <th>4</th>\n",
       "      <td>1000191</td>\n",
       "      <td>72.0</td>\n",
       "      <td>1</td>\n",
       "      <td>24.6337</td>\n",
       "      <td>83.4</td>\n",
       "      <td>184.0</td>\n",
       "    </tr>\n",
       "    <tr>\n",
       "      <th>...</th>\n",
       "      <td>...</td>\n",
       "      <td>...</td>\n",
       "      <td>...</td>\n",
       "      <td>...</td>\n",
       "      <td>...</td>\n",
       "      <td>...</td>\n",
       "    </tr>\n",
       "    <tr>\n",
       "      <th>52355</th>\n",
       "      <td>6023367</td>\n",
       "      <td>58.0</td>\n",
       "      <td>1</td>\n",
       "      <td>35.2653</td>\n",
       "      <td>118.1</td>\n",
       "      <td>183.0</td>\n",
       "    </tr>\n",
       "    <tr>\n",
       "      <th>52356</th>\n",
       "      <td>6023419</td>\n",
       "      <td>66.0</td>\n",
       "      <td>1</td>\n",
       "      <td>23.9048</td>\n",
       "      <td>69.9</td>\n",
       "      <td>171.0</td>\n",
       "    </tr>\n",
       "    <tr>\n",
       "      <th>52357</th>\n",
       "      <td>6023708</td>\n",
       "      <td>56.0</td>\n",
       "      <td>0</td>\n",
       "      <td>21.5288</td>\n",
       "      <td>57.2</td>\n",
       "      <td>163.0</td>\n",
       "    </tr>\n",
       "    <tr>\n",
       "      <th>52358</th>\n",
       "      <td>6023786</td>\n",
       "      <td>57.0</td>\n",
       "      <td>0</td>\n",
       "      <td>22.7595</td>\n",
       "      <td>56.1</td>\n",
       "      <td>157.0</td>\n",
       "    </tr>\n",
       "    <tr>\n",
       "      <th>52359</th>\n",
       "      <td>6023955</td>\n",
       "      <td>74.0</td>\n",
       "      <td>1</td>\n",
       "      <td>31.4815</td>\n",
       "      <td>102.0</td>\n",
       "      <td>180.0</td>\n",
       "    </tr>\n",
       "  </tbody>\n",
       "</table>\n",
       "<p>52360 rows × 6 columns</p>\n",
       "</div>"
      ],
      "text/plain": [
       "           eid  21003-2.0  31-0.0  21001-2.0  21002-2.0  50-2.0\n",
       "0      1000071       69.0       0    30.8012       74.0   155.0\n",
       "1      1000109       75.0       0    26.5036       68.7   161.0\n",
       "2      1000125       65.0       1    23.6488       61.3   161.0\n",
       "3      1000180       58.0       1    32.6204       99.9   175.0\n",
       "4      1000191       72.0       1    24.6337       83.4   184.0\n",
       "...        ...        ...     ...        ...        ...     ...\n",
       "52355  6023367       58.0       1    35.2653      118.1   183.0\n",
       "52356  6023419       66.0       1    23.9048       69.9   171.0\n",
       "52357  6023708       56.0       0    21.5288       57.2   163.0\n",
       "52358  6023786       57.0       0    22.7595       56.1   157.0\n",
       "52359  6023955       74.0       1    31.4815      102.0   180.0\n",
       "\n",
       "[52360 rows x 6 columns]"
      ]
     },
     "execution_count": 20,
     "metadata": {},
     "output_type": "execute_result"
    }
   ],
   "source": [
    "basic_features"
   ]
  },
  {
   "cell_type": "code",
   "execution_count": 104,
   "id": "36975011",
   "metadata": {},
   "outputs": [],
   "source": [
    "size = 488"
   ]
  },
  {
   "cell_type": "code",
   "execution_count": 105,
   "id": "fc929edf",
   "metadata": {},
   "outputs": [],
   "source": [
    "heights = (basic_features['50-2.0'] - height).abs().argsort()[:size]"
   ]
  },
  {
   "cell_type": "code",
   "execution_count": 106,
   "id": "276fcd7f",
   "metadata": {},
   "outputs": [],
   "source": [
    "bmis= (basic_features['21001-2.0'] - bmi).abs().argsort()[:size]"
   ]
  },
  {
   "cell_type": "code",
   "execution_count": 107,
   "id": "817c67be",
   "metadata": {},
   "outputs": [],
   "source": [
    "weights = (basic_features['21002-2.0'] - weight).abs().argsort()[:size]"
   ]
  },
  {
   "cell_type": "code",
   "execution_count": 108,
   "id": "533d8578",
   "metadata": {},
   "outputs": [],
   "source": [
    "common_elements = list(set(bmis).intersection(set(heights), set(weights)))"
   ]
  },
  {
   "cell_type": "code",
   "execution_count": 109,
   "id": "e590da11",
   "metadata": {},
   "outputs": [
    {
     "data": {
      "text/plain": [
       "[34087]"
      ]
     },
     "execution_count": 109,
     "metadata": {},
     "output_type": "execute_result"
    }
   ],
   "source": [
    "common_elements # optimal patient target index, id is = \"4266049\""
   ]
  },
  {
   "cell_type": "code",
   "execution_count": 142,
   "id": "07a32763",
   "metadata": {},
   "outputs": [
    {
     "data": {
      "text/plain": [
       "4266049"
      ]
     },
     "execution_count": 142,
     "metadata": {},
     "output_type": "execute_result"
    }
   ],
   "source": [
    "basic_features['eid'][34087]"
   ]
  },
  {
   "cell_type": "code",
   "execution_count": 110,
   "id": "171bb947",
   "metadata": {},
   "outputs": [
    {
     "data": {
      "text/plain": [
       "169.0"
      ]
     },
     "execution_count": 110,
     "metadata": {},
     "output_type": "execute_result"
    }
   ],
   "source": [
    "basic_features['50-2.0'][34087]"
   ]
  },
  {
   "cell_type": "code",
   "execution_count": 113,
   "id": "3a9fdd0c",
   "metadata": {},
   "outputs": [
    {
     "data": {
      "text/plain": [
       "169.0522269051145"
      ]
     },
     "execution_count": 113,
     "metadata": {},
     "output_type": "execute_result"
    }
   ],
   "source": [
    "height"
   ]
  },
  {
   "cell_type": "code",
   "execution_count": 111,
   "id": "091852d0",
   "metadata": {},
   "outputs": [
    {
     "data": {
      "text/plain": [
       "26.6797"
      ]
     },
     "execution_count": 111,
     "metadata": {},
     "output_type": "execute_result"
    }
   ],
   "source": [
    "basic_features['21001-2.0'][34087]"
   ]
  },
  {
   "cell_type": "code",
   "execution_count": 115,
   "id": "4e1869ea",
   "metadata": {},
   "outputs": [
    {
     "data": {
      "text/plain": [
       "26.63055566271964"
      ]
     },
     "execution_count": 115,
     "metadata": {},
     "output_type": "execute_result"
    }
   ],
   "source": [
    "bmi"
   ]
  },
  {
   "cell_type": "code",
   "execution_count": 112,
   "id": "785cfa3c",
   "metadata": {},
   "outputs": [
    {
     "data": {
      "text/plain": [
       "76.2"
      ]
     },
     "execution_count": 112,
     "metadata": {},
     "output_type": "execute_result"
    }
   ],
   "source": [
    "basic_features['21002-2.0'][34087]"
   ]
  },
  {
   "cell_type": "code",
   "execution_count": 117,
   "id": "21bd1c31",
   "metadata": {},
   "outputs": [
    {
     "data": {
      "text/plain": [
       "76.36019903807768"
      ]
     },
     "execution_count": 117,
     "metadata": {},
     "output_type": "execute_result"
    }
   ],
   "source": [
    "weight"
   ]
  },
  {
   "cell_type": "markdown",
   "id": "25227785",
   "metadata": {},
   "source": [
    "### female-male split"
   ]
  },
  {
   "cell_type": "code",
   "execution_count": 118,
   "id": "bc65969d",
   "metadata": {},
   "outputs": [],
   "source": [
    "females = basic_features[basic_features[\"31-0.0\"] == 0 ]"
   ]
  },
  {
   "cell_type": "code",
   "execution_count": 120,
   "id": "c8cbffe7",
   "metadata": {},
   "outputs": [],
   "source": [
    "males = basic_features[basic_features[\"31-0.0\"] == 1 ]"
   ]
  },
  {
   "cell_type": "code",
   "execution_count": 127,
   "id": "49c165cd",
   "metadata": {},
   "outputs": [
    {
     "name": "stdout",
     "output_type": "stream",
     "text": [
      "height_female=162.6057153433278/height_male=175.92251331623592\n",
      "weight_female=69.2725689431797/weight_male=83.90606036693629\n",
      "bmi_female=26.201236635202665/bmi_male=27.088162825014795\n"
     ]
    }
   ],
   "source": [
    "height_female = females[\"50-2.0\"].mean()\n",
    "height_male = males[\"50-2.0\"].mean()\n",
    "weight_female = females[\"21002-2.0\"].mean()\n",
    "weight_male = males[\"21002-2.0\"].mean()\n",
    "bmi_female = females[\"21001-2.0\"].mean()\n",
    "bmi_male = males[\"21001-2.0\"].mean()\n",
    "print(\"height_female=\" + str(height_female) + \"/height_male=\" + str(height_male))\n",
    "print(\"weight_female=\" + str(weight_female) + \"/weight_male=\" + str(weight_male))\n",
    "print(\"bmi_female=\" + str(bmi_female) + \"/bmi_male=\" + str(bmi_male))"
   ]
  },
  {
   "cell_type": "code",
   "execution_count": 138,
   "id": "7877ef2d",
   "metadata": {},
   "outputs": [
    {
     "name": "stderr",
     "output_type": "stream",
     "text": [
      "C:\\Users\\aorhu\\AppData\\Local\\Temp\\ipykernel_31980\\1616190597.py:2: FutureWarning: The behavior of `series[i:j]` with an integer-dtype index is deprecated. In a future version, this will be treated as *label-based* indexing, consistent with e.g. `series[i]` lookups. To retain the old behavior, use `series.iloc[i:j]`. To get the future behavior, use `series.loc[i:j]`.\n",
      "  heights_female = (females['50-2.0'] - height_female).abs().argsort()[:size]\n",
      "C:\\Users\\aorhu\\AppData\\Local\\Temp\\ipykernel_31980\\1616190597.py:3: FutureWarning: The behavior of `series[i:j]` with an integer-dtype index is deprecated. In a future version, this will be treated as *label-based* indexing, consistent with e.g. `series[i]` lookups. To retain the old behavior, use `series.iloc[i:j]`. To get the future behavior, use `series.loc[i:j]`.\n",
      "  bmis_female= (females['21001-2.0'] - bmi_female).abs().argsort()[:size]\n",
      "C:\\Users\\aorhu\\AppData\\Local\\Temp\\ipykernel_31980\\1616190597.py:4: FutureWarning: The behavior of `series[i:j]` with an integer-dtype index is deprecated. In a future version, this will be treated as *label-based* indexing, consistent with e.g. `series[i]` lookups. To retain the old behavior, use `series.iloc[i:j]`. To get the future behavior, use `series.loc[i:j]`.\n",
      "  weights_female = (females['21002-2.0'] - weight_female).abs().argsort()[:size]\n",
      "C:\\Users\\aorhu\\AppData\\Local\\Temp\\ipykernel_31980\\1616190597.py:6: FutureWarning: The behavior of `series[i:j]` with an integer-dtype index is deprecated. In a future version, this will be treated as *label-based* indexing, consistent with e.g. `series[i]` lookups. To retain the old behavior, use `series.iloc[i:j]`. To get the future behavior, use `series.loc[i:j]`.\n",
      "  heights_male = (males['50-2.0'] - height_male).abs().argsort()[:size]\n",
      "C:\\Users\\aorhu\\AppData\\Local\\Temp\\ipykernel_31980\\1616190597.py:7: FutureWarning: The behavior of `series[i:j]` with an integer-dtype index is deprecated. In a future version, this will be treated as *label-based* indexing, consistent with e.g. `series[i]` lookups. To retain the old behavior, use `series.iloc[i:j]`. To get the future behavior, use `series.loc[i:j]`.\n",
      "  bmis_male= (males['21001-2.0'] - bmi_male).abs().argsort()[:size]\n",
      "C:\\Users\\aorhu\\AppData\\Local\\Temp\\ipykernel_31980\\1616190597.py:8: FutureWarning: The behavior of `series[i:j]` with an integer-dtype index is deprecated. In a future version, this will be treated as *label-based* indexing, consistent with e.g. `series[i]` lookups. To retain the old behavior, use `series.iloc[i:j]`. To get the future behavior, use `series.loc[i:j]`.\n",
      "  weights_male = (males['21002-2.0'] - weight_male).abs().argsort()[:size]\n"
     ]
    }
   ],
   "source": [
    "size = 300\n",
    "heights_female = (females['50-2.0'] - height_female).abs().argsort()[:size]\n",
    "bmis_female= (females['21001-2.0'] - bmi_female).abs().argsort()[:size]\n",
    "weights_female = (females['21002-2.0'] - weight_female).abs().argsort()[:size]\n",
    "\n",
    "heights_male = (males['50-2.0'] - height_male).abs().argsort()[:size]\n",
    "bmis_male= (males['21001-2.0'] - bmi_male).abs().argsort()[:size]\n",
    "weights_male = (males['21002-2.0'] - weight_male).abs().argsort()[:size]"
   ]
  },
  {
   "cell_type": "code",
   "execution_count": 139,
   "id": "dd0011b2",
   "metadata": {},
   "outputs": [],
   "source": [
    "common_elements_male = list(set(bmis_male).intersection(set(heights_male), set(weights_male)))\n",
    "common_elements_female = list(set(bmis_female).intersection(set(heights_female), set(weights_female)))"
   ]
  },
  {
   "cell_type": "code",
   "execution_count": 140,
   "id": "d58fd9a4",
   "metadata": {},
   "outputs": [
    {
     "data": {
      "text/plain": [
       "[15852, 16278]"
      ]
     },
     "execution_count": 140,
     "metadata": {},
     "output_type": "execute_result"
    }
   ],
   "source": [
    "common_elements_male #optimal male target index, id is = \"2526518\""
   ]
  },
  {
   "cell_type": "code",
   "execution_count": 141,
   "id": "449cf765",
   "metadata": {},
   "outputs": [
    {
     "data": {
      "text/plain": [
       "[24667]"
      ]
     },
     "execution_count": 141,
     "metadata": {},
     "output_type": "execute_result"
    }
   ],
   "source": [
    "common_elements_female #optimal female target index, id is = \"3368474\""
   ]
  },
  {
   "cell_type": "code",
   "execution_count": 143,
   "id": "427ecb80",
   "metadata": {},
   "outputs": [
    {
     "data": {
      "text/plain": [
       "2526518"
      ]
     },
     "execution_count": 143,
     "metadata": {},
     "output_type": "execute_result"
    }
   ],
   "source": [
    "basic_features['eid'][15852]"
   ]
  },
  {
   "cell_type": "code",
   "execution_count": 144,
   "id": "6ba10487",
   "metadata": {},
   "outputs": [
    {
     "data": {
      "text/plain": [
       "3368474"
      ]
     },
     "execution_count": 144,
     "metadata": {},
     "output_type": "execute_result"
    }
   ],
   "source": [
    "basic_features['eid'][24667]"
   ]
  },
  {
   "cell_type": "code",
   "execution_count": null,
   "id": "b5558be2",
   "metadata": {},
   "outputs": [],
   "source": []
  }
 ],
 "metadata": {
  "kernelspec": {
   "display_name": "Python 3 (ipykernel)",
   "language": "python",
   "name": "python3"
  },
  "language_info": {
   "codemirror_mode": {
    "name": "ipython",
    "version": 3
   },
   "file_extension": ".py",
   "mimetype": "text/x-python",
   "name": "python",
   "nbconvert_exporter": "python",
   "pygments_lexer": "ipython3",
   "version": "3.9.12"
  }
 },
 "nbformat": 4,
 "nbformat_minor": 5
}
