{
 "cells": [
  {
   "cell_type": "code",
   "execution_count": null,
   "id": "7a8cad2d",
   "metadata": {},
   "outputs": [],
   "source": [
    "import nibabel as nib\n",
    "from skimage.measure import marching_cubes\n",
    "import numpy as np\n",
    "import open3d as o3d\n",
    "import pyvista\n",
    "import matplotlib.pyplot as plt\n",
    "import vtkmodules\n",
    "import time"
   ]
  },
  {
   "cell_type": "code",
   "execution_count": null,
   "id": "f33662e6",
   "metadata": {},
   "outputs": [],
   "source": [
    "def pad_edge_list(edges):\n",
    "    padding = np.ones(edges.shape[0], int)*3\n",
    "    edges_w_padding = np.vstack((padding, edges.T)).T\n",
    "    return edges_w_padding"
   ]
  },
  {
   "cell_type": "code",
   "execution_count": null,
   "id": "c00f4a02",
   "metadata": {},
   "outputs": [],
   "source": [
    "path = \"C:/Users/aorhu/Masaüstü/body_mask.nii.gz\""
   ]
  },
  {
   "cell_type": "code",
   "execution_count": null,
   "id": "d532d49f",
   "metadata": {},
   "outputs": [],
   "source": [
    "body_segment = nib.load(path)\n",
    "body_segment_data = body_segment.get_fdata()"
   ]
  },
  {
   "cell_type": "code",
   "execution_count": null,
   "id": "b03abd83",
   "metadata": {},
   "outputs": [],
   "source": [
    "verts, faces, norms, vals = marching_cubes(body_segment_data, level=0, step_size=1)"
   ]
  },
  {
   "cell_type": "code",
   "execution_count": null,
   "id": "e27dfc2e",
   "metadata": {},
   "outputs": [],
   "source": [
    "verts"
   ]
  },
  {
   "cell_type": "code",
   "execution_count": null,
   "id": "2ff973d8",
   "metadata": {},
   "outputs": [],
   "source": [
    "len(verts)"
   ]
  },
  {
   "cell_type": "code",
   "execution_count": null,
   "id": "7ca876c6",
   "metadata": {},
   "outputs": [],
   "source": [
    "len(faces)"
   ]
  },
  {
   "cell_type": "code",
   "execution_count": null,
   "id": "4772e80f",
   "metadata": {},
   "outputs": [],
   "source": [
    "faces"
   ]
  },
  {
   "cell_type": "code",
   "execution_count": null,
   "id": "f0893aa5",
   "metadata": {},
   "outputs": [],
   "source": [
    "verts = verts/np.array(body_segment_data.shape) "
   ]
  },
  {
   "cell_type": "markdown",
   "id": "ee21b72e",
   "metadata": {},
   "source": [
    "### open3d quadric_decimation"
   ]
  },
  {
   "cell_type": "code",
   "execution_count": null,
   "id": "61bccf1f",
   "metadata": {},
   "outputs": [],
   "source": [
    "mesh = o3d.geometry.TriangleMesh(vertices=o3d.utility.Vector3dVector(np.asarray(verts)),\n",
    "                                 triangles=o3d.utility.Vector3iVector(np.asarray(faces)))\n",
    "\n",
    "\n",
    "start = time.time()\n",
    "decimated_mesh = o3d.geometry.TriangleMesh.simplify_quadric_decimation(mesh, 25000)\n",
    "end = time.time()\n",
    "\n",
    "print(\"The time of execution of above program is :\",(end-start) , \"s\")\n",
    "print(\"The time of execution of above program is :\",(end-start) * 10**3, \"ms\")"
   ]
  },
  {
   "cell_type": "code",
   "execution_count": null,
   "id": "665b1fd4",
   "metadata": {},
   "outputs": [],
   "source": [
    "#### to save the object\n",
    "o3d.io.write_triangle_mesh(\"test.off\", decimated_mesh, print_progress=True )"
   ]
  },
  {
   "cell_type": "code",
   "execution_count": null,
   "id": "ccb80ba5",
   "metadata": {},
   "outputs": [],
   "source": [
    "decimated_mesh = o3d.io.read_triangle_mesh('test.off')"
   ]
  },
  {
   "cell_type": "code",
   "execution_count": null,
   "id": "8bde344b",
   "metadata": {},
   "outputs": [],
   "source": [
    "decimated_mesh"
   ]
  },
  {
   "cell_type": "code",
   "execution_count": null,
   "id": "e3402e30",
   "metadata": {},
   "outputs": [],
   "source": [
    "mesh.triangles"
   ]
  },
  {
   "cell_type": "code",
   "execution_count": null,
   "id": "531f2715",
   "metadata": {},
   "outputs": [],
   "source": [
    "decimated_mesh.triangles"
   ]
  },
  {
   "cell_type": "code",
   "execution_count": null,
   "id": "5423435c",
   "metadata": {},
   "outputs": [],
   "source": [
    "np.asarray(decimated_mesh.vertices)[:,1]= np.asarray(decimated_mesh.vertices)[:,1]+1"
   ]
  },
  {
   "cell_type": "code",
   "execution_count": null,
   "id": "e7970cdb",
   "metadata": {},
   "outputs": [],
   "source": [
    "original_mesh_paint = np.asarray([0,200,220])/255.0\n",
    "decimated_mesh_paint = np.asarray([230,200,110])/255.0\n",
    "mesh.paint_uniform_color(original_mesh_paint)\n",
    "decimated_mesh.paint_uniform_color(decimated_mesh_paint)"
   ]
  },
  {
   "cell_type": "code",
   "execution_count": null,
   "id": "c4dfb190",
   "metadata": {},
   "outputs": [],
   "source": [
    "mesh.compute_vertex_normals()\n",
    "decimated_mesh.compute_vertex_normals()\n",
    "\n",
    "o3d.visualization.draw_geometries([decimated_mesh],mesh_show_back_face=True,mesh_show_wireframe=True)"
   ]
  },
  {
   "cell_type": "markdown",
   "id": "742447a9",
   "metadata": {},
   "source": [
    "#### clustering"
   ]
  },
  {
   "cell_type": "code",
   "execution_count": null,
   "id": "ec13b8c4",
   "metadata": {},
   "outputs": [],
   "source": [
    "voxel_size = max(mesh.get_max_bound() - mesh.get_min_bound()) / 64\n",
    "print(f'voxel_size = {voxel_size:e}')\n",
    "mesh_smp = mesh.simplify_vertex_clustering(\n",
    "    voxel_size=voxel_size,\n",
    "    contraction=o3d.geometry.SimplificationContraction.Average)\n",
    "print(\n",
    "    f'Simplified mesh has {len(mesh_smp.vertices)} vertices and {len(mesh_smp.triangles)} triangles'\n",
    ")"
   ]
  },
  {
   "cell_type": "code",
   "execution_count": null,
   "id": "e878cdb6",
   "metadata": {},
   "outputs": [],
   "source": [
    "mesh_smp.compute_vertex_normals()\n",
    "o3d.visualization.draw_geometries([mesh_smp],mesh_show_back_face=True,mesh_show_wireframe=True)"
   ]
  },
  {
   "cell_type": "markdown",
   "id": "7b13b9ec",
   "metadata": {},
   "source": [
    "#### surface area and volume comparison"
   ]
  },
  {
   "cell_type": "code",
   "execution_count": null,
   "id": "3466323a",
   "metadata": {},
   "outputs": [],
   "source": [
    "mesh.get_surface_area()"
   ]
  },
  {
   "cell_type": "code",
   "execution_count": null,
   "id": "b3b5353d",
   "metadata": {},
   "outputs": [],
   "source": [
    "decimated_mesh.get_surface_area()"
   ]
  },
  {
   "cell_type": "markdown",
   "id": "1b6bf03c",
   "metadata": {},
   "source": [
    "### trimesh repair"
   ]
  },
  {
   "cell_type": "code",
   "execution_count": null,
   "id": "b9966272",
   "metadata": {},
   "outputs": [],
   "source": [
    "import trimesh"
   ]
  },
  {
   "cell_type": "code",
   "execution_count": null,
   "id": "c9867e0b",
   "metadata": {},
   "outputs": [],
   "source": [
    "tr_mesh= trimesh.Trimesh(vertices=verts, faces=faces)"
   ]
  },
  {
   "cell_type": "code",
   "execution_count": null,
   "id": "3ca7b764",
   "metadata": {},
   "outputs": [],
   "source": [
    "tr_mesh"
   ]
  },
  {
   "cell_type": "code",
   "execution_count": null,
   "id": "aff453ee",
   "metadata": {},
   "outputs": [],
   "source": [
    "len(trimesh.repair.broken_faces(tr_mesh))"
   ]
  },
  {
   "cell_type": "code",
   "execution_count": null,
   "id": "c40bca2c",
   "metadata": {},
   "outputs": [],
   "source": [
    "trimesh.repair.fill_holes(tr_mesh)"
   ]
  },
  {
   "cell_type": "code",
   "execution_count": null,
   "id": "5b779eb5",
   "metadata": {},
   "outputs": [],
   "source": [
    "tr_mesh"
   ]
  },
  {
   "cell_type": "markdown",
   "id": "21778997",
   "metadata": {},
   "source": [
    "### pyvista decimation"
   ]
  },
  {
   "cell_type": "code",
   "execution_count": null,
   "id": "01d57248",
   "metadata": {},
   "outputs": [],
   "source": [
    "edges = np.concatenate((faces[:,:2], faces[:,1:]), axis=0)\n",
    "lines = np.concatenate((np.int32(2*np.ones((edges.shape[0],1))), edges), 1)\n",
    "mesh = pyvista.PolyData(verts, pad_edge_list(faces))"
   ]
  },
  {
   "cell_type": "code",
   "execution_count": null,
   "id": "2416b13c",
   "metadata": {},
   "outputs": [],
   "source": [
    "#decimated_mesh = mesh.decimate(0.5)\n",
    "pro_decimated = mesh.decimate_pro(0.2, preserve_topology=False)"
   ]
  },
  {
   "cell_type": "code",
   "execution_count": null,
   "id": "e3ff1674",
   "metadata": {},
   "outputs": [],
   "source": [
    "pyvista.set_plot_theme(\"document\")\n",
    "#plotter = pyvista.Plotter(shape=(1, 1), window_size=[1000, 500], border=False)\n",
    "plotter = pyvista.Plotter(notebook=False)\n",
    "plotter.add_mesh(pro_decimated, render_points_as_spheres=False, color=\"lightcoral\", show_edges=True, line_width=0.3, edge_color='black', point_size=1)\n",
    "plotter.camera.zoom(3)\n",
    "plotter.set_position((0,-7,0))"
   ]
  },
  {
   "cell_type": "code",
   "execution_count": null,
   "id": "8cffb63b",
   "metadata": {},
   "outputs": [],
   "source": [
    "plotter.show(auto_close=False)"
   ]
  },
  {
   "cell_type": "code",
   "execution_count": null,
   "id": "7a7b5b32",
   "metadata": {},
   "outputs": [],
   "source": [
    "len(mesh.faces)"
   ]
  },
  {
   "cell_type": "code",
   "execution_count": null,
   "id": "8d2312e0",
   "metadata": {},
   "outputs": [],
   "source": [
    "len(pro_decimated.faces)"
   ]
  },
  {
   "cell_type": "markdown",
   "id": "bccfbafc",
   "metadata": {},
   "source": [
    "### VTK decimation (not working)"
   ]
  },
  {
   "cell_type": "code",
   "execution_count": null,
   "id": "4825528e",
   "metadata": {},
   "outputs": [],
   "source": [
    "import vtkmodules.vtkInteractionStyle\n",
    "import vtkmodules.vtkRenderingOpenGL2\n",
    "from vtkmodules.vtkCommonColor import vtkNamedColors\n",
    "from vtkmodules.vtkCommonDataModel import vtkPolyData\n",
    "from vtkmodules.vtkFiltersCore import (\n",
    "    vtkDecimatePro,\n",
    "    vtkTriangleFilter\n",
    ")\n",
    "import vtk"
   ]
  },
  {
   "cell_type": "code",
   "execution_count": null,
   "id": "f0e6cec5",
   "metadata": {},
   "outputs": [],
   "source": [
    "mesh = vtkPolyData()"
   ]
  },
  {
   "cell_type": "code",
   "execution_count": null,
   "id": "94b65015",
   "metadata": {},
   "outputs": [],
   "source": [
    "mesh.SetPoints(vtk.vtkPoints(verts))"
   ]
  },
  {
   "cell_type": "code",
   "execution_count": null,
   "id": "8818c852",
   "metadata": {},
   "outputs": [],
   "source": [
    "verts.shape[0]"
   ]
  },
  {
   "cell_type": "code",
   "execution_count": null,
   "id": "60c10ed5",
   "metadata": {},
   "outputs": [],
   "source": [
    "vpoints = vtk.vtkPoints()\n",
    "vpoints.SetNumberOfPoints(verts.shape[0])\n",
    "for i in range(verts.shape[0]):\n",
    "    vpoints.SetPoint(i, verts[i])\n",
    "mesh = vtk.vtkPolyData()\n",
    "mesh.SetPoints(vpoints)"
   ]
  },
  {
   "cell_type": "code",
   "execution_count": null,
   "id": "8ab0e1aa",
   "metadata": {},
   "outputs": [],
   "source": []
  }
 ],
 "metadata": {
  "kernelspec": {
   "display_name": "Python 3 (ipykernel)",
   "language": "python",
   "name": "python3"
  },
  "language_info": {
   "codemirror_mode": {
    "name": "ipython",
    "version": 3
   },
   "file_extension": ".py",
   "mimetype": "text/x-python",
   "name": "python",
   "nbconvert_exporter": "python",
   "pygments_lexer": "ipython3",
   "version": "3.11.0"
  },
  "vscode": {
   "interpreter": {
    "hash": "c1b4a9ce0126c7c6f1d5c93f5f744f89fa6f3ec67df4fb96740f02f79432b80e"
   }
  }
 },
 "nbformat": 4,
 "nbformat_minor": 5
}
