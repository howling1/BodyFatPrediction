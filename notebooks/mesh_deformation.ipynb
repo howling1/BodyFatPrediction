{
 "cells": [
  {
   "cell_type": "code",
   "execution_count": 1,
   "id": "7a8cad2d",
   "metadata": {},
   "outputs": [
    {
     "name": "stdout",
     "output_type": "stream",
     "text": [
      "Jupyter environment detected. Enabling Open3D WebVisualizer.\n",
      "[Open3D INFO] WebRTC GUI backend enabled.\n",
      "[Open3D INFO] WebRTCWindowSystem: HTTP handshake server disabled.\n"
     ]
    }
   ],
   "source": [
    "import nibabel as nib\n",
    "from skimage.measure import marching_cubes\n",
    "import numpy as np\n",
    "import open3d as o3d\n",
    "import pyvista\n",
    "import matplotlib.pyplot as plt\n",
    "import vtkmodules\n",
    "import time"
   ]
  },
  {
   "cell_type": "code",
   "execution_count": 2,
   "id": "f33662e6",
   "metadata": {},
   "outputs": [],
   "source": [
    "def pad_edge_list(edges):\n",
    "    padding = np.ones(edges.shape[0], int)*3\n",
    "    edges_w_padding = np.vstack((padding, edges.T)).T\n",
    "    return edges_w_padding"
   ]
  },
  {
   "cell_type": "code",
   "execution_count": 3,
   "id": "c00f4a02",
   "metadata": {},
   "outputs": [],
   "source": [
    "path = \"C:/Users/aorhu/Masaüstü/body_mask.nii.gz\""
   ]
  },
  {
   "cell_type": "code",
   "execution_count": 4,
   "id": "d532d49f",
   "metadata": {},
   "outputs": [],
   "source": [
    "body_segment = nib.load(path)\n",
    "body_segment_data = body_segment.get_fdata()"
   ]
  },
  {
   "cell_type": "code",
   "execution_count": 5,
   "id": "b03abd83",
   "metadata": {},
   "outputs": [],
   "source": [
    "verts, faces, norms, vals = marching_cubes(body_segment_data, level=0, step_size=1)"
   ]
  },
  {
   "cell_type": "code",
   "execution_count": 6,
   "id": "e27dfc2e",
   "metadata": {},
   "outputs": [
    {
     "data": {
      "text/plain": [
       "array([[  1.,  59., 275.],\n",
       "       [  2.,  59., 274.],\n",
       "       [  2.,  58., 275.],\n",
       "       ...,\n",
       "       [223.,  68., 323.],\n",
       "       [223.,  69., 321.],\n",
       "       [223.,  70., 321.]], dtype=float32)"
      ]
     },
     "execution_count": 6,
     "metadata": {},
     "output_type": "execute_result"
    }
   ],
   "source": [
    "verts"
   ]
  },
  {
   "cell_type": "code",
   "execution_count": 7,
   "id": "2ff973d8",
   "metadata": {},
   "outputs": [
    {
     "data": {
      "text/plain": [
       "273145"
      ]
     },
     "execution_count": 7,
     "metadata": {},
     "output_type": "execute_result"
    }
   ],
   "source": [
    "len(verts)"
   ]
  },
  {
   "cell_type": "code",
   "execution_count": 8,
   "id": "7ca876c6",
   "metadata": {},
   "outputs": [
    {
     "data": {
      "text/plain": [
       "545964"
      ]
     },
     "execution_count": 8,
     "metadata": {},
     "output_type": "execute_result"
    }
   ],
   "source": [
    "len(faces)"
   ]
  },
  {
   "cell_type": "code",
   "execution_count": 9,
   "id": "4772e80f",
   "metadata": {},
   "outputs": [
    {
     "data": {
      "text/plain": [
       "array([[     2,      1,      0],\n",
       "       [     0,      3,      2],\n",
       "       [     1,      4,      0],\n",
       "       ...,\n",
       "       [273063, 273144, 273143],\n",
       "       [273144, 273073, 273068],\n",
       "       [273073, 273144, 273070]])"
      ]
     },
     "execution_count": 9,
     "metadata": {},
     "output_type": "execute_result"
    }
   ],
   "source": [
    "faces"
   ]
  },
  {
   "cell_type": "code",
   "execution_count": 7,
   "id": "f0893aa5",
   "metadata": {},
   "outputs": [],
   "source": [
    "verts = verts/np.array(body_segment_data.shape) "
   ]
  },
  {
   "cell_type": "markdown",
   "id": "ee21b72e",
   "metadata": {},
   "source": [
    "### open3d quadric_decimation"
   ]
  },
  {
   "cell_type": "code",
   "execution_count": 8,
   "id": "61bccf1f",
   "metadata": {},
   "outputs": [
    {
     "name": "stdout",
     "output_type": "stream",
     "text": [
      "The time of execution of above program is : 6.216066122055054 s\n",
      "The time of execution of above program is : 6216.066122055054 ms\n"
     ]
    }
   ],
   "source": [
    "mesh = o3d.geometry.TriangleMesh(vertices=o3d.utility.Vector3dVector(np.asarray(verts)),\n",
    "                                 triangles=o3d.utility.Vector3iVector(np.asarray(faces)))\n",
    "\n",
    "\n",
    "start = time.time()\n",
    "decimated_mesh = o3d.geometry.TriangleMesh.simplify_quadric_decimation(mesh, 25000)\n",
    "end = time.time()\n",
    "\n",
    "print(\"The time of execution of above program is :\",(end-start) , \"s\")\n",
    "print(\"The time of execution of above program is :\",(end-start) * 10**3, \"ms\")"
   ]
  },
  {
   "cell_type": "code",
   "execution_count": 11,
   "id": "665b1fd4",
   "metadata": {},
   "outputs": [
    {
     "data": {
      "text/plain": [
       "True"
      ]
     },
     "execution_count": 11,
     "metadata": {},
     "output_type": "execute_result"
    }
   ],
   "source": [
    "#### to save the object\n",
    "o3d.io.write_triangle_mesh(\"test.off\", decimated_mesh, print_progress=True )"
   ]
  },
  {
   "cell_type": "code",
   "execution_count": 12,
   "id": "ccb80ba5",
   "metadata": {},
   "outputs": [],
   "source": [
    "decimated_mesh = o3d.io.read_triangle_mesh('test.off')"
   ]
  },
  {
   "cell_type": "code",
   "execution_count": null,
   "id": "8bde344b",
   "metadata": {},
   "outputs": [],
   "source": [
    "decimated_mesh"
   ]
  },
  {
   "cell_type": "code",
   "execution_count": 74,
   "id": "e3402e30",
   "metadata": {},
   "outputs": [
    {
     "data": {
      "text/plain": [
       "std::vector<Eigen::Vector3i> with 545964 elements.\n",
       "Use numpy.asarray() to access data."
      ]
     },
     "execution_count": 74,
     "metadata": {},
     "output_type": "execute_result"
    }
   ],
   "source": [
    "mesh.triangles"
   ]
  },
  {
   "cell_type": "code",
   "execution_count": 13,
   "id": "531f2715",
   "metadata": {},
   "outputs": [
    {
     "data": {
      "text/plain": [
       "std::vector<Eigen::Vector3i> with 25000 elements.\n",
       "Use numpy.asarray() to access data."
      ]
     },
     "execution_count": 13,
     "metadata": {},
     "output_type": "execute_result"
    }
   ],
   "source": [
    "decimated_mesh.triangles"
   ]
  },
  {
   "cell_type": "code",
   "execution_count": 14,
   "id": "5423435c",
   "metadata": {},
   "outputs": [],
   "source": [
    "np.asarray(decimated_mesh.vertices)[:,1]= np.asarray(decimated_mesh.vertices)[:,1]+1"
   ]
  },
  {
   "cell_type": "code",
   "execution_count": 15,
   "id": "e7970cdb",
   "metadata": {},
   "outputs": [
    {
     "data": {
      "text/plain": [
       "TriangleMesh with 13324 points and 25000 triangles."
      ]
     },
     "execution_count": 15,
     "metadata": {},
     "output_type": "execute_result"
    }
   ],
   "source": [
    "original_mesh_paint = np.asarray([0,200,220])/255.0\n",
    "decimated_mesh_paint = np.asarray([230,200,110])/255.0\n",
    "mesh.paint_uniform_color(original_mesh_paint)\n",
    "decimated_mesh.paint_uniform_color(decimated_mesh_paint)"
   ]
  },
  {
   "cell_type": "code",
   "execution_count": 16,
   "id": "c4dfb190",
   "metadata": {},
   "outputs": [],
   "source": [
    "mesh.compute_vertex_normals()\n",
    "decimated_mesh.compute_vertex_normals()\n",
    "\n",
    "o3d.visualization.draw_geometries([decimated_mesh],mesh_show_back_face=True,mesh_show_wireframe=True)"
   ]
  },
  {
   "cell_type": "markdown",
   "id": "742447a9",
   "metadata": {},
   "source": [
    "#### clustering"
   ]
  },
  {
   "cell_type": "code",
   "execution_count": 35,
   "id": "ec13b8c4",
   "metadata": {},
   "outputs": [
    {
     "name": "stdout",
     "output_type": "stream",
     "text": [
      "voxel_size = 1.558196e-02\n",
      "Simplified mesh has 16836 vertices and 34368 triangles\n"
     ]
    }
   ],
   "source": [
    "voxel_size = max(mesh.get_max_bound() - mesh.get_min_bound()) / 64\n",
    "print(f'voxel_size = {voxel_size:e}')\n",
    "mesh_smp = mesh.simplify_vertex_clustering(\n",
    "    voxel_size=voxel_size,\n",
    "    contraction=o3d.geometry.SimplificationContraction.Average)\n",
    "print(\n",
    "    f'Simplified mesh has {len(mesh_smp.vertices)} vertices and {len(mesh_smp.triangles)} triangles'\n",
    ")"
   ]
  },
  {
   "cell_type": "code",
   "execution_count": 36,
   "id": "e878cdb6",
   "metadata": {},
   "outputs": [
    {
     "name": "stdout",
     "output_type": "stream",
     "text": [
      "[Open3D WARNING] [ViewControl] SetViewPoint() failed because window height and width are not set.\n"
     ]
    }
   ],
   "source": [
    "mesh_smp.compute_vertex_normals()\n",
    "o3d.visualization.draw_geometries([mesh_smp],mesh_show_back_face=True,mesh_show_wireframe=True)"
   ]
  },
  {
   "cell_type": "markdown",
   "id": "7b13b9ec",
   "metadata": {},
   "source": [
    "#### surface area and volume comparison"
   ]
  },
  {
   "cell_type": "code",
   "execution_count": 63,
   "id": "3466323a",
   "metadata": {},
   "outputs": [
    {
     "data": {
      "text/plain": [
       "3.586945150011545"
      ]
     },
     "execution_count": 63,
     "metadata": {},
     "output_type": "execute_result"
    }
   ],
   "source": [
    "mesh.get_surface_area()"
   ]
  },
  {
   "cell_type": "code",
   "execution_count": 72,
   "id": "b3b5353d",
   "metadata": {},
   "outputs": [
    {
     "data": {
      "text/plain": [
       "2.980661263744083"
      ]
     },
     "execution_count": 72,
     "metadata": {},
     "output_type": "execute_result"
    }
   ],
   "source": [
    "decimated_mesh.get_surface_area()"
   ]
  },
  {
   "cell_type": "markdown",
   "id": "1b6bf03c",
   "metadata": {},
   "source": [
    "### trimesh repair"
   ]
  },
  {
   "cell_type": "code",
   "execution_count": 52,
   "id": "b9966272",
   "metadata": {},
   "outputs": [],
   "source": [
    "import trimesh"
   ]
  },
  {
   "cell_type": "code",
   "execution_count": 53,
   "id": "c9867e0b",
   "metadata": {},
   "outputs": [],
   "source": [
    "tr_mesh= trimesh.Trimesh(vertices=verts, faces=faces)"
   ]
  },
  {
   "cell_type": "code",
   "execution_count": 60,
   "id": "3ca7b764",
   "metadata": {},
   "outputs": [
    {
     "data": {
      "text/plain": [
       "<trimesh.Trimesh(vertices.shape=(169857, 3), faces.shape=(545964, 3))>"
      ]
     },
     "execution_count": 60,
     "metadata": {},
     "output_type": "execute_result"
    }
   ],
   "source": [
    "tr_mesh"
   ]
  },
  {
   "cell_type": "code",
   "execution_count": 58,
   "id": "aff453ee",
   "metadata": {},
   "outputs": [
    {
     "data": {
      "text/plain": [
       "259839"
      ]
     },
     "execution_count": 58,
     "metadata": {},
     "output_type": "execute_result"
    }
   ],
   "source": [
    "len(trimesh.repair.broken_faces(tr_mesh))"
   ]
  },
  {
   "cell_type": "code",
   "execution_count": 55,
   "id": "c40bca2c",
   "metadata": {},
   "outputs": [
    {
     "data": {
      "text/plain": [
       "False"
      ]
     },
     "execution_count": 55,
     "metadata": {},
     "output_type": "execute_result"
    }
   ],
   "source": [
    "trimesh.repair.fill_holes(tr_mesh)"
   ]
  },
  {
   "cell_type": "code",
   "execution_count": 59,
   "id": "5b779eb5",
   "metadata": {},
   "outputs": [
    {
     "data": {
      "text/plain": [
       "<trimesh.Trimesh(vertices.shape=(169857, 3), faces.shape=(545964, 3))>"
      ]
     },
     "execution_count": 59,
     "metadata": {},
     "output_type": "execute_result"
    }
   ],
   "source": [
    "tr_mesh"
   ]
  },
  {
   "cell_type": "markdown",
   "id": "21778997",
   "metadata": {},
   "source": [
    "### pyvista decimation"
   ]
  },
  {
   "cell_type": "code",
   "execution_count": 18,
   "id": "01d57248",
   "metadata": {},
   "outputs": [],
   "source": [
    "edges = np.concatenate((faces[:,:2], faces[:,1:]), axis=0)\n",
    "lines = np.concatenate((np.int32(2*np.ones((edges.shape[0],1))), edges), 1)\n",
    "mesh = pyvista.PolyData(verts, pad_edge_list(faces))"
   ]
  },
  {
   "cell_type": "code",
   "execution_count": 19,
   "id": "2416b13c",
   "metadata": {},
   "outputs": [],
   "source": [
    "#decimated_mesh = mesh.decimate(0.5)\n",
    "pro_decimated = mesh.decimate_pro(0.2, preserve_topology=False)"
   ]
  },
  {
   "cell_type": "code",
   "execution_count": 22,
   "id": "e3ff1674",
   "metadata": {},
   "outputs": [],
   "source": [
    "pyvista.set_plot_theme(\"document\")\n",
    "#plotter = pyvista.Plotter(shape=(1, 1), window_size=[1000, 500], border=False)\n",
    "plotter = pyvista.Plotter(notebook=False)\n",
    "plotter.add_mesh(pro_decimated, render_points_as_spheres=False, color=\"lightcoral\", show_edges=True, line_width=0.3, edge_color='black', point_size=1)\n",
    "plotter.camera.zoom(3)\n",
    "plotter.set_position((0,-7,0))"
   ]
  },
  {
   "cell_type": "code",
   "execution_count": 23,
   "id": "8cffb63b",
   "metadata": {},
   "outputs": [],
   "source": [
    "plotter.show(auto_close=False)"
   ]
  },
  {
   "cell_type": "code",
   "execution_count": 20,
   "id": "7a7b5b32",
   "metadata": {},
   "outputs": [
    {
     "data": {
      "text/plain": [
       "2183856"
      ]
     },
     "execution_count": 20,
     "metadata": {},
     "output_type": "execute_result"
    }
   ],
   "source": [
    "len(mesh.faces)"
   ]
  },
  {
   "cell_type": "code",
   "execution_count": 21,
   "id": "8d2312e0",
   "metadata": {},
   "outputs": [
    {
     "data": {
      "text/plain": [
       "1747084"
      ]
     },
     "execution_count": 21,
     "metadata": {},
     "output_type": "execute_result"
    }
   ],
   "source": [
    "len(pro_decimated.faces)"
   ]
  },
  {
   "cell_type": "markdown",
   "id": "bccfbafc",
   "metadata": {},
   "source": [
    "### VTK decimation (not working)"
   ]
  },
  {
   "cell_type": "code",
   "execution_count": 27,
   "id": "4825528e",
   "metadata": {},
   "outputs": [],
   "source": [
    "import vtkmodules.vtkInteractionStyle\n",
    "import vtkmodules.vtkRenderingOpenGL2\n",
    "from vtkmodules.vtkCommonColor import vtkNamedColors\n",
    "from vtkmodules.vtkCommonDataModel import vtkPolyData\n",
    "from vtkmodules.vtkFiltersCore import (\n",
    "    vtkDecimatePro,\n",
    "    vtkTriangleFilter\n",
    ")\n",
    "import vtk"
   ]
  },
  {
   "cell_type": "code",
   "execution_count": 28,
   "id": "f0e6cec5",
   "metadata": {},
   "outputs": [],
   "source": [
    "mesh = vtkPolyData()"
   ]
  },
  {
   "cell_type": "code",
   "execution_count": 29,
   "id": "94b65015",
   "metadata": {},
   "outputs": [
    {
     "ename": "TypeError",
     "evalue": "method requires a string argument",
     "output_type": "error",
     "traceback": [
      "\u001b[1;31m---------------------------------------------------------------------------\u001b[0m",
      "\u001b[1;31mTypeError\u001b[0m                                 Traceback (most recent call last)",
      "Input \u001b[1;32mIn [29]\u001b[0m, in \u001b[0;36m<cell line: 1>\u001b[1;34m()\u001b[0m\n\u001b[1;32m----> 1\u001b[0m mesh\u001b[38;5;241m.\u001b[39mSetPoints(\u001b[43mvtk\u001b[49m\u001b[38;5;241;43m.\u001b[39;49m\u001b[43mvtkPoints\u001b[49m\u001b[43m(\u001b[49m\u001b[43mverts\u001b[49m\u001b[43m)\u001b[49m)\n",
      "\u001b[1;31mTypeError\u001b[0m: method requires a string argument"
     ]
    }
   ],
   "source": [
    "mesh.SetPoints(vtk.vtkPoints(verts))"
   ]
  },
  {
   "cell_type": "code",
   "execution_count": 30,
   "id": "8818c852",
   "metadata": {},
   "outputs": [
    {
     "data": {
      "text/plain": [
       "273145"
      ]
     },
     "execution_count": 30,
     "metadata": {},
     "output_type": "execute_result"
    }
   ],
   "source": [
    "verts.shape[0]"
   ]
  },
  {
   "cell_type": "code",
   "execution_count": 31,
   "id": "60c10ed5",
   "metadata": {},
   "outputs": [],
   "source": [
    "vpoints = vtk.vtkPoints()\n",
    "vpoints.SetNumberOfPoints(verts.shape[0])\n",
    "for i in range(verts.shape[0]):\n",
    "    vpoints.SetPoint(i, verts[i])\n",
    "mesh = vtk.vtkPolyData()\n",
    "mesh.SetPoints(vpoints)"
   ]
  },
  {
   "cell_type": "code",
   "execution_count": null,
   "id": "8ab0e1aa",
   "metadata": {},
   "outputs": [],
   "source": []
  }
 ],
 "metadata": {
  "kernelspec": {
   "display_name": "Python 3 (ipykernel)",
   "language": "python",
   "name": "python3"
  },
  "language_info": {
   "codemirror_mode": {
    "name": "ipython",
    "version": 3
   },
   "file_extension": ".py",
   "mimetype": "text/x-python",
   "name": "python",
   "nbconvert_exporter": "python",
   "pygments_lexer": "ipython3",
   "version": "3.9.12"
  },
  "vscode": {
   "interpreter": {
    "hash": "c1b4a9ce0126c7c6f1d5c93f5f744f89fa6f3ec67df4fb96740f02f79432b80e"
   }
  }
 },
 "nbformat": 4,
 "nbformat_minor": 5
}
