{
 "cells": [
  {
   "cell_type": "code",
   "execution_count": 1,
   "metadata": {},
   "outputs": [
    {
     "name": "stderr",
     "output_type": "stream",
     "text": [
      "INFO - 2023-06-24 15:22:26,676 - utils - Note: NumExpr detected 48 cores but \"NUMEXPR_MAX_THREADS\" not set, so enforcing safe limit of 8.\n",
      "INFO - 2023-06-24 15:22:26,677 - utils - NumExpr defaulting to 8 threads.\n"
     ]
    }
   ],
   "source": [
    "import numpy as np\n",
    "import open3d as o3d\n",
    "import nibabel as nib\n",
    "import pyvista\n",
    "from skimage.measure import marching_cubes\n",
    "import numpy as np\n",
    "import time"
   ]
  },
  {
   "cell_type": "code",
   "execution_count": null,
   "metadata": {},
   "outputs": [],
   "source": []
  },
  {
   "attachments": {},
   "cell_type": "markdown",
   "metadata": {},
   "source": [
    "### Get mesh via marching cube and visualize"
   ]
  },
  {
   "cell_type": "code",
   "execution_count": 27,
   "metadata": {},
   "outputs": [
    {
     "data": {
      "text/plain": [
       "array([1000071, 1000180, 1000456, ..., 6023419, 6023786, 6023955])"
      ]
     },
     "execution_count": 27,
     "metadata": {},
     "output_type": "execute_result"
    }
   ],
   "source": [
    "# IDs of MRI used for experiments\n",
    "ids_path = \"/vol/space/projects/ukbb/projects/silhouette/eids_filtered.npy\"\n",
    "ids = np.load(ids_path)\n",
    "ids"
   ]
  },
  {
   "cell_type": "code",
   "execution_count": 28,
   "metadata": {},
   "outputs": [],
   "source": [
    "# masked MRI example for visualization\n",
    "mri_path = \"/vol/space/projects/ukbb/projects/silhouette/labels/v1/3646767/body_mask.nii.gz\""
   ]
  },
  {
   "cell_type": "code",
   "execution_count": 29,
   "metadata": {},
   "outputs": [],
   "source": [
    "body_segment = nib.load(mri_path)\n",
    "body_segment_data = body_segment.get_fdata()\n",
    "# create mesh from masked MRI image\n",
    "verts, faces, norms, vals = marching_cubes(body_segment_data, level=0, step_size=1) \n",
    "verts = verts/np.array(body_segment_data.shape) \n",
    "edges = np.concatenate((faces[:,:2], faces[:,1:]), axis=0)"
   ]
  },
  {
   "cell_type": "code",
   "execution_count": 30,
   "metadata": {},
   "outputs": [
    {
     "data": {
      "text/plain": [
       "(511206, 3)"
      ]
     },
     "execution_count": 30,
     "metadata": {},
     "output_type": "execute_result"
    }
   ],
   "source": [
    "faces.shape"
   ]
  },
  {
   "cell_type": "code",
   "execution_count": 31,
   "metadata": {},
   "outputs": [
    {
     "data": {
      "text/plain": [
       "(255689, 3)"
      ]
     },
     "execution_count": 31,
     "metadata": {},
     "output_type": "execute_result"
    }
   ],
   "source": [
    "verts.shape"
   ]
  },
  {
   "cell_type": "code",
   "execution_count": 32,
   "metadata": {},
   "outputs": [
    {
     "data": {
      "text/plain": [
       "(1022412, 2)"
      ]
     },
     "execution_count": 32,
     "metadata": {},
     "output_type": "execute_result"
    }
   ],
   "source": [
    "edges.shape"
   ]
  },
  {
   "cell_type": "code",
   "execution_count": 33,
   "metadata": {},
   "outputs": [
    {
     "name": "stdout",
     "output_type": "stream",
     "text": [
      "\u001b[1;33m[Open3D WARNING] GLFW Error: X11: The DISPLAY environment variable is missing\u001b[0;m\n",
      "\u001b[1;33m[Open3D WARNING] Failed to initialize GLFW\u001b[0;m\n",
      "\u001b[1;33m[Open3D WARNING] [DrawGeometries] Failed creating OpenGL window.\u001b[0;m\n"
     ]
    }
   ],
   "source": [
    "# visualize original mesh\n",
    "mesh = o3d.geometry.TriangleMesh(vertices=o3d.utility.Vector3dVector(np.asarray(verts)),\n",
    "                                 triangles=o3d.utility.Vector3iVector(np.asarray(faces)))\n",
    "\n",
    "# uncomment out the following 2 lines for color-rendered visualization\n",
    "# original_mesh_paint = np.asarray([0,200,220])/255.0\n",
    "# mesh.paint_uniform_color(original_mesh_paint)\n",
    "\n",
    "mesh.compute_vertex_normals()\n",
    "mesh.compute_convex_hull()\n",
    "o3d.visualization.draw_geometries([mesh],mesh_show_back_face=True,mesh_show_wireframe=False)\n"
   ]
  },
  {
   "cell_type": "code",
   "execution_count": null,
   "metadata": {},
   "outputs": [],
   "source": []
  },
  {
   "attachments": {},
   "cell_type": "markdown",
   "metadata": {},
   "source": [
    "### decimate mesh and visualize"
   ]
  },
  {
   "cell_type": "code",
   "execution_count": 35,
   "metadata": {},
   "outputs": [
    {
     "name": "stdout",
     "output_type": "stream",
     "text": [
      "The time of execution of above program is : 7.822888612747192 s\n",
      "The time of execution of above program is : 7822.888612747192 ms\n",
      "\u001b[1;33m[Open3D WARNING] GLFW Error: X11: The DISPLAY environment variable is missing\u001b[0;m\n",
      "\u001b[1;33m[Open3D WARNING] Failed to initialize GLFW\u001b[0;m\n",
      "\u001b[1;33m[Open3D WARNING] [DrawGeometries] Failed creating OpenGL window.\u001b[0;m\n"
     ]
    }
   ],
   "source": [
    "# decimate mesh according to number of faces\n",
    "decimation_level = 1000 # how many faces left after decimation\n",
    "mesh = o3d.geometry.TriangleMesh(vertices=o3d.utility.Vector3dVector(np.asarray(verts)),\n",
    "                                 triangles=o3d.utility.Vector3iVector(np.asarray(faces)))\n",
    "\n",
    "\n",
    "start = time.time()\n",
    "decimated_mesh = o3d.geometry.TriangleMesh.simplify_quadric_decimation(mesh, decimation_level)\n",
    "end = time.time()\n",
    "\n",
    "print(\"The time of execution of above program is :\",(end-start) , \"s\")\n",
    "print(\"The time of execution of above program is :\",(end-start) * 10**3, \"ms\")\n",
    "\n",
    "# visualize \n",
    "\n",
    "# uncomment out the following 2 lines for color-rendered visualization\n",
    "# decimated_mesh_paint = np.asarray([230,200,110])/255.0\n",
    "# decimated_mesh.paint_uniform_color(decimated_mesh_paint)\n",
    "decimated_mesh.compute_vertex_normals()\n",
    "decimated_mesh.compute_convex_hull()\n",
    "o3d.visualization.draw_geometries([decimated_mesh],mesh_show_back_face=True,mesh_show_wireframe=False)"
   ]
  },
  {
   "attachments": {},
   "cell_type": "markdown",
   "metadata": {},
   "source": [
    "## Registration"
   ]
  },
  {
   "cell_type": "code",
   "execution_count": 36,
   "metadata": {},
   "outputs": [],
   "source": [
    "TARGET_SAMPLE = \"/vol/space/projects/ukbb/projects/silhouette/decimated_5/4266049.ply\"\n",
    "data_path = \"/vol/space/projects/ukbb/projects/silhouette/decimated_5/3946754.ply\"\n",
    "THRESHOLD = 0.02"
   ]
  },
  {
   "cell_type": "code",
   "execution_count": 37,
   "metadata": {},
   "outputs": [],
   "source": [
    "target_trm = o3d.io.read_triangle_mesh(TARGET_SAMPLE)\n",
    "target_trm.compute_vertex_normals()\n",
    "target_pcd = o3d.geometry.PointCloud(points = target_trm.vertices)\n",
    "target_pcd.estimate_normals()"
   ]
  },
  {
   "cell_type": "code",
   "execution_count": 38,
   "metadata": {},
   "outputs": [
    {
     "name": "stdout",
     "output_type": "stream",
     "text": [
      "The time of execution of above program is : 0.047873497009277344 s\n",
      "The time of execution of above program is : 47.873497009277344 ms\n"
     ]
    }
   ],
   "source": [
    "start = time.time()\n",
    "# reading source as triangle mesh\n",
    "source_trm = o3d.io.read_triangle_mesh(data_path)\n",
    "# creating a point cloud for ICP from triangle mesh\n",
    "source_pcd = o3d.geometry.PointCloud(points = source_trm.vertices)\n",
    "source_pcd.estimate_normals()\n",
    "# identity transformation\n",
    "trans_init = np.identity(4) \n",
    "reg_p2l = o3d.pipelines.registration.registration_icp(source_pcd, target_pcd, THRESHOLD, trans_init, o3d.pipelines.registration.TransformationEstimationPointToPlane())\n",
    "\n",
    "# apply transformation to source point cloud\n",
    "source_pcd.transform(reg_p2l.transformation)\n",
    "\n",
    "# create new triangle mesh object from transformed source point cloud and source triangle mesh face data\n",
    "new_mesh = o3d.geometry.TriangleMesh(vertices=o3d.utility.Vector3dVector(np.asarray(source_pcd.points)),\n",
    "                                        triangles=o3d.utility.Vector3iVector(np.asarray(source_trm.triangles)))\n",
    "new_mesh.compute_vertex_normals()\n",
    "\n",
    "end = time.time()\n",
    "\n",
    "print(\"The time of execution of above program is :\",(end-start) , \"s\")\n",
    "print(\"The time of execution of above program is :\",(end-start) * 10**3, \"ms\")\n"
   ]
  },
  {
   "cell_type": "code",
   "execution_count": null,
   "metadata": {},
   "outputs": [],
   "source": []
  },
  {
   "cell_type": "code",
   "execution_count": null,
   "metadata": {},
   "outputs": [],
   "source": []
  },
  {
   "cell_type": "code",
   "execution_count": 6,
   "metadata": {},
   "outputs": [],
   "source": [
    "mesh1k = o3d.io.read_triangle_mesh('/vol/space/projects/ukbb/projects/silhouette/registered_1/2784128.ply')\n",
    "mesh5k = o3d.io.read_triangle_mesh('/vol/space/projects/ukbb/projects/silhouette/decimated_5/2784128.ply')\n",
    "mesh10k = o3d.io.read_triangle_mesh('/vol/space/projects/ukbb/projects/silhouette/decimated_10/2784128.ply')\n",
    "mesh25k = o3d.io.read_triangle_mesh('/vol/space/projects/ukbb/projects/silhouette/decimated_25/2784128.ply')"
   ]
  },
  {
   "cell_type": "code",
   "execution_count": 7,
   "metadata": {},
   "outputs": [],
   "source": [
    "num_faces1k = len(mesh1k.triangles)\n",
    "num_faces5k = len(mesh5k.triangles)\n",
    "num_faces10k = len(mesh10k.triangles)\n",
    "num_faces25k = len(mesh25k.triangles)"
   ]
  },
  {
   "cell_type": "code",
   "execution_count": 8,
   "metadata": {},
   "outputs": [
    {
     "data": {
      "text/plain": [
       "1000"
      ]
     },
     "execution_count": 8,
     "metadata": {},
     "output_type": "execute_result"
    }
   ],
   "source": [
    "num_faces1k"
   ]
  },
  {
   "cell_type": "code",
   "execution_count": 5,
   "metadata": {},
   "outputs": [
    {
     "data": {
      "text/plain": [
       "4999"
      ]
     },
     "execution_count": 5,
     "metadata": {},
     "output_type": "execute_result"
    }
   ],
   "source": [
    "num_faces5k"
   ]
  },
  {
   "cell_type": "code",
   "execution_count": 8,
   "metadata": {},
   "outputs": [
    {
     "data": {
      "text/plain": [
       "10000"
      ]
     },
     "execution_count": 8,
     "metadata": {},
     "output_type": "execute_result"
    }
   ],
   "source": [
    "num_faces10k"
   ]
  },
  {
   "cell_type": "code",
   "execution_count": 9,
   "metadata": {},
   "outputs": [
    {
     "data": {
      "text/plain": [
       "24999"
      ]
     },
     "execution_count": 9,
     "metadata": {},
     "output_type": "execute_result"
    }
   ],
   "source": [
    "num_faces25k"
   ]
  },
  {
   "cell_type": "code",
   "execution_count": null,
   "metadata": {},
   "outputs": [],
   "source": []
  }
 ],
 "metadata": {
  "kernelspec": {
   "display_name": "gr_siyu",
   "language": "python",
   "name": "python3"
  },
  "language_info": {
   "codemirror_mode": {
    "name": "ipython",
    "version": 3
   },
   "file_extension": ".py",
   "mimetype": "text/x-python",
   "name": "python",
   "nbconvert_exporter": "python",
   "pygments_lexer": "ipython3",
   "version": "3.8.15"
  },
  "orig_nbformat": 4
 },
 "nbformat": 4,
 "nbformat_minor": 2
}
