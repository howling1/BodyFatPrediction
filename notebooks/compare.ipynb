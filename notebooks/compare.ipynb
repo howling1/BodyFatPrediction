{
 "cells": [
  {
   "cell_type": "code",
   "execution_count": 1,
   "id": "e15c3eb2",
   "metadata": {},
   "outputs": [
    {
     "name": "stdout",
     "output_type": "stream",
     "text": [
      "Jupyter environment detected. Enabling Open3D WebVisualizer.\n",
      "[Open3D INFO] WebRTC GUI backend enabled.\n",
      "[Open3D INFO] WebRTCWindowSystem: HTTP handshake server disabled.\n"
     ]
    }
   ],
   "source": [
    "import numpy as np\n",
    "import open3d as o3d"
   ]
  },
  {
   "cell_type": "code",
   "execution_count": 2,
   "id": "bd6c2245",
   "metadata": {},
   "outputs": [],
   "source": [
    "before = o3d.io.read_triangle_mesh(\"D:/ADLM_Data/decimated/1787929.ply\")\n",
    "after = o3d.io.read_triangle_mesh(\"D:/ADLM_Data/registered/1787929.ply\")\n"
   ]
  },
  {
   "cell_type": "code",
   "execution_count": 13,
   "id": "8f5d4ad4",
   "metadata": {},
   "outputs": [
    {
     "data": {
      "text/plain": [
       "TriangleMesh with 13387 points and 24999 triangles."
      ]
     },
     "execution_count": 13,
     "metadata": {},
     "output_type": "execute_result"
    }
   ],
   "source": [
    "before_paint = np.asarray([200,100,120])/255.0 #redish\n",
    "after_paint = np.asarray([230,200,110])/255.0 # yellowish\n",
    "before.paint_uniform_color(before_paint)\n",
    "after.paint_uniform_color(after_paint)"
   ]
  },
  {
   "cell_type": "code",
   "execution_count": 6,
   "id": "3b0b0c1e",
   "metadata": {},
   "outputs": [],
   "source": [
    "before.compute_vertex_normals()\n",
    "after.compute_vertex_normals()\n",
    "\n",
    "o3d.visualization.draw_geometries([before,after],mesh_show_back_face=True,mesh_show_wireframe=True)"
   ]
  },
  {
   "cell_type": "code",
   "execution_count": 8,
   "id": "77abfd7b",
   "metadata": {},
   "outputs": [],
   "source": [
    "average = o3d.io.read_triangle_mesh(\"D:/ADLM_Data/icp_target/4266049_25.ply\")\n"
   ]
  },
  {
   "cell_type": "code",
   "execution_count": 11,
   "id": "c4427ed3",
   "metadata": {},
   "outputs": [
    {
     "data": {
      "text/plain": [
       "TriangleMesh with 13311 points and 24999 triangles."
      ]
     },
     "execution_count": 11,
     "metadata": {},
     "output_type": "execute_result"
    }
   ],
   "source": [
    "average_paint = np.asarray([100,100,220])/255.0\n",
    "average.paint_uniform_color(average_paint)"
   ]
  },
  {
   "cell_type": "code",
   "execution_count": 12,
   "id": "cabd3602",
   "metadata": {},
   "outputs": [],
   "source": [
    "o3d.visualization.draw_geometries([average],mesh_show_back_face=True,mesh_show_wireframe=True)"
   ]
  },
  {
   "cell_type": "code",
   "execution_count": 21,
   "id": "d7b1483a",
   "metadata": {},
   "outputs": [],
   "source": [
    "o3d.visualization.draw_geometries([before,average],mesh_show_back_face=True,mesh_show_wireframe=True)"
   ]
  },
  {
   "cell_type": "code",
   "execution_count": 22,
   "id": "07cd895c",
   "metadata": {},
   "outputs": [],
   "source": [
    "o3d.visualization.draw_geometries([after,average],mesh_show_back_face=True,mesh_show_wireframe=True)"
   ]
  },
  {
   "cell_type": "code",
   "execution_count": 23,
   "id": "0e8745c0",
   "metadata": {},
   "outputs": [],
   "source": [
    "o3d.visualization.draw_geometries([before,after],mesh_show_back_face=True,mesh_show_wireframe=True)"
   ]
  },
  {
   "cell_type": "code",
   "execution_count": 19,
   "id": "724139bd",
   "metadata": {},
   "outputs": [
    {
     "ename": "TypeError",
     "evalue": "scatter() received an invalid combination of arguments - got (Tensor), but expected one of:\n * (int dim, Tensor index, Tensor src)\n * (int dim, Tensor index, Tensor src, *, str reduce)\n * (name dim, Tensor index, Tensor src)\n * (int dim, Tensor index, Number value)\n * (int dim, Tensor index, Number value, *, str reduce)\n * (name dim, Tensor index, Number value)\n",
     "output_type": "error",
     "traceback": [
      "\u001b[0;31m---------------------------------------------------------------------------\u001b[0m",
      "\u001b[0;31mTypeError\u001b[0m                                 Traceback (most recent call last)",
      "Cell \u001b[0;32mIn[19], line 6\u001b[0m\n\u001b[1;32m      4\u001b[0m t1 \u001b[39m=\u001b[39m torch\u001b[39m.\u001b[39mtensor([[\u001b[39m0\u001b[39m, \u001b[39m2\u001b[39m], [\u001b[39m2\u001b[39m, \u001b[39m2\u001b[39m], [\u001b[39m3\u001b[39m, \u001b[39m4\u001b[39m], [\u001b[39m7\u001b[39m, \u001b[39m8\u001b[39m], [\u001b[39m3\u001b[39m, \u001b[39m5\u001b[39m]])\n\u001b[1;32m      5\u001b[0m t2 \u001b[39m=\u001b[39m torch\u001b[39m.\u001b[39mtensor([\u001b[39m0\u001b[39m, \u001b[39m0\u001b[39m, \u001b[39m0\u001b[39m, \u001b[39m1\u001b[39m, \u001b[39m1\u001b[39m])\n\u001b[0;32m----> 6\u001b[0m out \u001b[39m=\u001b[39m Tensor\u001b[39m.\u001b[39;49mscatter(t1, t2)\n\u001b[1;32m      7\u001b[0m \u001b[39mprint\u001b[39m(out)\n",
      "\u001b[0;31mTypeError\u001b[0m: scatter() received an invalid combination of arguments - got (Tensor), but expected one of:\n * (int dim, Tensor index, Tensor src)\n * (int dim, Tensor index, Tensor src, *, str reduce)\n * (name dim, Tensor index, Tensor src)\n * (int dim, Tensor index, Number value)\n * (int dim, Tensor index, Number value, *, str reduce)\n * (name dim, Tensor index, Number value)\n"
     ]
    }
   ],
   "source": [
    "from torch_scatter import scatter_mean, scatter_max, scatter\n",
    "import torch\n",
    "\n",
    "t1 = torch.tensor([[0, 2], [2, 2], [3, 4], [7, 8], [3, 5]])\n",
    "t2 = torch.tensor([0, 0, 0, 1, 1])\n",
    "\n"
   ]
  },
  {
   "cell_type": "code",
   "execution_count": null,
   "id": "a1f6da63",
   "metadata": {},
   "outputs": [],
   "source": []
  }
 ],
 "metadata": {
  "kernelspec": {
   "display_name": "BodyMeshGNN",
   "language": "python",
   "name": "python3"
  },
  "language_info": {
   "codemirror_mode": {
    "name": "ipython",
    "version": 3
   },
   "file_extension": ".py",
   "mimetype": "text/x-python",
   "name": "python",
   "nbconvert_exporter": "python",
   "pygments_lexer": "ipython3",
   "version": "3.8.15"
  },
  "vscode": {
   "interpreter": {
    "hash": "8af44075707cc8c9354550679f0f25d171b3806dad23fe0aa1383a25d7554437"
   }
  }
 },
 "nbformat": 4,
 "nbformat_minor": 5
}
