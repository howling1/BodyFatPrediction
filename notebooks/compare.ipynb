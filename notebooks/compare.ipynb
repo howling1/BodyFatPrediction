{
 "cells": [
  {
   "cell_type": "code",
   "execution_count": 1,
   "id": "e15c3eb2",
   "metadata": {},
   "outputs": [
    {
     "name": "stdout",
     "output_type": "stream",
     "text": [
      "Jupyter environment detected. Enabling Open3D WebVisualizer.\n",
      "[Open3D INFO] WebRTC GUI backend enabled.\n",
      "[Open3D INFO] WebRTCWindowSystem: HTTP handshake server disabled.\n"
     ]
    }
   ],
   "source": [
    "import numpy as np\n",
    "import open3d as o3d"
   ]
  },
  {
   "cell_type": "code",
   "execution_count": 4,
   "id": "bd6c2245",
   "metadata": {},
   "outputs": [],
   "source": [
    "before = o3d.io.read_triangle_mesh(\"D:/ADLM_Data/decimated/1787929.ply\")\n",
    "after = o3d.io.read_triangle_mesh(\"D:/ADLM_Data/registered/1787929.ply\")\n"
   ]
  },
  {
   "cell_type": "code",
   "execution_count": 7,
   "id": "8f5d4ad4",
   "metadata": {},
   "outputs": [
    {
     "data": {
      "text/plain": [
       "TriangleMesh with 13387 points and 24999 triangles."
      ]
     },
     "execution_count": 7,
     "metadata": {},
     "output_type": "execute_result"
    }
   ],
   "source": [
    "before_paint = np.asarray([200,200,220])/255.0\n",
    "after_paint = np.asarray([230,200,110])/255.0 # yellowish\n",
    "before.paint_uniform_color(before_paint)\n",
    "after.paint_uniform_color(after_paint)"
   ]
  },
  {
   "cell_type": "code",
   "execution_count": null,
   "id": "3b0b0c1e",
   "metadata": {},
   "outputs": [],
   "source": [
    "before.compute_vertex_normals()\n",
    "after.compute_vertex_normals()\n",
    "\n",
    "o3d.visualization.draw_geometries([before,after],mesh_show_back_face=True,mesh_show_wireframe=True)"
   ]
  },
  {
   "cell_type": "code",
   "execution_count": null,
   "id": "77abfd7b",
   "metadata": {},
   "outputs": [],
   "source": []
  }
 ],
 "metadata": {
  "kernelspec": {
   "display_name": "Python 3 (ipykernel)",
   "language": "python",
   "name": "python3"
  },
  "language_info": {
   "codemirror_mode": {
    "name": "ipython",
    "version": 3
   },
   "file_extension": ".py",
   "mimetype": "text/x-python",
   "name": "python",
   "nbconvert_exporter": "python",
   "pygments_lexer": "ipython3",
   "version": "3.9.12"
  }
 },
 "nbformat": 4,
 "nbformat_minor": 5
}
