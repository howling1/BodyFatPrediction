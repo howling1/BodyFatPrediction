{
 "cells": [
  {
   "cell_type": "code",
   "execution_count": null,
   "id": "e15c3eb2",
   "metadata": {},
   "outputs": [],
   "source": [
    "import numpy as np\n",
    "import open3d as o3d"
   ]
  },
  {
   "cell_type": "code",
   "execution_count": null,
   "id": "bd6c2245",
   "metadata": {},
   "outputs": [],
   "source": [
    "before = o3d.io.read_triangle_mesh(\"D:/ADLM_Data/decimated/1787929.ply\")\n",
    "after = o3d.io.read_triangle_mesh(\"D:/ADLM_Data/registered/1787929.ply\")\n"
   ]
  },
  {
   "cell_type": "code",
   "execution_count": null,
   "id": "8f5d4ad4",
   "metadata": {},
   "outputs": [],
   "source": [
    "before_paint = np.asarray([200,100,120])/255.0 #redish\n",
    "after_paint = np.asarray([230,200,110])/255.0 # yellowish\n",
    "before.paint_uniform_color(before_paint)\n",
    "after.paint_uniform_color(after_paint)"
   ]
  },
  {
   "cell_type": "code",
   "execution_count": null,
   "id": "3b0b0c1e",
   "metadata": {},
   "outputs": [],
   "source": [
    "before.compute_vertex_normals()\n",
    "after.compute_vertex_normals()\n",
    "\n",
    "o3d.visualization.draw_geometries([before,after],mesh_show_back_face=True,mesh_show_wireframe=True)"
   ]
  },
  {
   "cell_type": "code",
   "execution_count": null,
   "id": "77abfd7b",
   "metadata": {},
   "outputs": [],
   "source": [
    "average = o3d.io.read_triangle_mesh(\"D:/ADLM_Data/icp_target/4266049_25.ply\")\n"
   ]
  },
  {
   "cell_type": "code",
   "execution_count": null,
   "id": "c4427ed3",
   "metadata": {},
   "outputs": [],
   "source": [
    "average_paint = np.asarray([100,100,220])/255.0\n",
    "average.paint_uniform_color(average_paint)"
   ]
  },
  {
   "cell_type": "code",
   "execution_count": null,
   "id": "cabd3602",
   "metadata": {},
   "outputs": [],
   "source": [
    "o3d.visualization.draw_geometries([average],mesh_show_back_face=True,mesh_show_wireframe=True)"
   ]
  },
  {
   "cell_type": "code",
   "execution_count": null,
   "id": "d7b1483a",
   "metadata": {},
   "outputs": [],
   "source": [
    "o3d.visualization.draw_geometries([before,average],mesh_show_back_face=True,mesh_show_wireframe=True)"
   ]
  },
  {
   "cell_type": "code",
   "execution_count": null,
   "id": "07cd895c",
   "metadata": {},
   "outputs": [],
   "source": [
    "o3d.visualization.draw_geometries([after,average],mesh_show_back_face=True,mesh_show_wireframe=True)"
   ]
  },
  {
   "cell_type": "code",
   "execution_count": null,
   "id": "0e8745c0",
   "metadata": {},
   "outputs": [],
   "source": [
    "o3d.visualization.draw_geometries([before,after],mesh_show_back_face=True,mesh_show_wireframe=True)"
   ]
  },
  {
   "cell_type": "code",
   "execution_count": null,
   "id": "724139bd",
   "metadata": {},
   "outputs": [],
   "source": [
    "from torch_scatter import scatter_mean, scatter_max, scatter\n",
    "import torch\n",
    "\n",
    "t1 = torch.tensor([[0, 2], [2, 2], [3, 4], [7, 8], [3, 5]])\n",
    "t2 = torch.tensor([0, 0, 0, 1, 1])\n",
    "\n"
   ]
  },
  {
   "cell_type": "code",
   "execution_count": null,
   "id": "a1f6da63",
   "metadata": {},
   "outputs": [],
   "source": []
  }
 ],
 "metadata": {
  "kernelspec": {
   "display_name": "Python 3",
   "language": "python",
   "name": "python3"
  },
  "language_info": {
   "codemirror_mode": {
    "name": "ipython",
    "version": 3
   },
   "file_extension": ".py",
   "mimetype": "text/x-python",
   "name": "python",
   "nbconvert_exporter": "python",
   "pygments_lexer": "ipython3",
   "version": "3.9.12"
  },
  "vscode": {
   "interpreter": {
    "hash": "2cd9f766dddf6af777865aeed029c7b81b01cd480dcec5e9fd0551e7303b3382"
   }
  }
 },
 "nbformat": 4,
 "nbformat_minor": 5
}
