{
 "cells": [
  {
   "cell_type": "code",
   "execution_count": 3,
   "metadata": {},
   "outputs": [
    {
     "name": "stderr",
     "output_type": "stream",
     "text": [
      "100%|██████████| 3/3 [00:00<00:00,  4.47it/s]\n"
     ]
    }
   ],
   "source": [
    "from pathlib import Path\n",
    "import glob\n",
    "import numpy as np\n",
    "from tqdm import tqdm\n",
    "import open3d as o3d\n",
    "\n",
    "\n",
    "DATA_ROOT = Path(\"/vol/space/projects/ukbb/projects/silhouette/decimated_1\")\n",
    "TARGET_ROOT = \"/vol/space/projects/ukbb/projects/silhouette/registered_1\"\n",
    "TARGET_SAMPLE = \"/vol/space/projects/ukbb/projects/silhouette/decimated_1/4266049.ply\"\n",
    "THRESHOLD = 0.02\n",
    "EXTENSION = \".ply\"\n",
    "\n",
    "def registering_ICP(DATA_ROOT, TARGET_ROOT, TARGET_SAMPLE, THRESHOLD, EXTENSION):\n",
    "    \"\"\"\n",
    "    Function to decimate the mesh data in the given folder\n",
    "    :param DATA_ROOT: folder path where all decimated mesh data are saved \n",
    "    :param TARGET_ROOT: path where the registered data will be saved\n",
    "    :param TARGET_SAMPLE: path to the target mesh that'll be used in the ICP\n",
    "    :param THRESHOLD: threshold for ICP \n",
    "    :param EXTENSION: extension of the files that will be saved\n",
    "    \"\"\"\n",
    "    for file in tqdm(glob.glob(str(DATA_ROOT / \"*.ply\"))):\n",
    "        _path = file.replace('\\\\', '/')\n",
    "\n",
    "        _id = _path[_path[:_path.rfind(\".\")].rfind(\"/\")+1:_path.rfind(\".\",0,)]\n",
    "\n",
    "        # reading target as triangle mesh and point cloud\n",
    "        target_trm = o3d.io.read_triangle_mesh(TARGET_SAMPLE)\n",
    "        target_trm.compute_vertex_normals()\n",
    "        target_pcd = o3d.geometry.PointCloud(points = target_trm.vertices)\n",
    "        target_pcd.estimate_normals()\n",
    "\n",
    "        # reading source as triangle mesh\n",
    "        source_trm = o3d.io.read_triangle_mesh(_path)\n",
    "        # creating a point cloud for ICP from triangle mesh\n",
    "        source_pcd = o3d.geometry.PointCloud(points = source_trm.vertices)\n",
    "        source_pcd.estimate_normals()\n",
    "        \n",
    "        # identity transformation\n",
    "        trans_init = np.identity(4)\n",
    "        \n",
    "        # find transformation for registering\n",
    "        reg_p2l = o3d.pipelines.registration.registration_icp(source_pcd, target_pcd, THRESHOLD, trans_init, o3d.pipelines.registration.TransformationEstimationPointToPlane())\n",
    "\n",
    "        # apply transformation to source point cloud\n",
    "        source_pcd.transform(reg_p2l.transformation)\n",
    "\n",
    "        # create new triangle mesh object from transformed source point cloud and source triangle mesh face data\n",
    "        new_mesh = o3d.geometry.TriangleMesh(vertices=o3d.utility.Vector3dVector(np.asarray(source_pcd.points)),\n",
    "                                             triangles=o3d.utility.Vector3iVector(np.asarray(source_trm.triangles)))\n",
    "        new_mesh.compute_vertex_normals()\n",
    "\n",
    "        # write the registered mesh \n",
    "        _target_path =  TARGET_ROOT + \"/\" + _id + EXTENSION\n",
    "        o3d.io.write_triangle_mesh( _target_path, new_mesh)\n",
    "\n",
    "\n",
    "def main():\n",
    "    \n",
    "    registering_ICP(DATA_ROOT, TARGET_ROOT, TARGET_SAMPLE, THRESHOLD, EXTENSION)\n",
    "\n",
    "if __name__ == \"__main__\":\n",
    "    main()\n"
   ]
  },
  {
   "cell_type": "code",
   "execution_count": null,
   "metadata": {},
   "outputs": [],
   "source": []
  }
 ],
 "metadata": {
  "kernelspec": {
   "display_name": "gr_siyu",
   "language": "python",
   "name": "python3"
  },
  "language_info": {
   "codemirror_mode": {
    "name": "ipython",
    "version": 3
   },
   "file_extension": ".py",
   "mimetype": "text/x-python",
   "name": "python",
   "nbconvert_exporter": "python",
   "pygments_lexer": "ipython3",
   "version": "3.8.15"
  },
  "orig_nbformat": 4
 },
 "nbformat": 4,
 "nbformat_minor": 2
}
