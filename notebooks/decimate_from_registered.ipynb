{
 "cells": [
  {
   "cell_type": "code",
   "execution_count": 1,
   "metadata": {},
   "outputs": [
    {
     "name": "stderr",
     "output_type": "stream",
     "text": [
      "INFO - 2023-06-28 15:20:25,060 - utils - Note: NumExpr detected 48 cores but \"NUMEXPR_MAX_THREADS\" not set, so enforcing safe limit of 8.\n",
      "INFO - 2023-06-28 15:20:25,061 - utils - NumExpr defaulting to 8 threads.\n"
     ]
    }
   ],
   "source": [
    "from pathlib import Path\n",
    "import glob\n",
    "import numpy as np\n",
    "from tqdm import tqdm\n",
    "import open3d as o3d"
   ]
  },
  {
   "cell_type": "code",
   "execution_count": 50,
   "metadata": {},
   "outputs": [],
   "source": [
    "def decimate(DATA_ROOT, TARGET_ROOT, FACES, EXTENSION):\n",
    "    for file in tqdm(glob.glob(str(DATA_ROOT / \"*.ply\"))):\n",
    "        _path = file.replace('\\\\', '/')\n",
    "\n",
    "        _id = _path[_path[:_path.rfind(\".\")].rfind(\"/\")+1:_path.rfind(\".\",0,)]\n",
    "\n",
    "        original_mesh = o3d.io.read_triangle_mesh(_path)\n",
    "        decimated_mesh = o3d.geometry.TriangleMesh.simplify_quadric_decimation(original_mesh, FACES)\n",
    "\n",
    "        # 获取顶点和面的索引\n",
    "        vertices = np.asarray(decimated_mesh.vertices)\n",
    "        triangles = np.asarray(decimated_mesh.triangles)\n",
    "\n",
    "        # 计算每个顶点的度数\n",
    "        vertex_degrees = np.zeros(len(vertices), dtype=int)\n",
    "        for i in range(len(triangles)):\n",
    "            v1, v2, v3 = triangles[i]\n",
    "            vertex_degrees[v1] += 1\n",
    "            vertex_degrees[v2] += 1\n",
    "            vertex_degrees[v3] += 1\n",
    "\n",
    "        # 找到度数为0的顶点的索引\n",
    "        zero_degree_vertices = np.where(vertex_degrees == 0)[0]\n",
    "\n",
    "        decimated_mesh.remove_vertices_by_index(zero_degree_vertices)\n",
    "\n",
    "        _target_path =  TARGET_ROOT + \"/\" + _id + EXTENSION\n",
    "        o3d.io.write_triangle_mesh(_target_path, decimated_mesh)"
   ]
  },
  {
   "cell_type": "code",
   "execution_count": 51,
   "metadata": {},
   "outputs": [],
   "source": [
    "def drop_vertex(DATA_ROOT, TARGET_ROOT, EXTENSION):\n",
    "    for file in tqdm(glob.glob(str(DATA_ROOT / \"*.ply\"))):\n",
    "        _path = file.replace('\\\\', '/')\n",
    "\n",
    "        _id = _path[_path[:_path.rfind(\".\")].rfind(\"/\")+1:_path.rfind(\".\",0,)]\n",
    "\n",
    "        original_mesh = o3d.io.read_triangle_mesh(_path)\n",
    "\n",
    "        # 获取顶点和面的索引\n",
    "        vertices = np.asarray(original_mesh.vertices)\n",
    "        triangles = np.asarray(original_mesh.triangles)\n",
    "\n",
    "        # 计算每个顶点的度数\n",
    "        vertex_degrees = np.zeros(len(vertices), dtype=int)\n",
    "        for i in range(len(triangles)):\n",
    "            v1, v2, v3 = triangles[i]\n",
    "            vertex_degrees[v1] += 1\n",
    "            vertex_degrees[v2] += 1\n",
    "            vertex_degrees[v3] += 1\n",
    "\n",
    "        # 找到度数为0的顶点的索引\n",
    "        zero_degree_vertices = np.where(vertex_degrees == 0)[0]\n",
    "\n",
    "        original_mesh.remove_vertices_by_index(zero_degree_vertices)\n",
    "\n",
    "        _target_path =  TARGET_ROOT + \"/\" + _id + EXTENSION\n",
    "        o3d.io.write_triangle_mesh(_target_path, original_mesh)"
   ]
  },
  {
   "cell_type": "code",
   "execution_count": 120,
   "metadata": {},
   "outputs": [],
   "source": [
    "DATA_ROOT = Path(\"/vol/space/projects/ukbb/projects/silhouette/registered_10\")\n",
    "TARGET_ROOT = \"/vol/space/projects/ukbb/projects/silhouette/registered_10k_faces\"\n",
    "EXTENSION = \".ply\""
   ]
  },
  {
   "cell_type": "code",
   "execution_count": 121,
   "metadata": {},
   "outputs": [
    {
     "name": "stderr",
     "output_type": "stream",
     "text": [
      "  1%|          | 288/44200 [00:52<2:37:49,  4.64it/s]"
     ]
    }
   ],
   "source": [
    "drop_vertex(DATA_ROOT, TARGET_ROOT, EXTENSION)"
   ]
  },
  {
   "cell_type": "code",
   "execution_count": 54,
   "metadata": {},
   "outputs": [],
   "source": [
    "DATA_ROOT = Path(\"/vol/space/projects/ukbb/projects/silhouette/decimated_1\")\n",
    "TARGET_ROOT = \"/vol/space/projects/ukbb/projects/silhouette/decimated_50_faces\"\n",
    "FACES = 50\n",
    "EXTENSION = \".ply\""
   ]
  },
  {
   "cell_type": "code",
   "execution_count": 55,
   "metadata": {},
   "outputs": [
    {
     "name": "stderr",
     "output_type": "stream",
     "text": [
      "  0%|          | 0/25299 [00:00<?, ?it/s]"
     ]
    },
    {
     "name": "stderr",
     "output_type": "stream",
     "text": [
      "100%|██████████| 25299/25299 [06:59<00:00, 60.28it/s]\n"
     ]
    }
   ],
   "source": [
    "decimate(DATA_ROOT, TARGET_ROOT, FACES, EXTENSION)"
   ]
  },
  {
   "cell_type": "code",
   "execution_count": 46,
   "metadata": {},
   "outputs": [],
   "source": [
    "example_path = \"/vol/space/projects/ukbb/projects/silhouette/registered_50_faces/1959257.ply\""
   ]
  },
  {
   "cell_type": "code",
   "execution_count": 47,
   "metadata": {},
   "outputs": [],
   "source": [
    "original_mesh = o3d.io.read_triangle_mesh(example_path)"
   ]
  },
  {
   "cell_type": "code",
   "execution_count": 48,
   "metadata": {},
   "outputs": [
    {
     "data": {
      "text/plain": [
       "std::vector<Eigen::Vector3i> with 49 elements.\n",
       "Use numpy.asarray() to access data."
      ]
     },
     "execution_count": 48,
     "metadata": {},
     "output_type": "execute_result"
    }
   ],
   "source": [
    "original_mesh.triangles"
   ]
  },
  {
   "cell_type": "code",
   "execution_count": 49,
   "metadata": {},
   "outputs": [
    {
     "data": {
      "text/plain": [
       "(27, 3)"
      ]
     },
     "execution_count": 49,
     "metadata": {},
     "output_type": "execute_result"
    }
   ],
   "source": [
    "np.array(original_mesh.vertices).shape"
   ]
  },
  {
   "cell_type": "code",
   "execution_count": null,
   "metadata": {},
   "outputs": [],
   "source": []
  },
  {
   "cell_type": "code",
   "execution_count": null,
   "metadata": {},
   "outputs": [],
   "source": []
  }
 ],
 "metadata": {
  "kernelspec": {
   "display_name": "gr_siyu",
   "language": "python",
   "name": "python3"
  },
  "language_info": {
   "codemirror_mode": {
    "name": "ipython",
    "version": 3
   },
   "file_extension": ".py",
   "mimetype": "text/x-python",
   "name": "python",
   "nbconvert_exporter": "python",
   "pygments_lexer": "ipython3",
   "version": "3.8.15"
  },
  "orig_nbformat": 4
 },
 "nbformat": 4,
 "nbformat_minor": 2
}
