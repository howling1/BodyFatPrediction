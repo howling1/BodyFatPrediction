{
 "cells": [
  {
   "cell_type": "code",
   "execution_count": 1,
   "id": "b702c649",
   "metadata": {},
   "outputs": [
    {
     "name": "stdout",
     "output_type": "stream",
     "text": [
      "Jupyter environment detected. Enabling Open3D WebVisualizer.\n",
      "[Open3D INFO] WebRTC GUI backend enabled.\n",
      "[Open3D INFO] WebRTCWindowSystem: HTTP handshake server disabled.\n"
     ]
    }
   ],
   "source": [
    "from pathlib import Path\n",
    "import glob\n",
    "import os\n",
    "import numpy as np\n",
    "import pandas as pd\n",
    "from tqdm import tqdm\n",
    "import copy\n",
    "\n",
    "import open3d as o3d\n",
    "import nibabel as nib\n",
    "from skimage.measure import marching_cubes\n"
   ]
  },
  {
   "cell_type": "code",
   "execution_count": 2,
   "id": "d990124c",
   "metadata": {},
   "outputs": [],
   "source": [
    "DATA_ROOT = Path(\"C:/Users/aorhu/Masaüstü/samples\")\n",
    "TARGET_ROOT = \"D:/decimated\"\n",
    "VERTICES = 25000\n",
    "EXTENSION = \".ply\"\n",
    "LIMIT = 10000\n",
    "COUNT = 0"
   ]
  },
  {
   "cell_type": "code",
   "execution_count": 3,
   "id": "0ed03cdd",
   "metadata": {},
   "outputs": [],
   "source": [
    "def process(DATA_ROOT, TARGET_ROOT, VERTICES, EXTENSION, LIMIT, COUNT):\n",
    "\n",
    "    for file in tqdm(os.listdir(str(DATA_ROOT))):\n",
    "        _path = str(os.path.join(str(DATA_ROOT), file).replace('\\\\', '/')) +'/body_mask.nii.gz'\n",
    "    \n",
    "        _id = _path[_path[:_path.rfind(\"/\")].rfind(\"/\")+1:_path.rfind(\"/\",0,)]\n",
    "        \n",
    "        if(os.path.exists(_path) and (LIMIT > COUNT) ):\n",
    "            \n",
    "            body_segment = nib.load(_path)\n",
    "            body_segment_data = body_segment.get_fdata()\n",
    "\n",
    "            verts, faces, _, __ = marching_cubes(body_segment_data, level=0, step_size=1)\n",
    "            verts = verts/np.array(body_segment_data.shape) \n",
    "\n",
    "            mesh = o3d.geometry.TriangleMesh(vertices=o3d.utility.Vector3dVector(np.asarray(verts)),\n",
    "                                        triangles=o3d.utility.Vector3iVector(np.asarray(faces)))\n",
    "\n",
    "            decimated_mesh = o3d.geometry.TriangleMesh.simplify_quadric_decimation(mesh, VERTICES)\n",
    "            \n",
    "            if (len(decimated_mesh.triangles) == VERTICES):\n",
    "                _target_path =  TARGET_ROOT + \"/\" + _id + EXTENSION\n",
    "                print( _target_path)\n",
    "                o3d.io.write_triangle_mesh( _target_path, decimated_mesh)\n",
    "                print('\\r' + str(COUNT) + \"written\", end='')\n",
    "                COUNT += 1\n",
    "        else:\n",
    "            continue"
   ]
  },
  {
   "cell_type": "code",
   "execution_count": 4,
   "id": "556b891a",
   "metadata": {},
   "outputs": [
    {
     "name": "stderr",
     "output_type": "stream",
     "text": [
      " 25%|█████████████████████                                                               | 1/4 [00:07<00:21,  7.14s/it]"
     ]
    },
    {
     "name": "stdout",
     "output_type": "stream",
     "text": [
      "D:/decimated/1000071.ply\n",
      "\r",
      "0written"
     ]
    },
    {
     "name": "stderr",
     "output_type": "stream",
     "text": [
      "\r",
      " 50%|██████████████████████████████████████████                                          | 2/4 [00:13<00:13,  6.82s/it]"
     ]
    },
    {
     "name": "stdout",
     "output_type": "stream",
     "text": [
      "D:/decimated/1000125.ply\n",
      "\r",
      "1written"
     ]
    },
    {
     "name": "stderr",
     "output_type": "stream",
     "text": [
      "\r",
      " 75%|███████████████████████████████████████████████████████████████                     | 3/4 [00:20<00:06,  6.98s/it]"
     ]
    },
    {
     "name": "stdout",
     "output_type": "stream",
     "text": [
      "D:/decimated/1002371.ply\n",
      "\r",
      "2written"
     ]
    },
    {
     "name": "stderr",
     "output_type": "stream",
     "text": [
      "100%|████████████████████████████████████████████████████████████████████████████████████| 4/4 [00:30<00:00,  7.51s/it]\n"
     ]
    }
   ],
   "source": [
    "process(DATA_ROOT, TARGET_ROOT, VERTICES, EXTENSION, LIMIT, COUNT)"
   ]
  },
  {
   "cell_type": "code",
   "execution_count": 5,
   "id": "bea4bbb5",
   "metadata": {},
   "outputs": [],
   "source": [
    "TARGET_ROOT = Path(\"D:/decimated\")"
   ]
  },
  {
   "cell_type": "code",
   "execution_count": 6,
   "id": "9d572b9a",
   "metadata": {},
   "outputs": [
    {
     "name": "stdout",
     "output_type": "stream",
     "text": [
      "D:/decimated/1000071.ply\n",
      "D:/decimated/1000125.ply\n",
      "D:/decimated/1002371.ply\n"
     ]
    }
   ],
   "source": [
    "for file in glob.glob(str(TARGET_ROOT / \"*.ply\")):\n",
    "    _path = file.replace('\\\\', '/')\n",
    "    print(_path)"
   ]
  },
  {
   "cell_type": "code",
   "execution_count": 7,
   "id": "453366d8",
   "metadata": {},
   "outputs": [],
   "source": [
    "def draw_registration_result(source, target):\n",
    "    source_temp = copy.deepcopy(source)\n",
    "    target_temp = copy.deepcopy(target)\n",
    "    source_temp.paint_uniform_color([1, 0.706, 0])\n",
    "    target_temp.paint_uniform_color([0, 0.651, 0.929])\n",
    "    o3d.visualization.draw_geometries([source_temp, target_temp])"
   ]
  },
  {
   "cell_type": "code",
   "execution_count": 8,
   "id": "d49c9a34",
   "metadata": {},
   "outputs": [],
   "source": [
    "source = o3d.io.read_point_cloud(\"D:/decimated/1000071.ply\")\n",
    "target = o3d.io.read_point_cloud(\"D:/decimated/1000125.ply\")\n",
    "threshold = 0.02\n",
    "\n",
    "draw_registration_result(source, target)"
   ]
  },
  {
   "cell_type": "code",
   "execution_count": 9,
   "id": "4c403c49",
   "metadata": {},
   "outputs": [],
   "source": [
    "source.estimate_normals()\n",
    "target.estimate_normals()"
   ]
  },
  {
   "cell_type": "code",
   "execution_count": 10,
   "id": "08ee9ca4",
   "metadata": {},
   "outputs": [],
   "source": [
    "threshold = 0.02\n",
    "\n",
    "draw_registration_result(source, target)"
   ]
  },
  {
   "cell_type": "code",
   "execution_count": 12,
   "id": "e57bd11f",
   "metadata": {},
   "outputs": [],
   "source": [
    "trans_init = np.identity(4)"
   ]
  },
  {
   "cell_type": "code",
   "execution_count": 13,
   "id": "b22e335b",
   "metadata": {},
   "outputs": [],
   "source": [
    "reg_p2l = o3d.pipelines.registration.registration_icp(\n",
    "    source, target, threshold, trans_init, \n",
    "    o3d.pipelines.registration.TransformationEstimationPointToPlane())"
   ]
  },
  {
   "cell_type": "code",
   "execution_count": 76,
   "id": "1ef9a87a",
   "metadata": {},
   "outputs": [
    {
     "data": {
      "text/plain": [
       "array([[ 0.99908441, -0.01597169,  0.03968939, -0.02482255],\n",
       "       [ 0.01370679,  0.99829736,  0.05669659, -0.04617666],\n",
       "       [-0.04052735, -0.05610067,  0.99760225,  0.01434219],\n",
       "       [ 0.        ,  0.        ,  0.        ,  1.        ]])"
      ]
     },
     "execution_count": 76,
     "metadata": {},
     "output_type": "execute_result"
    }
   ],
   "source": [
    "reg_p2l.transformation"
   ]
  },
  {
   "cell_type": "code",
   "execution_count": 15,
   "id": "d9d646cf",
   "metadata": {},
   "outputs": [],
   "source": [
    "source_temp = copy.deepcopy(source)"
   ]
  },
  {
   "cell_type": "code",
   "execution_count": 16,
   "id": "540b763d",
   "metadata": {},
   "outputs": [
    {
     "data": {
      "text/plain": [
       "PointCloud with 13324 points."
      ]
     },
     "execution_count": 16,
     "metadata": {},
     "output_type": "execute_result"
    }
   ],
   "source": [
    "source_temp.transform(reg_p2l.transformation)"
   ]
  },
  {
   "cell_type": "code",
   "execution_count": 17,
   "id": "7ed76296",
   "metadata": {},
   "outputs": [
    {
     "data": {
      "text/plain": [
       "array([[0.01060268, 0.35267857, 0.75619835],\n",
       "       [0.01450893, 0.3452381 , 0.75826446],\n",
       "       [0.01785714, 0.35119048, 0.7630854 ],\n",
       "       ...,\n",
       "       [0.99107143, 0.375     , 0.80440771],\n",
       "       [0.99553571, 0.41666667, 0.88429752],\n",
       "       [0.99553571, 0.3422619 , 0.88842975]])"
      ]
     },
     "execution_count": 17,
     "metadata": {},
     "output_type": "execute_result"
    }
   ],
   "source": [
    "np.asarray(source.points)"
   ]
  },
  {
   "cell_type": "code",
   "execution_count": 18,
   "id": "c20f66b4",
   "metadata": {},
   "outputs": [
    {
     "data": {
      "text/plain": [
       "array([[0.0101506 , 0.34892063, 0.74851216],\n",
       "       [0.01425411, 0.3416635 , 0.75083243],\n",
       "       [0.01769553, 0.34792497, 0.75517218],\n",
       "       ...,\n",
       "       [0.99127853, 0.38737643, 0.75561788],\n",
       "       [0.99824402, 0.43356283, 0.83279768],\n",
       "       [0.9995964 , 0.35951904, 0.84109416]])"
      ]
     },
     "execution_count": 18,
     "metadata": {},
     "output_type": "execute_result"
    }
   ],
   "source": [
    "np.asarray(source_temp.points)"
   ]
  },
  {
   "cell_type": "code",
   "execution_count": 19,
   "id": "881213bd",
   "metadata": {},
   "outputs": [],
   "source": [
    "o3d.visualization.draw_geometries([source_temp, source])"
   ]
  },
  {
   "cell_type": "code",
   "execution_count": 3,
   "id": "bd25f446",
   "metadata": {},
   "outputs": [],
   "source": [
    "sample_pcd = o3d.io.read_point_cloud(\"D:/ADLM_Data/icp_target/4266049_5.ply\")"
   ]
  },
  {
   "cell_type": "code",
   "execution_count": 4,
   "id": "8bbd4908",
   "metadata": {},
   "outputs": [],
   "source": [
    "o3d.visualization.draw_geometries([sample_pcd])"
   ]
  },
  {
   "cell_type": "markdown",
   "id": "6ac72c8f",
   "metadata": {},
   "source": [
    "### reading as triangle mesh, converting to pcd, apply icp, convert to triangle mesh and write a triangle mesh"
   ]
  },
  {
   "cell_type": "code",
   "execution_count": 37,
   "id": "027fc242",
   "metadata": {},
   "outputs": [],
   "source": [
    "target_trm = o3d.io.read_triangle_mesh(\"D:/ADLM_Data/icp_target/4266049_25.ply\")\n",
    "target_trm.compute_vertex_normals()\n",
    "target_pcd = o3d.geometry.PointCloud(points = target_trm.vertices)\n",
    "target_pcd.estimate_normals()"
   ]
  },
  {
   "cell_type": "code",
   "execution_count": 38,
   "id": "2a577aef",
   "metadata": {},
   "outputs": [],
   "source": [
    "o3d.visualization.draw_geometries([target_trm],mesh_show_back_face=True,mesh_show_wireframe=True)"
   ]
  },
  {
   "cell_type": "code",
   "execution_count": 17,
   "id": "45df3c86",
   "metadata": {},
   "outputs": [],
   "source": [
    "def draw_registration_result(source, target):\n",
    "    source_temp = copy.deepcopy(source)\n",
    "    target_temp = copy.deepcopy(target)\n",
    "    source_temp.paint_uniform_color([1, 0.706, 0])\n",
    "    target_temp.paint_uniform_color([0, 0.651, 0.929])\n",
    "    o3d.visualization.draw_geometries([source_temp, target_temp])"
   ]
  },
  {
   "cell_type": "code",
   "execution_count": 39,
   "id": "09796d68",
   "metadata": {},
   "outputs": [],
   "source": [
    "source_trm = o3d.io.read_triangle_mesh(\"D:/ADLM_Data/decimated/1000071.ply\")"
   ]
  },
  {
   "cell_type": "code",
   "execution_count": 40,
   "id": "4789e892",
   "metadata": {},
   "outputs": [
    {
     "data": {
      "text/plain": [
       "TriangleMesh with 13324 points and 25000 triangles."
      ]
     },
     "execution_count": 40,
     "metadata": {},
     "output_type": "execute_result"
    }
   ],
   "source": [
    "source_trm"
   ]
  },
  {
   "cell_type": "markdown",
   "id": "e81ae661",
   "metadata": {},
   "source": [
    "#### convert to pcd"
   ]
  },
  {
   "cell_type": "code",
   "execution_count": 41,
   "id": "f1df22e8",
   "metadata": {},
   "outputs": [],
   "source": [
    "source_pcd = o3d.geometry.PointCloud(points = source_trm.vertices)\n",
    "source_pcd.estimate_normals()"
   ]
  },
  {
   "cell_type": "code",
   "execution_count": 42,
   "id": "1c0e2e4d",
   "metadata": {},
   "outputs": [],
   "source": [
    "threshold = 0.02\n",
    "trans_init = np.identity(4)"
   ]
  },
  {
   "cell_type": "code",
   "execution_count": 43,
   "id": "2a07754d",
   "metadata": {},
   "outputs": [],
   "source": [
    "reg_p2l = o3d.pipelines.registration.registration_icp(\n",
    "    source_pcd, target_pcd, threshold, trans_init, \n",
    "    o3d.pipelines.registration.TransformationEstimationPointToPlane())"
   ]
  },
  {
   "cell_type": "code",
   "execution_count": 44,
   "id": "55d8e2c8",
   "metadata": {},
   "outputs": [
    {
     "data": {
      "text/plain": [
       "array([[ 0.99934494, -0.01791597,  0.0314438 , -0.01544623],\n",
       "       [ 0.01796202,  0.99983797, -0.00118271, -0.00478638],\n",
       "       [-0.03141752,  0.00174673,  0.99950482,  0.01857422],\n",
       "       [ 0.        ,  0.        ,  0.        ,  1.        ]])"
      ]
     },
     "execution_count": 44,
     "metadata": {},
     "output_type": "execute_result"
    }
   ],
   "source": [
    "reg_p2l.transformation"
   ]
  },
  {
   "cell_type": "code",
   "execution_count": 45,
   "id": "aa1bccab",
   "metadata": {},
   "outputs": [],
   "source": [
    "source_temp = copy.deepcopy(source_pcd)"
   ]
  },
  {
   "cell_type": "code",
   "execution_count": 46,
   "id": "4833469d",
   "metadata": {},
   "outputs": [
    {
     "data": {
      "text/plain": [
       "PointCloud with 13324 points."
      ]
     },
     "execution_count": 46,
     "metadata": {},
     "output_type": "execute_result"
    }
   ],
   "source": [
    "source_temp.transform(reg_p2l.transformation)"
   ]
  },
  {
   "cell_type": "code",
   "execution_count": 47,
   "id": "2dcbf01e",
   "metadata": {},
   "outputs": [
    {
     "data": {
      "text/plain": [
       "array([[0.01060268, 0.35267857, 0.75619835],\n",
       "       [0.01450893, 0.3452381 , 0.75826446],\n",
       "       [0.01785714, 0.35119048, 0.7630854 ],\n",
       "       ...,\n",
       "       [0.99107143, 0.375     , 0.80440771],\n",
       "       [0.99553571, 0.41666667, 0.88429752],\n",
       "       [0.99553571, 0.3422619 , 0.88842975]])"
      ]
     },
     "execution_count": 47,
     "metadata": {},
     "output_type": "execute_result"
    }
   ],
   "source": [
    "np.asarray(source_pcd.points)\n"
   ]
  },
  {
   "cell_type": "code",
   "execution_count": 48,
   "id": "8200537f",
   "metadata": {},
   "outputs": [
    {
     "data": {
      "text/plain": [
       "array([[0.01260868, 0.34713113, 0.77468104],\n",
       "       [0.01671064, 0.33975958, 0.77661041],\n",
       "       [0.02010161, 0.34576543, 0.78133416],\n",
       "       ...,\n",
       "       [0.99355114, 0.38700312, 0.79210163],\n",
       "       [0.99977804, 0.42864874, 0.8718844 ],\n",
       "       [1.00124101, 0.35425114, 0.87588462]])"
      ]
     },
     "execution_count": 48,
     "metadata": {},
     "output_type": "execute_result"
    }
   ],
   "source": [
    "np.asarray(source_temp.points)"
   ]
  },
  {
   "cell_type": "code",
   "execution_count": 49,
   "id": "d1201ac2",
   "metadata": {},
   "outputs": [],
   "source": [
    "o3d.visualization.draw_geometries([source_temp, source_pcd])"
   ]
  },
  {
   "cell_type": "code",
   "execution_count": 50,
   "id": "c7fd981d",
   "metadata": {},
   "outputs": [
    {
     "data": {
      "text/plain": [
       "TriangleMesh with 13324 points and 25000 triangles."
      ]
     },
     "execution_count": 50,
     "metadata": {},
     "output_type": "execute_result"
    }
   ],
   "source": [
    "new_mesh = o3d.geometry.TriangleMesh(vertices=o3d.utility.Vector3dVector(np.asarray(source_temp.points)),\n",
    "                                    triangles=o3d.utility.Vector3iVector(np.asarray(source_trm.triangles)))\n",
    "new_mesh.compute_vertex_normals()"
   ]
  },
  {
   "cell_type": "code",
   "execution_count": 51,
   "id": "fb076435",
   "metadata": {},
   "outputs": [
    {
     "data": {
      "text/plain": [
       "TriangleMesh with 13324 points and 25000 triangles."
      ]
     },
     "execution_count": 51,
     "metadata": {},
     "output_type": "execute_result"
    }
   ],
   "source": [
    "original_mesh_paint = np.asarray([0,200,220])/255.0\n",
    "registered_mesh_paint = np.asarray([230,200,110])/255.0\n",
    "source_trm.paint_uniform_color(original_mesh_paint)\n",
    "new_mesh.paint_uniform_color(registered_mesh_paint)"
   ]
  },
  {
   "cell_type": "code",
   "execution_count": 52,
   "id": "d0528d35",
   "metadata": {},
   "outputs": [],
   "source": [
    "source_trm.compute_vertex_normals()\n",
    "new_mesh.compute_vertex_normals()\n",
    "\n",
    "o3d.visualization.draw_geometries([source_trm,new_mesh],mesh_show_back_face=True,mesh_show_wireframe=True)"
   ]
  },
  {
   "cell_type": "code",
   "execution_count": null,
   "id": "6f010d65",
   "metadata": {},
   "outputs": [],
   "source": []
  }
 ],
 "metadata": {
  "kernelspec": {
   "display_name": "Python 3 (ipykernel)",
   "language": "python",
   "name": "python3"
  },
  "language_info": {
   "codemirror_mode": {
    "name": "ipython",
    "version": 3
   },
   "file_extension": ".py",
   "mimetype": "text/x-python",
   "name": "python",
   "nbconvert_exporter": "python",
   "pygments_lexer": "ipython3",
   "version": "3.9.12"
  }
 },
 "nbformat": 4,
 "nbformat_minor": 5
}
