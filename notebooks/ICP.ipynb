{
 "cells": [
  {
   "cell_type": "code",
   "execution_count": null,
   "id": "b702c649",
   "metadata": {},
   "outputs": [],
   "source": [
    "from pathlib import Path\n",
    "import glob\n",
    "import os\n",
    "import numpy as np\n",
    "import pandas as pd\n",
    "from tqdm import tqdm\n",
    "import copy\n",
    "\n",
    "import open3d as o3d\n",
    "import nibabel as nib\n",
    "from skimage.measure import marching_cubes\n"
   ]
  },
  {
   "cell_type": "code",
   "execution_count": null,
   "id": "d990124c",
   "metadata": {},
   "outputs": [],
   "source": [
    "DATA_ROOT = Path(\"C:/Users/aorhu/Masaüstü/samples\")\n",
    "TARGET_ROOT = \"D:/decimated\"\n",
    "VERTICES = 25000\n",
    "EXTENSION = \".ply\"\n",
    "LIMIT = 10000\n",
    "COUNT = 0"
   ]
  },
  {
   "cell_type": "code",
   "execution_count": null,
   "id": "0ed03cdd",
   "metadata": {},
   "outputs": [],
   "source": [
    "def process(DATA_ROOT, TARGET_ROOT, VERTICES, EXTENSION, LIMIT, COUNT):\n",
    "\n",
    "    for file in tqdm(os.listdir(str(DATA_ROOT))):\n",
    "        _path = str(os.path.join(str(DATA_ROOT), file).replace('\\\\', '/')) +'/body_mask.nii.gz'\n",
    "    \n",
    "        _id = _path[_path[:_path.rfind(\"/\")].rfind(\"/\")+1:_path.rfind(\"/\",0,)]\n",
    "        \n",
    "        if(os.path.exists(_path) and (LIMIT > COUNT) ):\n",
    "            \n",
    "            body_segment = nib.load(_path)\n",
    "            body_segment_data = body_segment.get_fdata()\n",
    "\n",
    "            verts, faces, _, __ = marching_cubes(body_segment_data, level=0, step_size=1)\n",
    "            verts = verts/np.array(body_segment_data.shape) \n",
    "\n",
    "            mesh = o3d.geometry.TriangleMesh(vertices=o3d.utility.Vector3dVector(np.asarray(verts)),\n",
    "                                        triangles=o3d.utility.Vector3iVector(np.asarray(faces)))\n",
    "\n",
    "            decimated_mesh = o3d.geometry.TriangleMesh.simplify_quadric_decimation(mesh, VERTICES)\n",
    "            \n",
    "            if (len(decimated_mesh.triangles) == VERTICES):\n",
    "                _target_path =  TARGET_ROOT + \"/\" + _id + EXTENSION\n",
    "                print( _target_path)\n",
    "                o3d.io.write_triangle_mesh( _target_path, decimated_mesh)\n",
    "                print('\\r' + str(COUNT) + \"written\", end='')\n",
    "                COUNT += 1\n",
    "        else:\n",
    "            continue"
   ]
  },
  {
   "cell_type": "code",
   "execution_count": null,
   "id": "556b891a",
   "metadata": {},
   "outputs": [],
   "source": [
    "process(DATA_ROOT, TARGET_ROOT, VERTICES, EXTENSION, LIMIT, COUNT)"
   ]
  },
  {
   "cell_type": "code",
   "execution_count": null,
   "id": "bea4bbb5",
   "metadata": {},
   "outputs": [],
   "source": [
    "TARGET_ROOT = Path(\"D:/decimated\")"
   ]
  },
  {
   "cell_type": "code",
   "execution_count": null,
   "id": "9d572b9a",
   "metadata": {},
   "outputs": [],
   "source": [
    "for file in glob.glob(str(TARGET_ROOT / \"*.ply\")):\n",
    "    _path = file.replace('\\\\', '/')\n",
    "    print(_path)"
   ]
  },
  {
   "cell_type": "code",
   "execution_count": null,
   "id": "453366d8",
   "metadata": {},
   "outputs": [],
   "source": [
    "def draw_registration_result(source, target):\n",
    "    source_temp = copy.deepcopy(source)\n",
    "    target_temp = copy.deepcopy(target)\n",
    "    source_temp.paint_uniform_color([1, 0.706, 0])\n",
    "    target_temp.paint_uniform_color([0, 0.651, 0.929])\n",
    "    o3d.visualization.draw_geometries([source_temp, target_temp])"
   ]
  },
  {
   "cell_type": "code",
   "execution_count": null,
   "id": "d49c9a34",
   "metadata": {},
   "outputs": [],
   "source": [
    "source = o3d.io.read_point_cloud(\"D:/decimated/1000071.ply\")\n",
    "target = o3d.io.read_point_cloud(\"D:/decimated/1000125.ply\")\n",
    "threshold = 0.02\n",
    "\n",
    "draw_registration_result(source, target)"
   ]
  },
  {
   "cell_type": "code",
   "execution_count": null,
   "id": "4c403c49",
   "metadata": {},
   "outputs": [],
   "source": [
    "source.estimate_normals()\n",
    "target.estimate_normals()"
   ]
  },
  {
   "cell_type": "code",
   "execution_count": null,
   "id": "08ee9ca4",
   "metadata": {},
   "outputs": [],
   "source": [
    "threshold = 0.02\n",
    "\n",
    "draw_registration_result(source, target)"
   ]
  },
  {
   "cell_type": "code",
   "execution_count": null,
   "id": "e57bd11f",
   "metadata": {},
   "outputs": [],
   "source": [
    "trans_init = np.identity(4)"
   ]
  },
  {
   "cell_type": "code",
   "execution_count": null,
   "id": "b22e335b",
   "metadata": {},
   "outputs": [],
   "source": [
    "reg_p2l = o3d.pipelines.registration.registration_icp(\n",
    "    source, target, threshold, trans_init, \n",
    "    o3d.pipelines.registration.TransformationEstimationPointToPlane())"
   ]
  },
  {
   "cell_type": "code",
   "execution_count": null,
   "id": "1ef9a87a",
   "metadata": {},
   "outputs": [],
   "source": [
    "reg_p2l.transformation"
   ]
  },
  {
   "cell_type": "code",
   "execution_count": null,
   "id": "d9d646cf",
   "metadata": {},
   "outputs": [],
   "source": [
    "source_temp = copy.deepcopy(source)"
   ]
  },
  {
   "cell_type": "code",
   "execution_count": null,
   "id": "540b763d",
   "metadata": {},
   "outputs": [],
   "source": [
    "source_temp.transform(reg_p2l.transformation)"
   ]
  },
  {
   "cell_type": "code",
   "execution_count": null,
   "id": "7ed76296",
   "metadata": {},
   "outputs": [],
   "source": [
    "np.asarray(source.points)"
   ]
  },
  {
   "cell_type": "code",
   "execution_count": null,
   "id": "c20f66b4",
   "metadata": {},
   "outputs": [],
   "source": [
    "np.asarray(source_temp.points)"
   ]
  },
  {
   "cell_type": "code",
   "execution_count": null,
   "id": "881213bd",
   "metadata": {},
   "outputs": [],
   "source": [
    "o3d.visualization.draw_geometries([source_temp, source])"
   ]
  },
  {
   "cell_type": "code",
   "execution_count": null,
   "id": "bd25f446",
   "metadata": {},
   "outputs": [],
   "source": [
    "sample_pcd = o3d.io.read_point_cloud(\"D:/ADLM_Data/icp_target/4266049_5.ply\")"
   ]
  },
  {
   "cell_type": "code",
   "execution_count": null,
   "id": "8bbd4908",
   "metadata": {},
   "outputs": [],
   "source": [
    "o3d.visualization.draw_geometries([sample_pcd])"
   ]
  },
  {
   "cell_type": "markdown",
   "id": "6ac72c8f",
   "metadata": {},
   "source": [
    "### reading as triangle mesh, converting to pcd, apply icp, convert to triangle mesh and write a triangle mesh"
   ]
  },
  {
   "cell_type": "code",
   "execution_count": null,
   "id": "027fc242",
   "metadata": {},
   "outputs": [],
   "source": [
    "target_trm = o3d.io.read_triangle_mesh(\"D:/ADLM_Data/icp_target/4266049_25.ply\")\n",
    "target_trm.compute_vertex_normals()\n",
    "target_pcd = o3d.geometry.PointCloud(points = target_trm.vertices)\n",
    "target_pcd.estimate_normals()"
   ]
  },
  {
   "cell_type": "code",
   "execution_count": null,
   "id": "2a577aef",
   "metadata": {},
   "outputs": [],
   "source": [
    "o3d.visualization.draw_geometries([target_trm],mesh_show_back_face=True,mesh_show_wireframe=True)"
   ]
  },
  {
   "cell_type": "code",
   "execution_count": null,
   "id": "45df3c86",
   "metadata": {},
   "outputs": [],
   "source": [
    "def draw_registration_result(source, target):\n",
    "    source_temp = copy.deepcopy(source)\n",
    "    target_temp = copy.deepcopy(target)\n",
    "    source_temp.paint_uniform_color([1, 0.706, 0])\n",
    "    target_temp.paint_uniform_color([0, 0.651, 0.929])\n",
    "    o3d.visualization.draw_geometries([source_temp, target_temp])"
   ]
  },
  {
   "cell_type": "code",
   "execution_count": null,
   "id": "09796d68",
   "metadata": {},
   "outputs": [],
   "source": [
    "source_trm = o3d.io.read_triangle_mesh(\"D:/ADLM_Data/decimated/1000071.ply\")"
   ]
  },
  {
   "cell_type": "code",
   "execution_count": null,
   "id": "4789e892",
   "metadata": {},
   "outputs": [],
   "source": [
    "source_trm"
   ]
  },
  {
   "cell_type": "markdown",
   "id": "e81ae661",
   "metadata": {},
   "source": [
    "#### convert to pcd"
   ]
  },
  {
   "cell_type": "code",
   "execution_count": null,
   "id": "f1df22e8",
   "metadata": {},
   "outputs": [],
   "source": [
    "source_pcd = o3d.geometry.PointCloud(points = source_trm.vertices)\n",
    "source_pcd.estimate_normals()"
   ]
  },
  {
   "cell_type": "code",
   "execution_count": null,
   "id": "1c0e2e4d",
   "metadata": {},
   "outputs": [],
   "source": [
    "threshold = 0.02\n",
    "trans_init = np.identity(4)"
   ]
  },
  {
   "cell_type": "code",
   "execution_count": null,
   "id": "2a07754d",
   "metadata": {},
   "outputs": [],
   "source": [
    "reg_p2l = o3d.pipelines.registration.registration_icp(\n",
    "    source_pcd, target_pcd, threshold, trans_init, \n",
    "    o3d.pipelines.registration.TransformationEstimationPointToPlane())"
   ]
  },
  {
   "cell_type": "code",
   "execution_count": null,
   "id": "55d8e2c8",
   "metadata": {},
   "outputs": [],
   "source": [
    "reg_p2l.transformation"
   ]
  },
  {
   "cell_type": "code",
   "execution_count": null,
   "id": "aa1bccab",
   "metadata": {},
   "outputs": [],
   "source": [
    "source_temp = copy.deepcopy(source_pcd)"
   ]
  },
  {
   "cell_type": "code",
   "execution_count": null,
   "id": "4833469d",
   "metadata": {},
   "outputs": [],
   "source": [
    "source_temp.transform(reg_p2l.transformation)"
   ]
  },
  {
   "cell_type": "code",
   "execution_count": null,
   "id": "2dcbf01e",
   "metadata": {},
   "outputs": [],
   "source": [
    "np.asarray(source_pcd.points)\n"
   ]
  },
  {
   "cell_type": "code",
   "execution_count": null,
   "id": "8200537f",
   "metadata": {},
   "outputs": [],
   "source": [
    "np.asarray(source_temp.points)"
   ]
  },
  {
   "cell_type": "code",
   "execution_count": null,
   "id": "d1201ac2",
   "metadata": {},
   "outputs": [],
   "source": [
    "o3d.visualization.draw_geometries([source_temp, source_pcd])"
   ]
  },
  {
   "cell_type": "code",
   "execution_count": null,
   "id": "c7fd981d",
   "metadata": {},
   "outputs": [],
   "source": [
    "new_mesh = o3d.geometry.TriangleMesh(vertices=o3d.utility.Vector3dVector(np.asarray(source_temp.points)),\n",
    "                                    triangles=o3d.utility.Vector3iVector(np.asarray(source_trm.triangles)))\n",
    "new_mesh.compute_vertex_normals()"
   ]
  },
  {
   "cell_type": "code",
   "execution_count": null,
   "id": "fb076435",
   "metadata": {},
   "outputs": [],
   "source": [
    "original_mesh_paint = np.asarray([0,200,220])/255.0\n",
    "registered_mesh_paint = np.asarray([230,200,110])/255.0\n",
    "source_trm.paint_uniform_color(original_mesh_paint)\n",
    "new_mesh.paint_uniform_color(registered_mesh_paint)"
   ]
  },
  {
   "cell_type": "code",
   "execution_count": null,
   "id": "d0528d35",
   "metadata": {},
   "outputs": [],
   "source": [
    "source_trm.compute_vertex_normals()\n",
    "new_mesh.compute_vertex_normals()\n",
    "\n",
    "o3d.visualization.draw_geometries([source_trm,new_mesh],mesh_show_back_face=True,mesh_show_wireframe=True)"
   ]
  },
  {
   "cell_type": "code",
   "execution_count": null,
   "id": "6f010d65",
   "metadata": {},
   "outputs": [],
   "source": []
  }
 ],
 "metadata": {
  "kernelspec": {
   "display_name": "Python 3",
   "language": "python",
   "name": "python3"
  },
  "language_info": {
   "codemirror_mode": {
    "name": "ipython",
    "version": 3
   },
   "file_extension": ".py",
   "mimetype": "text/x-python",
   "name": "python",
   "nbconvert_exporter": "python",
   "pygments_lexer": "ipython3",
   "version": "3.9.12"
  },
  "vscode": {
   "interpreter": {
    "hash": "2cd9f766dddf6af777865aeed029c7b81b01cd480dcec5e9fd0551e7303b3382"
   }
  }
 },
 "nbformat": 4,
 "nbformat_minor": 5
}
