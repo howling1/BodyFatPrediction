{
 "cells": [
  {
   "cell_type": "code",
   "execution_count": 1,
   "id": "7a8cad2d",
   "metadata": {},
   "outputs": [
    {
     "name": "stdout",
     "output_type": "stream",
     "text": [
      "Jupyter environment detected. Enabling Open3D WebVisualizer.\n",
      "[Open3D INFO] WebRTC GUI backend enabled.\n",
      "[Open3D INFO] WebRTCWindowSystem: HTTP handshake server disabled.\n"
     ]
    }
   ],
   "source": [
    "import nibabel as nib\n",
    "from skimage.measure import marching_cubes\n",
    "import numpy as np\n",
    "import open3d as o3d"
   ]
  },
  {
   "cell_type": "code",
   "execution_count": 2,
   "id": "f33662e6",
   "metadata": {},
   "outputs": [],
   "source": [
    "def pad_edge_list(edges):\n",
    "    padding = np.ones(edges.shape[0], int)*3\n",
    "    edges_w_padding = np.vstack((padding, edges.T)).T\n",
    "    return edges_w_padding"
   ]
  },
  {
   "cell_type": "code",
   "execution_count": 3,
   "id": "c00f4a02",
   "metadata": {},
   "outputs": [],
   "source": [
    "path = \"C:/Users/aorhu/Masaüstü/body_mask.nii.gz\""
   ]
  },
  {
   "cell_type": "code",
   "execution_count": 4,
   "id": "d532d49f",
   "metadata": {},
   "outputs": [],
   "source": [
    "body_segment = nib.load(path)\n",
    "body_segment_data = body_segment.get_fdata()"
   ]
  },
  {
   "cell_type": "code",
   "execution_count": 5,
   "id": "b03abd83",
   "metadata": {},
   "outputs": [],
   "source": [
    "verts, faces, norms, vals = marching_cubes(body_segment_data, level=0, step_size=1)"
   ]
  },
  {
   "cell_type": "code",
   "execution_count": 6,
   "id": "f0893aa5",
   "metadata": {},
   "outputs": [],
   "source": [
    "verts = verts/np.array(body_segment_data.shape) "
   ]
  },
  {
   "cell_type": "code",
   "execution_count": 7,
   "id": "55989050",
   "metadata": {},
   "outputs": [
    {
     "data": {
      "text/plain": [
       "545964"
      ]
     },
     "execution_count": 7,
     "metadata": {},
     "output_type": "execute_result"
    }
   ],
   "source": [
    "len(faces)"
   ]
  },
  {
   "cell_type": "code",
   "execution_count": 8,
   "id": "11ea7831",
   "metadata": {},
   "outputs": [
    {
     "data": {
      "text/plain": [
       "273145"
      ]
     },
     "execution_count": 8,
     "metadata": {},
     "output_type": "execute_result"
    }
   ],
   "source": [
    "len(verts)"
   ]
  },
  {
   "cell_type": "markdown",
   "id": "ee21b72e",
   "metadata": {},
   "source": [
    "### open3d quadric_decimation"
   ]
  },
  {
   "cell_type": "code",
   "execution_count": 9,
   "id": "61bccf1f",
   "metadata": {},
   "outputs": [],
   "source": [
    "mesh = o3d.geometry.TriangleMesh(vertices=o3d.utility.Vector3dVector(np.asarray(verts)),\n",
    "                                 triangles=o3d.utility.Vector3iVector(np.asarray(faces)))\n",
    "\n",
    "\n",
    "decimated_mesh = o3d.geometry.TriangleMesh.simplify_quadric_decimation(mesh, 10000)"
   ]
  },
  {
   "cell_type": "code",
   "execution_count": 10,
   "id": "531f2715",
   "metadata": {},
   "outputs": [
    {
     "data": {
      "text/plain": [
       "std::vector<Eigen::Vector3i> with 9999 elements.\n",
       "Use numpy.asarray() to access data."
      ]
     },
     "execution_count": 10,
     "metadata": {},
     "output_type": "execute_result"
    }
   ],
   "source": [
    "decimated_mesh.triangles"
   ]
  },
  {
   "cell_type": "code",
   "execution_count": 11,
   "id": "5423435c",
   "metadata": {},
   "outputs": [],
   "source": [
    "np.asarray(decimated_mesh.vertices)[:,1]= np.asarray(decimated_mesh.vertices)[:,1]+1"
   ]
  },
  {
   "cell_type": "code",
   "execution_count": 12,
   "id": "e7970cdb",
   "metadata": {},
   "outputs": [
    {
     "data": {
      "text/plain": [
       "TriangleMesh with 5873 points and 9999 triangles."
      ]
     },
     "execution_count": 12,
     "metadata": {},
     "output_type": "execute_result"
    }
   ],
   "source": [
    "original_mesh_paint = np.asarray([139,0,0])/255.0\n",
    "decimated_mesh_paint = np.asarray([51,255,153])/255.0\n",
    "mesh.paint_uniform_color(original_mesh_paint)\n",
    "decimated_mesh.paint_uniform_color(decimated_mesh_paint)"
   ]
  },
  {
   "cell_type": "code",
   "execution_count": 13,
   "id": "c4dfb190",
   "metadata": {},
   "outputs": [],
   "source": [
    "mesh.compute_vertex_normals()\n",
    "decimated_mesh.compute_vertex_normals()\n",
    "\n",
    "o3d.visualization.draw_geometries([mesh,decimated_mesh],mesh_show_back_face=True,mesh_show_wireframe=False)"
   ]
  }
 ],
 "metadata": {
  "kernelspec": {
   "display_name": "Python 3 (ipykernel)",
   "language": "python",
   "name": "python3"
  },
  "language_info": {
   "codemirror_mode": {
    "name": "ipython",
    "version": 3
   },
   "file_extension": ".py",
   "mimetype": "text/x-python",
   "name": "python",
   "nbconvert_exporter": "python",
   "pygments_lexer": "ipython3",
   "version": "3.9.12"
  }
 },
 "nbformat": 4,
 "nbformat_minor": 5
}
